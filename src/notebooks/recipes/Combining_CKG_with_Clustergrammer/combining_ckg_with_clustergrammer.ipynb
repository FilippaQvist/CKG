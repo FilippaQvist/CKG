{
 "cells": [
  {
   "cell_type": "code",
   "execution_count": 1,
   "metadata": {},
   "outputs": [
    {
     "name": "stdout",
     "output_type": "stream",
     "text": [
      ">> clustergrammer2 backend version 0.17.0\n"
     ]
    }
   ],
   "source": [
    "import pandas as pd\n",
    "import numpy as np\n",
    "import matplotlib.pyplot as plt\n",
    "import seaborn as sns\n",
    "import ipywidgets as widgets\n",
    "import src.utils as utils\n",
    "import ipywidgets\n",
    "from clustergrammer2 import net\n",
    "from scipy.stats import zscore"
   ]
  },
  {
   "cell_type": "code",
   "execution_count": 2,
   "metadata": {},
   "outputs": [],
   "source": [
    "import os\n",
    "CPUS = os.cpu_count()\n",
    "RANDOMSTATE = 29\n",
    "DATAFOLDER = 'proteomics'"
   ]
  },
  {
   "cell_type": "code",
   "execution_count": 3,
   "metadata": {},
   "outputs": [],
   "source": [
    "def flip_dict(dict_to_flip):\n",
    "    \n",
    "    \"\"\"\n",
    "    Takes a dictionary as input and return a new dictionary with values and keys of the old dictionary switched. \n",
    "    Takes care of same value corresponding to multiple key situation. \n",
    "    \n",
    "    ----------\n",
    "    Parameters:\n",
    "    dict_to_flip: python dictionary object, keys as string or number, values as list\n",
    "    \n",
    "    Return: python dictionarly object\n",
    "    \n",
    "    Example: old_dict = {'i': ['a', 'b'],\n",
    "                        'j': ['b', 'c']}\n",
    "            new_dict = flip_dict(old_dict)\n",
    "            new_dict\n",
    "            {'a':'i', 'b':'i', 'c':'j'}\n",
    "    \"\"\"\n",
    "    \n",
    "    new_dict = {}\n",
    "    old_keys = dict_to_flip.keys()\n",
    "    for old_key in old_keys:\n",
    "        old_values = dict_to_flip[old_key]\n",
    "        for old_value in old_values:\n",
    "            if old_value in new_dict.keys():\n",
    "                pass\n",
    "            else:\n",
    "                new_dict[old_value] = old_key\n",
    "    \n",
    "    return new_dict"
   ]
  },
  {
   "cell_type": "code",
   "execution_count": 4,
   "metadata": {},
   "outputs": [],
   "source": [
    "def return_keyword_item(data, kw, kw_col='Disease', item_col='Proteins'):\n",
    "    \n",
    "    \"\"\"\n",
    "    Takes a pandas dataframe and return values in kw_col that contains keyword (kw), \n",
    "    and return a collection of all items in item_col of rows that contain keyword in kw_col.\n",
    "    \n",
    "    Parameters:\n",
    "    ----------\n",
    "    kw: string, keyword\n",
    "    data: pandas dataframe\n",
    "    kw_col: column to look for keyword\n",
    "    item_col: column to extract items\n",
    "    \"\"\"\n",
    "    \n",
    "    df = data.copy()\n",
    "    kw_rel = list(set([i for i in df[kw_col] if kw in i]))\n",
    "    items_kw_rel = df[df[kw_col].isin(kw_rel)][item_col].unique().tolist()\n",
    "    \n",
    "    return kw_rel, items_kw_rel"
   ]
  },
  {
   "cell_type": "markdown",
   "metadata": {},
   "source": [
    "### Explore CKG output datasets"
   ]
  },
  {
   "cell_type": "markdown",
   "metadata": {},
   "source": [
    "#### Display files"
   ]
  },
  {
   "cell_type": "code",
   "execution_count": 5,
   "metadata": {
    "jupyter": {
     "source_hidden": true
    }
   },
   "outputs": [
    {
     "data": {
      "application/vnd.jupyter.widget-view+json": {
       "model_id": "402cede154984cb0b01c6fe50b5bc67b",
       "version_major": 2,
       "version_minor": 0
      },
      "text/plain": [
       "VBox(children=(Dropdown(index=5, options=('complex_associations.tsv', 'correlation_correlation.tsv', 'Data Mat…"
      ]
     },
     "metadata": {},
     "output_type": "display_data"
    }
   ],
   "source": [
    "pd.set_option('max_columns', 9)\n",
    "\n",
    "files = [file for file in os.listdir(DATAFOLDER) if '.tsv' in file]\n",
    "w_data = widgets.Dropdown(options=files, index=5)\n",
    "\n",
    "def show_data(file):\n",
    "    filename = os.path.join(DATAFOLDER, file)\n",
    "    global data # only here to show-case data for report\n",
    "    try:\n",
    "        data = pd.read_csv(filename, sep='\\t', index_col='Sample ID')\n",
    "    except:\n",
    "        data = pd.read_csv(filename, sep='\\t')\n",
    "    try:\n",
    "        w_cols.options = list(data.columns)\n",
    "    except:\n",
    "        pass\n",
    "    display(data.head())\n",
    "    print('Data shape:' + str(data.shape))\n",
    "out = widgets.interactive_output(show_data, controls={'file':w_data})\n",
    "\n",
    "widgets.VBox([w_data, out])"
   ]
  },
  {
   "cell_type": "markdown",
   "metadata": {},
   "source": [
    "#### Display file headers"
   ]
  },
  {
   "cell_type": "code",
   "execution_count": 6,
   "metadata": {
    "jupyter": {
     "source_hidden": true
    }
   },
   "outputs": [
    {
     "data": {
      "application/vnd.jupyter.widget-view+json": {
       "model_id": "62e23b8e2a3343cabf77e4473331aa67",
       "version_major": 2,
       "version_minor": 0
      },
      "text/plain": [
       "VBox(children=(SelectMultiple(options=('annotation', 'identifier', 'source', 'group'), value=()), Output()))"
      ]
     },
     "metadata": {},
     "output_type": "display_data"
    }
   ],
   "source": [
    "w_cols = widgets.SelectMultiple(options=list(data.columns))\n",
    "\n",
    "def show_selected_proteins(columns):\n",
    "    if len(columns)> 0:\n",
    "        display(data[list(w_cols.value)][:5])\n",
    "        print(data[list(w_cols.value)].describe())\n",
    "    else:\n",
    "        print('Select proteins')\n",
    "\n",
    "out_sel = widgets.interactive_output(show_selected_proteins, {'columns': w_cols})\n",
    "widgets.VBox([w_cols, out_sel])"
   ]
  },
  {
   "cell_type": "markdown",
   "metadata": {},
   "source": [
    "### Load output data"
   ]
  },
  {
   "cell_type": "code",
   "execution_count": 7,
   "metadata": {},
   "outputs": [],
   "source": [
    "f0 = 'drug_associations.tsv'\n",
    "f1 = 'complex_associations.tsv'\n",
    "f2 = 'disease_associations.tsv'\n",
    "f3 = 'pathway annotation.tsv'\n",
    "f4 = 'pathway_enrichment_Pathways_regulation_enrichment.tsv'\n",
    "f5 = 'regulation table.tsv'\n",
    "f6 = 'processed.tsv'\n",
    "f7 = 'original.tsv'\n",
    "f8 = 'regulated.tsv'\n",
    "\n",
    "pd.set_option('max_column', 12)\n",
    "file_names = [f0, f1, f2, f3, f4, f5, f6, f7, f8]\n",
    "\n",
    "file_paths = [os.path.join(DATAFOLDER, DATA) for DATA in file_names]\n",
    "files_data = [pd.read_csv(f_data, sep = '\\t') for f_data in file_paths]\n",
    "\n",
    "data_drug = files_data[0]\n",
    "data_complex = files_data[1]\n",
    "data_disease = files_data[2]\n",
    "data_pathway = files_data[3]\n",
    "data_pathway_en = files_data[4]\n",
    "data_reg = files_data[5]\n",
    "data_regsig = data_reg[data_reg.rejected]\n",
    "data_proc = files_data[6]\n",
    "data_raw = files_data[7]"
   ]
  },
  {
   "cell_type": "markdown",
   "metadata": {},
   "source": [
    "### Druggable proteins"
   ]
  },
  {
   "cell_type": "code",
   "execution_count": 8,
   "metadata": {},
   "outputs": [],
   "source": [
    "df = data_drug.copy()\n",
    "df['Proteins'] = df.Proteins.str.split(';')\n",
    "df = df.explode('Proteins')\n",
    "\n",
    "druggable_proteins = df.Proteins.unique().tolist()"
   ]
  },
  {
   "cell_type": "markdown",
   "metadata": {},
   "source": [
    "### Disease associated proteins\n",
    "- 'liver'\n",
    "- 'alcohol'\n",
    "- 'diabetes'\n",
    "- 'kidney'\n",
    "- 'cardiovascular'\n",
    "- 'metabolic'"
   ]
  },
  {
   "cell_type": "code",
   "execution_count": 9,
   "metadata": {},
   "outputs": [],
   "source": [
    "df = data_disease.copy()\n",
    "df['Proteins'] = df.Proteins.str.split(';')\n",
    "df = df.explode('Proteins')\n",
    "\n",
    "kws = ['liver', 'alcohol', 'diabetes', 'kidney', 'cardiovascular', 'metabolic']\n",
    "\n",
    "kw_disease_dict = {}\n",
    "disease_prot_dict = {}\n",
    "for kw in kws:\n",
    "    diseases, proteins = return_keyword_item(data=df, kw=kw)\n",
    "    kw_disease_dict[kw] = diseases\n",
    "    disease_prot_dict[kw] = proteins\n",
    "\n",
    "pdi_dict = {}\n",
    "for kw in kws:\n",
    "    prots = disease_prot_dict[kw]\n",
    "    for prot in prots:\n",
    "        if prot in pdi_dict.keys():\n",
    "            pass\n",
    "        else:\n",
    "            pdi_dict[prot] = kw + ' disease'"
   ]
  },
  {
   "cell_type": "code",
   "execution_count": 10,
   "metadata": {
    "jupyter": {
     "source_hidden": true
    }
   },
   "outputs": [
    {
     "data": {
      "application/vnd.jupyter.widget-view+json": {
       "model_id": "8b193f408bfe4a5785d42a4c766cf702",
       "version_major": 2,
       "version_minor": 0
      },
      "text/plain": [
       "VBox(children=(Dropdown(options=('liver', 'alcohol', 'diabetes', 'kidney', 'cardiovascular', 'metabolic'), val…"
      ]
     },
     "metadata": {},
     "output_type": "display_data"
    }
   ],
   "source": [
    "w_data = widgets.Dropdown(options=kws)\n",
    "\n",
    "def show_disease(kw):\n",
    "    display(kw_disease_dict[kw])\n",
    "    \n",
    "def show_protein(kw):\n",
    "    proteins = disease_prot_dict[kw]\n",
    "    nr = len(proteins)\n",
    "    print()\n",
    "    print('Number of proteins associated with {} disease: {}'.format(kw, nr))\n",
    "    print()\n",
    "    display(proteins[:20])\n",
    "    \n",
    "out1 = widgets.interactive_output(show_disease, controls={'kw':w_data})\n",
    "out2 = widgets.interactive_output(show_protein, controls={'kw':w_data})\n",
    "\n",
    "widgets.VBox([w_data, out1, out2])"
   ]
  },
  {
   "cell_type": "markdown",
   "metadata": {},
   "source": [
    "### Protein complexes"
   ]
  },
  {
   "cell_type": "code",
   "execution_count": 11,
   "metadata": {},
   "outputs": [],
   "source": [
    "df = data_complex.copy()\n",
    "df['Proteins'] = df.Proteins.str.split(';')\n",
    "df = df.explode('Proteins').sort_values(by='num_proteins', ascending=False)"
   ]
  },
  {
   "cell_type": "code",
   "execution_count": 12,
   "metadata": {},
   "outputs": [],
   "source": [
    "comps = df.Complex.unique().tolist()\n",
    "comp_prot_dict = {}\n",
    "for comp in comps:\n",
    "    proteins = return_keyword_item(data = df, kw=comp, kw_col='Complex')[1]\n",
    "    comp_prot_dict[comp] = proteins\n",
    "    \n",
    "pcom_dict = flip_dict(comp_prot_dict)"
   ]
  },
  {
   "cell_type": "markdown",
   "metadata": {},
   "source": [
    "### Pathway enrichment"
   ]
  },
  {
   "cell_type": "code",
   "execution_count": 13,
   "metadata": {},
   "outputs": [],
   "source": [
    "df = data_pathway_en.copy()\n",
    "df['identifiers'] = df.identifiers.str.split(',')\n",
    "df = df.explode('identifiers').sort_values(by='foreground', ascending=False)"
   ]
  },
  {
   "cell_type": "code",
   "execution_count": 14,
   "metadata": {},
   "outputs": [],
   "source": [
    "pathways = df.terms.unique().tolist()\n",
    "pw_prot_dict = {}\n",
    "for pathway in pathways:\n",
    "    proteins = return_keyword_item(data = df, kw=pathway, kw_col='terms', item_col='identifiers')[1]\n",
    "    pw_prot_dict[pathway] = proteins\n",
    "    \n",
    "ppw_dict = flip_dict(pw_prot_dict)"
   ]
  },
  {
   "cell_type": "markdown",
   "metadata": {},
   "source": [
    "# Pathway-centric prioritization"
   ]
  },
  {
   "cell_type": "markdown",
   "metadata": {},
   "source": [
    "### Regulated pathway"
   ]
  },
  {
   "cell_type": "code",
   "execution_count": 15,
   "metadata": {},
   "outputs": [
    {
     "name": "stdout",
     "output_type": "stream",
     "text": [
      "(69, 4)\n"
     ]
    }
   ],
   "source": [
    "nr_of_sig_prot = data_regsig.identifier.unique().tolist().__len__()\n",
    "nr_of_total_prot = data_reg.identifier.unique().tolist().__len__()\n",
    "func_fold = lambda x: (x.foreground/nr_of_sig_prot)/((x.foreground + x.background)/nr_of_total_prot)\n",
    "func_perc = lambda x: x.foreground/(x.foreground + x.background)\n",
    "\n",
    "df = data_pathway_en.copy()\n",
    "df = df.assign(fold_enrich = func_fold, percentage = func_perc)\n",
    "\n",
    "df = df.assign(new_pvalue = lambda x: -np.log10(x.padj))\n",
    "\n",
    "df = df[df.rejected].drop(['identifiers', 'background', 'pvalue', 'padj', 'rejected'], 1).set_index('terms')\n",
    "df = df.apply(zscore)\n",
    "df = df.rename({'new_pvalue':'-Log10 padj', 'foreground':'Nr. of proteins', 'fold_enrich':'fold enrichment'}, axis =1)\n",
    "\n",
    "df_cluster_pw = df.copy()\n",
    "print(df_cluster_pw.shape)"
   ]
  },
  {
   "cell_type": "markdown",
   "metadata": {},
   "source": [
    "### Clustergrammer2 visualization"
   ]
  },
  {
   "cell_type": "code",
   "execution_count": 16,
   "metadata": {},
   "outputs": [
    {
     "data": {
      "application/vnd.jupyter.widget-view+json": {
       "model_id": "ca5aee73c80c4319a9e59456b57ccf18",
       "version_major": 2,
       "version_minor": 0
      },
      "text/plain": [
       "CGM2(network='{\"row_nodes\": [{\"name\": \"Regulation of actin dynamics for phagocytic cup formation\", \"ini\": 69, …"
      ]
     },
     "metadata": {},
     "output_type": "display_data"
    }
   ],
   "source": [
    "data = df_cluster_pw\n",
    "net.load_df(data)\n",
    "net.cluster()\n",
    "net.widget()"
   ]
  },
  {
   "cell_type": "markdown",
   "metadata": {},
   "source": [
    "# Protein-centric prioritization"
   ]
  },
  {
   "cell_type": "markdown",
   "metadata": {},
   "source": [
    "### Regulated proteins"
   ]
  },
  {
   "cell_type": "code",
   "execution_count": 17,
   "metadata": {},
   "outputs": [],
   "source": [
    "protein_sig = data_reg[data_reg.rejected]['identifier'].unique().tolist()\n",
    "\n",
    "data_proc_pv = data_proc.melt(id_vars=['group', 'sample', 'subject'], value_name='Log2 intensity', var_name='Protein ID')\n",
    "\n",
    "data_sig_median = data_proc_pv.groupby(['Protein ID', 'group'])['Log2 intensity'].median().unstack().loc[protein_sig]\n",
    "data_sig_median.columns = ['F0', 'F1', 'F2', 'F3', 'F4']"
   ]
  },
  {
   "cell_type": "markdown",
   "metadata": {},
   "source": [
    "### Disease progression incremental matrix"
   ]
  },
  {
   "cell_type": "code",
   "execution_count": 18,
   "metadata": {},
   "outputs": [],
   "source": [
    "df = data_sig_median.copy()\n",
    "df_diff = df.diff(axis=1).drop('F0', 1)\n",
    "df_diff.columns = ['i'+ str(i) for i in range(1,5)]\n",
    "df_diff['i5'] = df.F2 - df.F0\n",
    "df_diff['i6'] = df.F3 - df.F0\n",
    "df_diff['i7'] = df.F4 - df.F0\n",
    "df_diff = df_diff.apply(lambda x: 2 ** x - 1)"
   ]
  },
  {
   "cell_type": "markdown",
   "metadata": {},
   "source": [
    "### Further filtering"
   ]
  },
  {
   "cell_type": "code",
   "execution_count": 19,
   "metadata": {},
   "outputs": [],
   "source": [
    "df = df_diff.copy()\n",
    "#df = df.reindex(druggable_proteins)\n",
    "df_fil = df.copy()"
   ]
  },
  {
   "cell_type": "markdown",
   "metadata": {},
   "source": [
    "### Normalization "
   ]
  },
  {
   "cell_type": "code",
   "execution_count": 20,
   "metadata": {},
   "outputs": [],
   "source": [
    "df_fil = df_fil.apply(zscore)"
   ]
  },
  {
   "cell_type": "markdown",
   "metadata": {},
   "source": [
    "### Add categories"
   ]
  },
  {
   "cell_type": "code",
   "execution_count": 21,
   "metadata": {},
   "outputs": [],
   "source": [
    "df = df_fil.copy()\n",
    "rows = df.index.tolist()\n",
    "label1 = [[x, 'Druggable: +'] if x in druggable_proteins else [x, 'Druggable: NA'] for x in rows]\n",
    "label2 = [['Disease: ' + pdi_dict[x]] if x in pdi_dict.keys() else ['Disease: NA'] for x in rows]\n",
    "label3 = [['Complex: ' + pcom_dict[x]] if x in pcom_dict.keys() else ['Complex: NA'] for x in rows]\n",
    "label4 = [['Pathway: ' + ppw_dict[x]] if x in ppw_dict.keys() else ['Pathway: NA'] for x in rows]\n",
    "new_index = [label1[i] + label2[i] + label3[i] + label4[i] for i in range(len(rows))]\n",
    "new_index = [tuple(i) for i in new_index]\n",
    "\n",
    "df_cat = df.copy()\n",
    "df_cat.index = new_index"
   ]
  },
  {
   "cell_type": "markdown",
   "metadata": {},
   "source": [
    "### Clustergrammer2 visualization"
   ]
  },
  {
   "cell_type": "code",
   "execution_count": 22,
   "metadata": {},
   "outputs": [
    {
     "data": {
      "application/vnd.jupyter.widget-view+json": {
       "model_id": "2712039ebc73456696d0d7c73e65d1ca",
       "version_major": 2,
       "version_minor": 0
      },
      "text/plain": [
       "CGM2(network='{\"row_nodes\": [{\"name\": \"CSPG4~Q6UVK1\", \"ini\": 1068, \"clust\": 885, \"rank\": 1067, \"rankvar\": 1067…"
      ]
     },
     "metadata": {},
     "output_type": "display_data"
    }
   ],
   "source": [
    "data = df_cat.sort_values(by='i2', ascending=False)\n",
    "net.load_df(data)\n",
    "cats = ['Druggable', 'Disease', 'Complex', 'Pathway']\n",
    "\n",
    "for i in range(4):\n",
    "    cat = cats[i]\n",
    "    net.set_cat_colors(cat_colors={'NA':'white'}, axis=0, cat_index=i+1, cat_title=cat)\n",
    "    \n",
    "net.cluster()\n",
    "net.widget()"
   ]
  },
  {
   "cell_type": "code",
   "execution_count": null,
   "metadata": {},
   "outputs": [],
   "source": []
  },
  {
   "cell_type": "code",
   "execution_count": null,
   "metadata": {},
   "outputs": [],
   "source": []
  },
  {
   "cell_type": "code",
   "execution_count": null,
   "metadata": {},
   "outputs": [],
   "source": []
  },
  {
   "cell_type": "code",
   "execution_count": null,
   "metadata": {},
   "outputs": [],
   "source": []
  },
  {
   "cell_type": "code",
   "execution_count": null,
   "metadata": {},
   "outputs": [],
   "source": []
  },
  {
   "cell_type": "code",
   "execution_count": null,
   "metadata": {},
   "outputs": [],
   "source": []
  }
 ],
 "metadata": {
  "kernelspec": {
   "display_name": "Python 3",
   "language": "python",
   "name": "python3"
  },
  "language_info": {
   "codemirror_mode": {
    "name": "ipython",
    "version": 3
   },
   "file_extension": ".py",
   "mimetype": "text/x-python",
   "name": "python",
   "nbconvert_exporter": "python",
   "pygments_lexer": "ipython3",
   "version": "3.7.7"
  }
 },
 "nbformat": 4,
 "nbformat_minor": 4
}
