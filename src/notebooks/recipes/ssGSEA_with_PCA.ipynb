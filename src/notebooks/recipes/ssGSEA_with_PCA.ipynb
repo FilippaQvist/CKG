{
 "cells": [
  {
   "cell_type": "markdown",
   "metadata": {},
   "source": [
    "# Single Sample Gene Set Enrichment Analysis (ssGSEA)\n",
    "\n",
    "\n",
    "Single-sample Gene Set Enrichment Analysis (ssGSEA) is an variation of the GSEA algorithm that instead of calculating enrichment scores for groups of samples (i.e Control vs Disease) and sets of genes (i.e pathways), it provides a score for each each sample and gene set pair (https://www.genepattern.org/modules/docs/ssGSEAProjection/4).\n",
    "\n",
    "\n",
    "In CKG this function is implemented in the function: **run_ssgsea** (analytics_core.analytics).\n",
    "\n",
    "To visualize the results, they can be coupled with a Principal Component Analysis (PCA).\n",
    "\n",
    "\n",
    "In this case, we are applied ssGSEA on two existing projects in CKG: PP4-interactomics experiments in two ovarian cancer cell lines (OVCAR-5 and COV318) expressing N-terminal FLAG- and C-terminal V5-tagged CT45, respectively from Coscia et al 2018 (https://pubmed.ncbi.nlm.nih.gov/30241606/).\n",
    "\n",
    "\n",
    "Other References: \n",
    "- https://www.gsea-msigdb.org/gsea/doc/GSEAUserGuideTEXT.htm\n",
    "\n",
    "- https://pubmed.ncbi.nlm.nih.gov/16199517/\n",
    "\n"
   ]
  },
  {
   "cell_type": "code",
   "execution_count": 87,
   "metadata": {},
   "outputs": [
    {
     "data": {
      "text/html": [
       "        <script type=\"text/javascript\">\n",
       "        window.PlotlyConfig = {MathJaxConfig: 'local'};\n",
       "        if (window.MathJax) {MathJax.Hub.Config({SVG: {font: \"STIX-Web\"}});}\n",
       "        if (typeof require !== 'undefined') {\n",
       "        require.undef(\"plotly\");\n",
       "        requirejs.config({\n",
       "            paths: {\n",
       "                'plotly': ['https://cdn.plot.ly/plotly-latest.min']\n",
       "            }\n",
       "        });\n",
       "        require(['plotly'], function(Plotly) {\n",
       "            window._Plotly = Plotly;\n",
       "        });\n",
       "        }\n",
       "        </script>\n",
       "        "
      ]
     },
     "metadata": {},
     "output_type": "display_data"
    }
   ],
   "source": [
    "from report_manager import project\n",
    "from analytics_core.analytics import analytics\n",
    "from analytics_core.viz import viz\n",
    "\n",
    "from plotly.offline import init_notebook_mode, iplot\n",
    "%matplotlib inline\n",
    "init_notebook_mode(connected=True)"
   ]
  },
  {
   "cell_type": "markdown",
   "metadata": {},
   "source": [
    "### Reading the Project Data\n",
    "\n",
    "These projects are stored in CKG's graph database and the project reports need to be generated."
   ]
  },
  {
   "cell_type": "code",
   "execution_count": 67,
   "metadata": {},
   "outputs": [],
   "source": [
    "project1 = \"P0000004\"\n",
    "project2 = \"P0000005\""
   ]
  },
  {
   "cell_type": "code",
   "execution_count": 68,
   "metadata": {},
   "outputs": [],
   "source": [
    "p1 = project.Project(project1, datasets={}, knowledge=None, report={}, configuration_files=None)\n",
    "p1.build_project(force=False)\n",
    "p1.generate_report()"
   ]
  },
  {
   "cell_type": "code",
   "execution_count": 69,
   "metadata": {},
   "outputs": [],
   "source": [
    "p2 = project.Project(project2, datasets={}, knowledge=None, report={}, configuration_files=None)\n",
    "p2.build_project(force=False)\n",
    "p2.generate_report()"
   ]
  },
  {
   "cell_type": "code",
   "execution_count": 73,
   "metadata": {},
   "outputs": [],
   "source": [
    "proteomics_dataset1 = p1.get_dataset(\"interactomics\")\n",
    "proteomics_dataset2 = p2.get_dataset(\"interactomics\")"
   ]
  },
  {
   "cell_type": "markdown",
   "metadata": {},
   "source": [
    "### Gene Ontology Annotation\n",
    "\n",
    "We can use the Gene Ontology annotation generated during the report creation and available as a dataframe to provide the gene/protein sets for the ssGSEA analysis.\n",
    "\n",
    "One could also obtain this annotation directly from the graph database using one of the existing Cypher queries and the list of proteins (set)."
   ]
  },
  {
   "cell_type": "code",
   "execution_count": 75,
   "metadata": {},
   "outputs": [],
   "source": [
    "annotations1 = proteomics_dataset1.get_dataframe(\"go annotation\")\n",
    "annotations2 = proteomics_dataset2.get_dataframe(\"go annotation\")"
   ]
  },
  {
   "cell_type": "code",
   "execution_count": 76,
   "metadata": {},
   "outputs": [
    {
     "data": {
      "text/html": [
       "<div>\n",
       "<style scoped>\n",
       "    .dataframe tbody tr th:only-of-type {\n",
       "        vertical-align: middle;\n",
       "    }\n",
       "\n",
       "    .dataframe tbody tr th {\n",
       "        vertical-align: top;\n",
       "    }\n",
       "\n",
       "    .dataframe thead th {\n",
       "        text-align: right;\n",
       "    }\n",
       "</style>\n",
       "<table border=\"1\" class=\"dataframe\">\n",
       "  <thead>\n",
       "    <tr style=\"text-align: right;\">\n",
       "      <th></th>\n",
       "      <th>annotation</th>\n",
       "      <th>identifier</th>\n",
       "      <th>source</th>\n",
       "      <th>group</th>\n",
       "    </tr>\n",
       "  </thead>\n",
       "  <tbody>\n",
       "    <tr>\n",
       "      <th>0</th>\n",
       "      <td>mitochondrial genome maintenance</td>\n",
       "      <td>TYMP~P19971</td>\n",
       "      <td>UniProt</td>\n",
       "      <td>None</td>\n",
       "    </tr>\n",
       "    <tr>\n",
       "      <th>1</th>\n",
       "      <td>mitochondrial genome maintenance</td>\n",
       "      <td>MGME1~Q9BQP7</td>\n",
       "      <td>UniProt</td>\n",
       "      <td>None</td>\n",
       "    </tr>\n",
       "    <tr>\n",
       "      <th>2</th>\n",
       "      <td>mitochondrial genome maintenance</td>\n",
       "      <td>SLC25A4~P12235</td>\n",
       "      <td>UniProt</td>\n",
       "      <td>None</td>\n",
       "    </tr>\n",
       "    <tr>\n",
       "      <th>3</th>\n",
       "      <td>mitochondrial genome maintenance</td>\n",
       "      <td>SLC25A33~Q9BSK2</td>\n",
       "      <td>UniProt</td>\n",
       "      <td>None</td>\n",
       "    </tr>\n",
       "    <tr>\n",
       "      <th>4</th>\n",
       "      <td>mitochondrial genome maintenance</td>\n",
       "      <td>OPA1~O60313</td>\n",
       "      <td>UniProt</td>\n",
       "      <td>None</td>\n",
       "    </tr>\n",
       "    <tr>\n",
       "      <th>...</th>\n",
       "      <td>...</td>\n",
       "      <td>...</td>\n",
       "      <td>...</td>\n",
       "      <td>...</td>\n",
       "    </tr>\n",
       "    <tr>\n",
       "      <th>70555</th>\n",
       "      <td>malonyl-CoA biosynthetic process</td>\n",
       "      <td>ACACB~O00763</td>\n",
       "      <td>UniProt</td>\n",
       "      <td>None</td>\n",
       "    </tr>\n",
       "    <tr>\n",
       "      <th>70556</th>\n",
       "      <td>lipoxin biosynthetic process</td>\n",
       "      <td>ALOX5~P09917</td>\n",
       "      <td>UniProt</td>\n",
       "      <td>None</td>\n",
       "    </tr>\n",
       "    <tr>\n",
       "      <th>70557</th>\n",
       "      <td>lipoxin biosynthetic process</td>\n",
       "      <td>ALOX5AP~P20292</td>\n",
       "      <td>UniProt</td>\n",
       "      <td>None</td>\n",
       "    </tr>\n",
       "    <tr>\n",
       "      <th>70558</th>\n",
       "      <td>lipoxin A4 biosynthetic process</td>\n",
       "      <td>ALOX15~P16050</td>\n",
       "      <td>UniProt</td>\n",
       "      <td>None</td>\n",
       "    </tr>\n",
       "    <tr>\n",
       "      <th>70559</th>\n",
       "      <td>lysobisphosphatidic acid metabolic process</td>\n",
       "      <td>ACP6~Q9NPH0</td>\n",
       "      <td>UniProt</td>\n",
       "      <td>None</td>\n",
       "    </tr>\n",
       "  </tbody>\n",
       "</table>\n",
       "<p>70560 rows × 4 columns</p>\n",
       "</div>"
      ],
      "text/plain": [
       "                                       annotation       identifier   source  \\\n",
       "0                mitochondrial genome maintenance      TYMP~P19971  UniProt   \n",
       "1                mitochondrial genome maintenance     MGME1~Q9BQP7  UniProt   \n",
       "2                mitochondrial genome maintenance   SLC25A4~P12235  UniProt   \n",
       "3                mitochondrial genome maintenance  SLC25A33~Q9BSK2  UniProt   \n",
       "4                mitochondrial genome maintenance      OPA1~O60313  UniProt   \n",
       "...                                           ...              ...      ...   \n",
       "70555            malonyl-CoA biosynthetic process     ACACB~O00763  UniProt   \n",
       "70556                lipoxin biosynthetic process     ALOX5~P09917  UniProt   \n",
       "70557                lipoxin biosynthetic process   ALOX5AP~P20292  UniProt   \n",
       "70558             lipoxin A4 biosynthetic process    ALOX15~P16050  UniProt   \n",
       "70559  lysobisphosphatidic acid metabolic process      ACP6~Q9NPH0  UniProt   \n",
       "\n",
       "      group  \n",
       "0      None  \n",
       "1      None  \n",
       "2      None  \n",
       "3      None  \n",
       "4      None  \n",
       "...     ...  \n",
       "70555  None  \n",
       "70556  None  \n",
       "70557  None  \n",
       "70558  None  \n",
       "70559  None  \n",
       "\n",
       "[70560 rows x 4 columns]"
      ]
     },
     "execution_count": 76,
     "metadata": {},
     "output_type": "execute_result"
    }
   ],
   "source": [
    "annotations1"
   ]
  },
  {
   "cell_type": "code",
   "execution_count": 77,
   "metadata": {},
   "outputs": [],
   "source": [
    "processed_dataset1 = proteomics_dataset1.get_dataframe('processed')\n",
    "processed_dataset2 = proteomics_dataset2.get_dataframe('processed')"
   ]
  },
  {
   "cell_type": "code",
   "execution_count": 78,
   "metadata": {},
   "outputs": [
    {
     "data": {
      "text/html": [
       "<div>\n",
       "<style scoped>\n",
       "    .dataframe tbody tr th:only-of-type {\n",
       "        vertical-align: middle;\n",
       "    }\n",
       "\n",
       "    .dataframe tbody tr th {\n",
       "        vertical-align: top;\n",
       "    }\n",
       "\n",
       "    .dataframe thead th {\n",
       "        text-align: right;\n",
       "    }\n",
       "</style>\n",
       "<table border=\"1\" class=\"dataframe\">\n",
       "  <thead>\n",
       "    <tr style=\"text-align: right;\">\n",
       "      <th></th>\n",
       "      <th>group</th>\n",
       "      <th>sample</th>\n",
       "      <th>subject</th>\n",
       "      <th>ABCD3~P28288</th>\n",
       "      <th>ABLIM1~O14639</th>\n",
       "      <th>ACAP2~Q15057</th>\n",
       "      <th>ACIN1~Q9UKV3</th>\n",
       "      <th>ACTA1~P68133</th>\n",
       "      <th>ACTG1~P63261</th>\n",
       "      <th>ACTN4~O43707</th>\n",
       "      <th>...</th>\n",
       "      <th>ZC3H18~Q86VM9</th>\n",
       "      <th>ZC3HAV1~Q7Z2W4</th>\n",
       "      <th>ZCCHC10~Q8TBK6</th>\n",
       "      <th>ZCCHC17~Q9NP64</th>\n",
       "      <th>ZFR~Q96KR1</th>\n",
       "      <th>ZNF326~Q5BKZ1</th>\n",
       "      <th>ZNF629~Q9UEG4</th>\n",
       "      <th>ZNF638~Q14966</th>\n",
       "      <th>ZNRD2~O60232</th>\n",
       "      <th>ZRANB2~O95218</th>\n",
       "    </tr>\n",
       "  </thead>\n",
       "  <tbody>\n",
       "    <tr>\n",
       "      <th>0</th>\n",
       "      <td>FLAG</td>\n",
       "      <td>AS943</td>\n",
       "      <td>S138</td>\n",
       "      <td>27.472355</td>\n",
       "      <td>24.510301</td>\n",
       "      <td>31.742221</td>\n",
       "      <td>29.535102</td>\n",
       "      <td>30.760022</td>\n",
       "      <td>35.118418</td>\n",
       "      <td>26.787807</td>\n",
       "      <td>...</td>\n",
       "      <td>29.236718</td>\n",
       "      <td>27.114956</td>\n",
       "      <td>26.948934</td>\n",
       "      <td>28.397584</td>\n",
       "      <td>25.921480</td>\n",
       "      <td>27.055173</td>\n",
       "      <td>24.576694</td>\n",
       "      <td>23.742444</td>\n",
       "      <td>29.115204</td>\n",
       "      <td>29.057783</td>\n",
       "    </tr>\n",
       "    <tr>\n",
       "      <th>1</th>\n",
       "      <td>FLAG</td>\n",
       "      <td>AS944</td>\n",
       "      <td>S139</td>\n",
       "      <td>27.460296</td>\n",
       "      <td>26.011139</td>\n",
       "      <td>31.011320</td>\n",
       "      <td>31.247341</td>\n",
       "      <td>30.421617</td>\n",
       "      <td>34.972458</td>\n",
       "      <td>29.027229</td>\n",
       "      <td>...</td>\n",
       "      <td>29.582387</td>\n",
       "      <td>26.709909</td>\n",
       "      <td>24.309733</td>\n",
       "      <td>28.232973</td>\n",
       "      <td>26.284133</td>\n",
       "      <td>26.887625</td>\n",
       "      <td>23.669367</td>\n",
       "      <td>25.411049</td>\n",
       "      <td>28.268343</td>\n",
       "      <td>28.489300</td>\n",
       "    </tr>\n",
       "    <tr>\n",
       "      <th>2</th>\n",
       "      <td>FLAG</td>\n",
       "      <td>AS945</td>\n",
       "      <td>S140</td>\n",
       "      <td>27.505821</td>\n",
       "      <td>23.608262</td>\n",
       "      <td>31.572265</td>\n",
       "      <td>29.430139</td>\n",
       "      <td>31.061174</td>\n",
       "      <td>35.345990</td>\n",
       "      <td>25.906052</td>\n",
       "      <td>...</td>\n",
       "      <td>28.953465</td>\n",
       "      <td>26.552434</td>\n",
       "      <td>26.639342</td>\n",
       "      <td>28.640687</td>\n",
       "      <td>25.899775</td>\n",
       "      <td>27.219189</td>\n",
       "      <td>24.685440</td>\n",
       "      <td>24.414733</td>\n",
       "      <td>29.080731</td>\n",
       "      <td>29.234413</td>\n",
       "    </tr>\n",
       "    <tr>\n",
       "      <th>3</th>\n",
       "      <td>FLAG+CT45</td>\n",
       "      <td>AS946</td>\n",
       "      <td>S141</td>\n",
       "      <td>27.012120</td>\n",
       "      <td>25.254434</td>\n",
       "      <td>31.353738</td>\n",
       "      <td>29.941257</td>\n",
       "      <td>30.312787</td>\n",
       "      <td>34.827996</td>\n",
       "      <td>25.787982</td>\n",
       "      <td>...</td>\n",
       "      <td>29.374512</td>\n",
       "      <td>27.292723</td>\n",
       "      <td>28.846671</td>\n",
       "      <td>28.908190</td>\n",
       "      <td>25.790942</td>\n",
       "      <td>26.534750</td>\n",
       "      <td>24.141646</td>\n",
       "      <td>25.989279</td>\n",
       "      <td>28.972269</td>\n",
       "      <td>30.331381</td>\n",
       "    </tr>\n",
       "    <tr>\n",
       "      <th>4</th>\n",
       "      <td>FLAG+CT45</td>\n",
       "      <td>AS947</td>\n",
       "      <td>S142</td>\n",
       "      <td>26.591493</td>\n",
       "      <td>25.377726</td>\n",
       "      <td>31.171406</td>\n",
       "      <td>31.171585</td>\n",
       "      <td>30.140900</td>\n",
       "      <td>35.013676</td>\n",
       "      <td>27.243544</td>\n",
       "      <td>...</td>\n",
       "      <td>29.986309</td>\n",
       "      <td>27.148702</td>\n",
       "      <td>27.994370</td>\n",
       "      <td>28.588887</td>\n",
       "      <td>25.749550</td>\n",
       "      <td>27.004746</td>\n",
       "      <td>24.608964</td>\n",
       "      <td>26.024305</td>\n",
       "      <td>28.598112</td>\n",
       "      <td>29.874860</td>\n",
       "    </tr>\n",
       "  </tbody>\n",
       "</table>\n",
       "<p>5 rows × 923 columns</p>\n",
       "</div>"
      ],
      "text/plain": [
       "       group sample subject  ABCD3~P28288  ABLIM1~O14639  ACAP2~Q15057  \\\n",
       "0       FLAG  AS943    S138     27.472355      24.510301     31.742221   \n",
       "1       FLAG  AS944    S139     27.460296      26.011139     31.011320   \n",
       "2       FLAG  AS945    S140     27.505821      23.608262     31.572265   \n",
       "3  FLAG+CT45  AS946    S141     27.012120      25.254434     31.353738   \n",
       "4  FLAG+CT45  AS947    S142     26.591493      25.377726     31.171406   \n",
       "\n",
       "   ACIN1~Q9UKV3  ACTA1~P68133  ACTG1~P63261  ACTN4~O43707  ...  ZC3H18~Q86VM9  \\\n",
       "0     29.535102     30.760022     35.118418     26.787807  ...      29.236718   \n",
       "1     31.247341     30.421617     34.972458     29.027229  ...      29.582387   \n",
       "2     29.430139     31.061174     35.345990     25.906052  ...      28.953465   \n",
       "3     29.941257     30.312787     34.827996     25.787982  ...      29.374512   \n",
       "4     31.171585     30.140900     35.013676     27.243544  ...      29.986309   \n",
       "\n",
       "   ZC3HAV1~Q7Z2W4  ZCCHC10~Q8TBK6  ZCCHC17~Q9NP64  ZFR~Q96KR1  ZNF326~Q5BKZ1  \\\n",
       "0       27.114956       26.948934       28.397584   25.921480      27.055173   \n",
       "1       26.709909       24.309733       28.232973   26.284133      26.887625   \n",
       "2       26.552434       26.639342       28.640687   25.899775      27.219189   \n",
       "3       27.292723       28.846671       28.908190   25.790942      26.534750   \n",
       "4       27.148702       27.994370       28.588887   25.749550      27.004746   \n",
       "\n",
       "   ZNF629~Q9UEG4  ZNF638~Q14966  ZNRD2~O60232  ZRANB2~O95218  \n",
       "0      24.576694      23.742444     29.115204      29.057783  \n",
       "1      23.669367      25.411049     28.268343      28.489300  \n",
       "2      24.685440      24.414733     29.080731      29.234413  \n",
       "3      24.141646      25.989279     28.972269      30.331381  \n",
       "4      24.608964      26.024305     28.598112      29.874860  \n",
       "\n",
       "[5 rows x 923 columns]"
      ]
     },
     "execution_count": 78,
     "metadata": {},
     "output_type": "execute_result"
    }
   ],
   "source": [
    "processed_dataset1.head()"
   ]
  },
  {
   "cell_type": "markdown",
   "metadata": {},
   "source": [
    "### ssGSEA\n",
    "\n",
    "The function needs only the processed dataset (interactomics data matrix) and the annotation matrix. The result provides two dataframes:\n",
    "\n",
    "- es – Enrichment scores – degree of overrepresentation\n",
    "- nes – Normalized Enrichment scores – corrects by set size and correlations between gene sets and the dataset"
   ]
  },
  {
   "cell_type": "code",
   "execution_count": 90,
   "metadata": {},
   "outputs": [],
   "source": [
    "ssgsea_result1 = analytics.run_ssgsea(processed_dataset1, annotations1, annotation_col='annotation', identifier_col='identifier', set_index=['group', 'sample','subject'], outdir=None, min_size=10, scale=False, permutations=0)"
   ]
  },
  {
   "cell_type": "code",
   "execution_count": 91,
   "metadata": {},
   "outputs": [
    {
     "data": {
      "text/html": [
       "<div>\n",
       "<style scoped>\n",
       "    .dataframe tbody tr th:only-of-type {\n",
       "        vertical-align: middle;\n",
       "    }\n",
       "\n",
       "    .dataframe tbody tr th {\n",
       "        vertical-align: top;\n",
       "    }\n",
       "\n",
       "    .dataframe thead th {\n",
       "        text-align: right;\n",
       "    }\n",
       "</style>\n",
       "<table border=\"1\" class=\"dataframe\">\n",
       "  <thead>\n",
       "    <tr style=\"text-align: right;\">\n",
       "      <th></th>\n",
       "      <th>DNA duplex unwinding</th>\n",
       "      <th>DNA repair</th>\n",
       "      <th>DNA replication</th>\n",
       "      <th>Fc-epsilon receptor signaling pathway</th>\n",
       "      <th>Fc-gamma receptor signaling pathway involved in phagocytosis</th>\n",
       "      <th>G2/M transition of mitotic cell cycle</th>\n",
       "      <th>MAPK cascade</th>\n",
       "      <th>NIK/NF-kappaB signaling</th>\n",
       "      <th>RNA export from nucleus</th>\n",
       "      <th>RNA metabolic process</th>\n",
       "      <th>...</th>\n",
       "      <th>translational initiation</th>\n",
       "      <th>transmembrane transport</th>\n",
       "      <th>tumor necrosis factor-mediated signaling pathway</th>\n",
       "      <th>ubiquitin-dependent protein catabolic process</th>\n",
       "      <th>vesicle-mediated transport</th>\n",
       "      <th>viral process</th>\n",
       "      <th>viral transcription</th>\n",
       "      <th>group</th>\n",
       "      <th>sample</th>\n",
       "      <th>subject</th>\n",
       "    </tr>\n",
       "  </thead>\n",
       "  <tbody>\n",
       "    <tr>\n",
       "      <th>FLAG_AS943_S138</th>\n",
       "      <td>0.011977</td>\n",
       "      <td>0.176476</td>\n",
       "      <td>0.052199</td>\n",
       "      <td>0.299403</td>\n",
       "      <td>0.211067</td>\n",
       "      <td>0.152337</td>\n",
       "      <td>0.336622</td>\n",
       "      <td>0.251237</td>\n",
       "      <td>0.117620</td>\n",
       "      <td>0.200810</td>\n",
       "      <td>...</td>\n",
       "      <td>0.429929</td>\n",
       "      <td>0.254752</td>\n",
       "      <td>0.304584</td>\n",
       "      <td>0.069326</td>\n",
       "      <td>0.002255</td>\n",
       "      <td>0.120948</td>\n",
       "      <td>0.464412</td>\n",
       "      <td>FLAG</td>\n",
       "      <td>AS943</td>\n",
       "      <td>S138</td>\n",
       "    </tr>\n",
       "    <tr>\n",
       "      <th>FLAG_AS944_S139</th>\n",
       "      <td>0.063279</td>\n",
       "      <td>0.147166</td>\n",
       "      <td>0.069440</td>\n",
       "      <td>0.248400</td>\n",
       "      <td>0.064426</td>\n",
       "      <td>0.096150</td>\n",
       "      <td>0.328776</td>\n",
       "      <td>0.239456</td>\n",
       "      <td>0.221997</td>\n",
       "      <td>0.254738</td>\n",
       "      <td>...</td>\n",
       "      <td>0.432992</td>\n",
       "      <td>0.261562</td>\n",
       "      <td>0.314577</td>\n",
       "      <td>0.021409</td>\n",
       "      <td>0.002524</td>\n",
       "      <td>0.098014</td>\n",
       "      <td>0.468801</td>\n",
       "      <td>FLAG</td>\n",
       "      <td>AS944</td>\n",
       "      <td>S139</td>\n",
       "    </tr>\n",
       "    <tr>\n",
       "      <th>FLAG_AS945_S140</th>\n",
       "      <td>0.044976</td>\n",
       "      <td>0.164713</td>\n",
       "      <td>0.038787</td>\n",
       "      <td>0.294322</td>\n",
       "      <td>0.225206</td>\n",
       "      <td>0.159580</td>\n",
       "      <td>0.339241</td>\n",
       "      <td>0.246767</td>\n",
       "      <td>0.111281</td>\n",
       "      <td>0.173833</td>\n",
       "      <td>...</td>\n",
       "      <td>0.432074</td>\n",
       "      <td>0.266003</td>\n",
       "      <td>0.300269</td>\n",
       "      <td>0.058290</td>\n",
       "      <td>0.017175</td>\n",
       "      <td>0.099421</td>\n",
       "      <td>0.468696</td>\n",
       "      <td>FLAG</td>\n",
       "      <td>AS945</td>\n",
       "      <td>S140</td>\n",
       "    </tr>\n",
       "    <tr>\n",
       "      <th>FLAG+CT45_AS946_S141</th>\n",
       "      <td>0.023172</td>\n",
       "      <td>0.153221</td>\n",
       "      <td>0.062612</td>\n",
       "      <td>0.289909</td>\n",
       "      <td>0.137606</td>\n",
       "      <td>0.088625</td>\n",
       "      <td>0.355786</td>\n",
       "      <td>0.289914</td>\n",
       "      <td>0.111026</td>\n",
       "      <td>0.147257</td>\n",
       "      <td>...</td>\n",
       "      <td>0.496105</td>\n",
       "      <td>0.260089</td>\n",
       "      <td>0.307746</td>\n",
       "      <td>0.076835</td>\n",
       "      <td>-0.011761</td>\n",
       "      <td>0.069829</td>\n",
       "      <td>0.538429</td>\n",
       "      <td>FLAG+CT45</td>\n",
       "      <td>AS946</td>\n",
       "      <td>S141</td>\n",
       "    </tr>\n",
       "    <tr>\n",
       "      <th>FLAG+CT45_AS947_S142</th>\n",
       "      <td>0.062469</td>\n",
       "      <td>0.151500</td>\n",
       "      <td>0.055752</td>\n",
       "      <td>0.247872</td>\n",
       "      <td>0.110875</td>\n",
       "      <td>0.067426</td>\n",
       "      <td>0.325069</td>\n",
       "      <td>0.252344</td>\n",
       "      <td>0.209442</td>\n",
       "      <td>0.207055</td>\n",
       "      <td>...</td>\n",
       "      <td>0.484496</td>\n",
       "      <td>0.233157</td>\n",
       "      <td>0.285062</td>\n",
       "      <td>0.057515</td>\n",
       "      <td>-0.024422</td>\n",
       "      <td>0.071443</td>\n",
       "      <td>0.524618</td>\n",
       "      <td>FLAG+CT45</td>\n",
       "      <td>AS947</td>\n",
       "      <td>S142</td>\n",
       "    </tr>\n",
       "    <tr>\n",
       "      <th>FLAG+CT45_AS948_S143</th>\n",
       "      <td>0.080360</td>\n",
       "      <td>0.165221</td>\n",
       "      <td>0.061832</td>\n",
       "      <td>0.278415</td>\n",
       "      <td>0.106264</td>\n",
       "      <td>0.091682</td>\n",
       "      <td>0.341581</td>\n",
       "      <td>0.266505</td>\n",
       "      <td>0.128023</td>\n",
       "      <td>0.169994</td>\n",
       "      <td>...</td>\n",
       "      <td>0.496060</td>\n",
       "      <td>0.245163</td>\n",
       "      <td>0.298267</td>\n",
       "      <td>0.059050</td>\n",
       "      <td>-0.000553</td>\n",
       "      <td>0.079137</td>\n",
       "      <td>0.535138</td>\n",
       "      <td>FLAG+CT45</td>\n",
       "      <td>AS948</td>\n",
       "      <td>S143</td>\n",
       "    </tr>\n",
       "  </tbody>\n",
       "</table>\n",
       "<p>6 rows × 153 columns</p>\n",
       "</div>"
      ],
      "text/plain": [
       "                      DNA duplex unwinding  DNA repair  DNA replication  \\\n",
       "FLAG_AS943_S138                   0.011977    0.176476         0.052199   \n",
       "FLAG_AS944_S139                   0.063279    0.147166         0.069440   \n",
       "FLAG_AS945_S140                   0.044976    0.164713         0.038787   \n",
       "FLAG+CT45_AS946_S141              0.023172    0.153221         0.062612   \n",
       "FLAG+CT45_AS947_S142              0.062469    0.151500         0.055752   \n",
       "FLAG+CT45_AS948_S143              0.080360    0.165221         0.061832   \n",
       "\n",
       "                      Fc-epsilon receptor signaling pathway  \\\n",
       "FLAG_AS943_S138                                    0.299403   \n",
       "FLAG_AS944_S139                                    0.248400   \n",
       "FLAG_AS945_S140                                    0.294322   \n",
       "FLAG+CT45_AS946_S141                               0.289909   \n",
       "FLAG+CT45_AS947_S142                               0.247872   \n",
       "FLAG+CT45_AS948_S143                               0.278415   \n",
       "\n",
       "                      Fc-gamma receptor signaling pathway involved in phagocytosis  \\\n",
       "FLAG_AS943_S138                                                0.211067              \n",
       "FLAG_AS944_S139                                                0.064426              \n",
       "FLAG_AS945_S140                                                0.225206              \n",
       "FLAG+CT45_AS946_S141                                           0.137606              \n",
       "FLAG+CT45_AS947_S142                                           0.110875              \n",
       "FLAG+CT45_AS948_S143                                           0.106264              \n",
       "\n",
       "                      G2/M transition of mitotic cell cycle  MAPK cascade  \\\n",
       "FLAG_AS943_S138                                    0.152337      0.336622   \n",
       "FLAG_AS944_S139                                    0.096150      0.328776   \n",
       "FLAG_AS945_S140                                    0.159580      0.339241   \n",
       "FLAG+CT45_AS946_S141                               0.088625      0.355786   \n",
       "FLAG+CT45_AS947_S142                               0.067426      0.325069   \n",
       "FLAG+CT45_AS948_S143                               0.091682      0.341581   \n",
       "\n",
       "                      NIK/NF-kappaB signaling  RNA export from nucleus  \\\n",
       "FLAG_AS943_S138                      0.251237                 0.117620   \n",
       "FLAG_AS944_S139                      0.239456                 0.221997   \n",
       "FLAG_AS945_S140                      0.246767                 0.111281   \n",
       "FLAG+CT45_AS946_S141                 0.289914                 0.111026   \n",
       "FLAG+CT45_AS947_S142                 0.252344                 0.209442   \n",
       "FLAG+CT45_AS948_S143                 0.266505                 0.128023   \n",
       "\n",
       "                      RNA metabolic process  ...  translational initiation  \\\n",
       "FLAG_AS943_S138                    0.200810  ...                  0.429929   \n",
       "FLAG_AS944_S139                    0.254738  ...                  0.432992   \n",
       "FLAG_AS945_S140                    0.173833  ...                  0.432074   \n",
       "FLAG+CT45_AS946_S141               0.147257  ...                  0.496105   \n",
       "FLAG+CT45_AS947_S142               0.207055  ...                  0.484496   \n",
       "FLAG+CT45_AS948_S143               0.169994  ...                  0.496060   \n",
       "\n",
       "                      transmembrane transport  \\\n",
       "FLAG_AS943_S138                      0.254752   \n",
       "FLAG_AS944_S139                      0.261562   \n",
       "FLAG_AS945_S140                      0.266003   \n",
       "FLAG+CT45_AS946_S141                 0.260089   \n",
       "FLAG+CT45_AS947_S142                 0.233157   \n",
       "FLAG+CT45_AS948_S143                 0.245163   \n",
       "\n",
       "                      tumor necrosis factor-mediated signaling pathway  \\\n",
       "FLAG_AS943_S138                                               0.304584   \n",
       "FLAG_AS944_S139                                               0.314577   \n",
       "FLAG_AS945_S140                                               0.300269   \n",
       "FLAG+CT45_AS946_S141                                          0.307746   \n",
       "FLAG+CT45_AS947_S142                                          0.285062   \n",
       "FLAG+CT45_AS948_S143                                          0.298267   \n",
       "\n",
       "                      ubiquitin-dependent protein catabolic process  \\\n",
       "FLAG_AS943_S138                                            0.069326   \n",
       "FLAG_AS944_S139                                            0.021409   \n",
       "FLAG_AS945_S140                                            0.058290   \n",
       "FLAG+CT45_AS946_S141                                       0.076835   \n",
       "FLAG+CT45_AS947_S142                                       0.057515   \n",
       "FLAG+CT45_AS948_S143                                       0.059050   \n",
       "\n",
       "                      vesicle-mediated transport  viral process  \\\n",
       "FLAG_AS943_S138                         0.002255       0.120948   \n",
       "FLAG_AS944_S139                         0.002524       0.098014   \n",
       "FLAG_AS945_S140                         0.017175       0.099421   \n",
       "FLAG+CT45_AS946_S141                   -0.011761       0.069829   \n",
       "FLAG+CT45_AS947_S142                   -0.024422       0.071443   \n",
       "FLAG+CT45_AS948_S143                   -0.000553       0.079137   \n",
       "\n",
       "                      viral transcription      group  sample  subject  \n",
       "FLAG_AS943_S138                  0.464412       FLAG   AS943     S138  \n",
       "FLAG_AS944_S139                  0.468801       FLAG   AS944     S139  \n",
       "FLAG_AS945_S140                  0.468696       FLAG   AS945     S140  \n",
       "FLAG+CT45_AS946_S141             0.538429  FLAG+CT45   AS946     S141  \n",
       "FLAG+CT45_AS947_S142             0.524618  FLAG+CT45   AS947     S142  \n",
       "FLAG+CT45_AS948_S143             0.535138  FLAG+CT45   AS948     S143  \n",
       "\n",
       "[6 rows x 153 columns]"
      ]
     },
     "execution_count": 91,
     "metadata": {},
     "output_type": "execute_result"
    }
   ],
   "source": [
    "ssgsea_result1['nes']"
   ]
  },
  {
   "cell_type": "code",
   "execution_count": 100,
   "metadata": {},
   "outputs": [],
   "source": [
    "pca_result, args = analytics.run_pca(ssgsea_result1['nes'], drop_cols=['sample', 'subject'], group='group')"
   ]
  },
  {
   "cell_type": "code",
   "execution_count": 102,
   "metadata": {
    "scrolled": false
   },
   "outputs": [
    {
     "data": {
      "application/vnd.plotly.v1+json": {
       "config": {
        "linkText": "Export to plot.ly",
        "plotlyServerURL": "https://plot.ly",
        "showLink": false
       },
       "data": [
        {
         "hovertemplate": "group=FLAG<br>x=%{x}<br>y=%{y}<extra></extra>",
         "legendgroup": "FLAG",
         "marker": {
          "color": "#636efa",
          "line": {
           "color": "DarkSlateGrey",
           "width": 0.5
          },
          "opacity": 0.7,
          "size": 14,
          "symbol": "circle"
         },
         "mode": "markers",
         "name": "FLAG",
         "orientation": "v",
         "showlegend": true,
         "type": "scatter",
         "x": [
          -0.3330919704984728,
          -0.35953779822882764,
          -0.27444984319455573
         ],
         "xaxis": "x",
         "y": [
          -0.19220521449820885,
          0.341143673153864,
          -0.22940334152580497
         ],
         "yaxis": "y"
        },
        {
         "hovertemplate": "group=FLAG+CT45<br>x=%{x}<br>y=%{y}<extra></extra>",
         "legendgroup": "FLAG+CT45",
         "marker": {
          "color": "#EF553B",
          "line": {
           "color": "DarkSlateGrey",
           "width": 0.5
          },
          "opacity": 0.7,
          "size": 14,
          "symbol": "circle"
         },
         "mode": "markers",
         "name": "FLAG+CT45",
         "orientation": "v",
         "showlegend": true,
         "type": "scatter",
         "x": [
          0.3709750742641109,
          0.22335534179234914,
          0.37274919586539607
         ],
         "xaxis": "x",
         "y": [
          -0.11149377637871657,
          0.23105839084501467,
          -0.03909973159614825
         ],
         "yaxis": "y"
        },
        {
         "marker": {
          "color": "darkgrey",
          "opacity": 0.7,
          "showscale": false,
          "size": 3,
          "symbol": 1
         },
         "mode": "markers+lines",
         "name": "mitochondrial translation",
         "showlegend": false,
         "text": "mitochondrial translation loading: 0.45",
         "type": "scattergl",
         "x": [
          0,
          0.4399835070187292
         ],
         "y": [
          0,
          -0.08442465913116541
         ]
        },
        {
         "marker": {
          "color": "darkgrey",
          "opacity": 0.7,
          "showscale": false,
          "size": 3,
          "symbol": 1
         },
         "mode": "markers+lines",
         "name": "mitochondrial translational termination",
         "showlegend": false,
         "text": "mitochondrial translational termination loading: 0.36",
         "type": "scattergl",
         "x": [
          0,
          0.3510140535571755
         ],
         "y": [
          0,
          -0.06036285790145899
         ]
        },
        {
         "marker": {
          "color": "darkgrey",
          "opacity": 0.7,
          "showscale": false,
          "size": 3,
          "symbol": 1
         },
         "mode": "markers+lines",
         "name": "mitochondrial translational elongation",
         "showlegend": false,
         "text": "mitochondrial translational elongation loading: 0.34",
         "type": "scattergl",
         "x": [
          0,
          0.3306541972481365
         ],
         "y": [
          0,
          -0.07691562945053833
         ]
        },
        {
         "marker": {
          "color": "darkgrey",
          "opacity": 0.7,
          "showscale": false,
          "size": 3,
          "symbol": 1
         },
         "mode": "markers+lines",
         "name": "protein dephosphorylation",
         "showlegend": false,
         "text": "protein dephosphorylation loading: 0.32",
         "type": "scattergl",
         "x": [
          0,
          0.3138198521982608
         ],
         "y": [
          0,
          -0.030186427958280065
         ]
        },
        {
         "marker": {
          "color": "darkgrey",
          "opacity": 0.7,
          "showscale": false,
          "size": 3,
          "symbol": 1
         },
         "mode": "markers+lines",
         "name": "ribosomal small subunit assembly",
         "showlegend": false,
         "text": "ribosomal small subunit assembly loading: 0.26",
         "type": "scattergl",
         "x": [
          0,
          0.2575054156692805
         ],
         "y": [
          0,
          0.010255608640670535
         ]
        },
        {
         "marker": {
          "color": "darkgrey",
          "opacity": 0.7,
          "showscale": false,
          "size": 3,
          "symbol": 1
         },
         "mode": "markers+lines",
         "name": "cell adhesion",
         "showlegend": false,
         "text": "cell adhesion loading: 0.25",
         "type": "scattergl",
         "x": [
          0,
          0.21635744655356448
         ],
         "y": [
          0,
          0.12678788114049233
         ]
        },
        {
         "marker": {
          "color": "darkgrey",
          "opacity": 0.7,
          "showscale": false,
          "size": 3,
          "symbol": 1
         },
         "mode": "markers+lines",
         "name": "Fc-gamma receptor signaling pathway involved in phagocytosis",
         "showlegend": false,
         "text": "Fc-gamma receptor signaling pathway involved in phagocytosis loading: 0.24",
         "type": "scattergl",
         "x": [
          0,
          -0.06207717298952025
         ],
         "y": [
          0,
          -0.23465872986302258
         ]
        },
        {
         "marker": {
          "color": "darkgrey",
          "opacity": 0.7,
          "showscale": false,
          "size": 3,
          "symbol": 1
         },
         "mode": "markers+lines",
         "name": "mRNA splice site selection",
         "showlegend": false,
         "text": "mRNA splice site selection loading: 0.23",
         "type": "scattergl",
         "x": [
          0,
          -0.07056118204137006
         ],
         "y": [
          0,
          0.22083530187292533
         ]
        },
        {
         "marker": {
          "color": "darkgrey",
          "opacity": 0.7,
          "showscale": false,
          "size": 3,
          "symbol": 1
         },
         "mode": "markers+lines",
         "name": "regulation of RNA metabolic process",
         "showlegend": false,
         "text": "regulation of RNA metabolic process loading: 0.22",
         "type": "scattergl",
         "x": [
          0,
          -0.05061260589695869
         ],
         "y": [
          0,
          0.21911100162227415
         ]
        },
        {
         "marker": {
          "color": "darkgrey",
          "opacity": 0.7,
          "showscale": false,
          "size": 3,
          "symbol": 1
         },
         "mode": "markers+lines",
         "name": "mRNA cis splicing, via spliceosome",
         "showlegend": false,
         "text": "mRNA cis splicing, via spliceosome loading: 0.22",
         "type": "scattergl",
         "x": [
          0,
          -0.0810311617938691
         ],
         "y": [
          0,
          0.20657872010308367
         ]
        },
        {
         "marker": {
          "color": "darkgrey",
          "opacity": 0.7,
          "showscale": false,
          "size": 3,
          "symbol": 1
         },
         "mode": "markers+lines",
         "name": "RNA export from nucleus",
         "showlegend": false,
         "text": "RNA export from nucleus loading: 0.22",
         "type": "scattergl",
         "x": [
          0,
          -0.021568829581044852
         ],
         "y": [
          0,
          0.21444305655197396
         ]
        },
        {
         "marker": {
          "color": "darkgrey",
          "opacity": 0.7,
          "showscale": false,
          "size": 3,
          "symbol": 1
         },
         "mode": "markers+lines",
         "name": "negative regulation of mRNA splicing, via spliceosome",
         "showlegend": false,
         "text": "negative regulation of mRNA splicing, via spliceosome loading: 0.18",
         "type": "scattergl",
         "x": [
          0,
          -0.032254346823724245
         ],
         "y": [
          0,
          0.18074456261978333
         ]
        },
        {
         "marker": {
          "color": "darkgrey",
          "opacity": 0.7,
          "showscale": false,
          "size": 3,
          "symbol": 1
         },
         "mode": "markers+lines",
         "name": "mRNA export from nucleus",
         "showlegend": false,
         "text": "mRNA export from nucleus loading: 0.18",
         "type": "scattergl",
         "x": [
          0,
          -0.032676015895492884
         ],
         "y": [
          0,
          0.17925069251570194
         ]
        },
        {
         "marker": {
          "color": "darkgrey",
          "opacity": 0.7,
          "showscale": false,
          "size": 3,
          "symbol": 1
         },
         "mode": "markers+lines",
         "name": "regulation of alternative mRNA splicing, via spliceosome",
         "showlegend": false,
         "text": "regulation of alternative mRNA splicing, via spliceosome loading: 0.18",
         "type": "scattergl",
         "x": [
          0,
          -0.05658796993562889
         ],
         "y": [
          0,
          0.16810725097053406
         ]
        },
        {
         "marker": {
          "color": "darkgrey",
          "opacity": 0.7,
          "showscale": false,
          "size": 3,
          "symbol": 1
         },
         "mode": "markers+lines",
         "name": "mRNA 3'-end processing",
         "showlegend": false,
         "text": "mRNA 3'-end processing loading: 0.17",
         "type": "scattergl",
         "x": [
          0,
          -0.019157158854657585
         ],
         "y": [
          0,
          0.1724384912285166
         ]
        }
       ],
       "layout": {
        "annotations": [
         {
          "align": "center",
          "ax": 20,
          "ay": -30,
          "font": {
           "color": "darkgrey",
           "size": 11
          },
          "showarrow": false,
          "text": "mitochondrial translation",
          "x": 0.5059810330715385,
          "xref": "x",
          "y": -0.09708835800084022,
          "yref": "y"
         },
         {
          "align": "center",
          "ax": 20,
          "ay": -30,
          "font": {
           "color": "darkgrey",
           "size": 11
          },
          "showarrow": false,
          "text": "mitochondrial translational termination",
          "x": 0.4036661615907518,
          "xref": "x",
          "y": -0.06941728658667783,
          "yref": "y"
         },
         {
          "align": "center",
          "ax": 20,
          "ay": -30,
          "font": {
           "color": "darkgrey",
           "size": 11
          },
          "showarrow": false,
          "text": "mitochondrial translational elongation",
          "x": 0.3802523268353569,
          "xref": "x",
          "y": -0.08845297386811907,
          "yref": "y"
         },
         {
          "align": "center",
          "ax": 20,
          "ay": -30,
          "font": {
           "color": "darkgrey",
           "size": 11
          },
          "showarrow": false,
          "text": "protein dephosphorylation",
          "x": 0.3608928300279999,
          "xref": "x",
          "y": -0.03471439215202207,
          "yref": "y"
         },
         {
          "align": "center",
          "ax": 20,
          "ay": -30,
          "font": {
           "color": "darkgrey",
           "size": 11
          },
          "showarrow": false,
          "text": "ribosomal small subunit assembly",
          "x": 0.2961312280196725,
          "xref": "x",
          "y": 0.011793949936771115,
          "yref": "y"
         },
         {
          "align": "center",
          "ax": 20,
          "ay": -30,
          "font": {
           "color": "darkgrey",
           "size": 11
          },
          "showarrow": false,
          "text": "cell adhesion",
          "x": 0.24881106353659913,
          "xref": "x",
          "y": 0.14580606331156618,
          "yref": "y"
         },
         {
          "align": "center",
          "ax": 20,
          "ay": -30,
          "font": {
           "color": "darkgrey",
           "size": 11
          },
          "showarrow": false,
          "text": "Fc-gamma receptor signaling pathway involved in phagocytosis",
          "x": -0.07138874893794828,
          "xref": "x",
          "y": -0.26985753934247597,
          "yref": "y"
         },
         {
          "align": "center",
          "ax": 20,
          "ay": -30,
          "font": {
           "color": "darkgrey",
           "size": 11
          },
          "showarrow": false,
          "text": "mRNA splice site selection",
          "x": -0.08114535934757557,
          "xref": "x",
          "y": 0.2539605971538641,
          "yref": "y"
         },
         {
          "align": "center",
          "ax": 20,
          "ay": -30,
          "font": {
           "color": "darkgrey",
           "size": 11
          },
          "showarrow": false,
          "text": "regulation of RNA metabolic process",
          "x": -0.05820449678150249,
          "xref": "x",
          "y": 0.25197765186561527,
          "yref": "y"
         },
         {
          "align": "center",
          "ax": 20,
          "ay": -30,
          "font": {
           "color": "darkgrey",
           "size": 11
          },
          "showarrow": false,
          "text": "mRNA cis splicing, via spliceosome",
          "x": -0.09318583606294946,
          "xref": "x",
          "y": 0.2375655281185462,
          "yref": "y"
         },
         {
          "align": "center",
          "ax": 20,
          "ay": -30,
          "font": {
           "color": "darkgrey",
           "size": 11
          },
          "showarrow": false,
          "text": "RNA export from nucleus",
          "x": -0.024804154018201578,
          "xref": "x",
          "y": 0.24660951503477002,
          "yref": "y"
         },
         {
          "align": "center",
          "ax": 20,
          "ay": -30,
          "font": {
           "color": "darkgrey",
           "size": 11
          },
          "showarrow": false,
          "text": "negative regulation of mRNA splicing, via spliceosome",
          "x": -0.03709249884728288,
          "xref": "x",
          "y": 0.20785624701275082,
          "yref": "y"
         },
         {
          "align": "center",
          "ax": 20,
          "ay": -30,
          "font": {
           "color": "darkgrey",
           "size": 11
          },
          "showarrow": false,
          "text": "mRNA export from nucleus",
          "x": -0.03757741827981682,
          "xref": "x",
          "y": 0.20613829639305722,
          "yref": "y"
         },
         {
          "align": "center",
          "ax": 20,
          "ay": -30,
          "font": {
           "color": "darkgrey",
           "size": 11
          },
          "showarrow": false,
          "text": "regulation of alternative mRNA splicing, via spliceosome",
          "x": -0.06507616542597322,
          "xref": "x",
          "y": 0.19332333861611414,
          "yref": "y"
         },
         {
          "align": "center",
          "ax": 20,
          "ay": -30,
          "font": {
           "color": "darkgrey",
           "size": 11
          },
          "showarrow": false,
          "text": "mRNA 3'-end processing",
          "x": -0.02203073268285622,
          "xref": "x",
          "y": 0.19830426491279407,
          "yref": "y"
         }
        ],
        "height": 600,
        "hovermode": "closest",
        "legend": {
         "orientation": "h",
         "x": 1,
         "xanchor": "right",
         "y": 1,
         "yanchor": "bottom"
        },
        "template": {
         "data": {
          "bar": [
           {
            "error_x": {
             "color": "#2a3f5f"
            },
            "error_y": {
             "color": "#2a3f5f"
            },
            "marker": {
             "line": {
              "color": "white",
              "width": 0.5
             }
            },
            "type": "bar"
           }
          ],
          "barpolar": [
           {
            "marker": {
             "line": {
              "color": "white",
              "width": 0.5
             }
            },
            "type": "barpolar"
           }
          ],
          "carpet": [
           {
            "aaxis": {
             "endlinecolor": "#2a3f5f",
             "gridcolor": "#C8D4E3",
             "linecolor": "#C8D4E3",
             "minorgridcolor": "#C8D4E3",
             "startlinecolor": "#2a3f5f"
            },
            "baxis": {
             "endlinecolor": "#2a3f5f",
             "gridcolor": "#C8D4E3",
             "linecolor": "#C8D4E3",
             "minorgridcolor": "#C8D4E3",
             "startlinecolor": "#2a3f5f"
            },
            "type": "carpet"
           }
          ],
          "choropleth": [
           {
            "colorbar": {
             "outlinewidth": 0,
             "ticks": ""
            },
            "type": "choropleth"
           }
          ],
          "contour": [
           {
            "colorbar": {
             "outlinewidth": 0,
             "ticks": ""
            },
            "colorscale": [
             [
              0,
              "#0d0887"
             ],
             [
              0.1111111111111111,
              "#46039f"
             ],
             [
              0.2222222222222222,
              "#7201a8"
             ],
             [
              0.3333333333333333,
              "#9c179e"
             ],
             [
              0.4444444444444444,
              "#bd3786"
             ],
             [
              0.5555555555555556,
              "#d8576b"
             ],
             [
              0.6666666666666666,
              "#ed7953"
             ],
             [
              0.7777777777777778,
              "#fb9f3a"
             ],
             [
              0.8888888888888888,
              "#fdca26"
             ],
             [
              1,
              "#f0f921"
             ]
            ],
            "type": "contour"
           }
          ],
          "contourcarpet": [
           {
            "colorbar": {
             "outlinewidth": 0,
             "ticks": ""
            },
            "type": "contourcarpet"
           }
          ],
          "heatmap": [
           {
            "colorbar": {
             "outlinewidth": 0,
             "ticks": ""
            },
            "colorscale": [
             [
              0,
              "#0d0887"
             ],
             [
              0.1111111111111111,
              "#46039f"
             ],
             [
              0.2222222222222222,
              "#7201a8"
             ],
             [
              0.3333333333333333,
              "#9c179e"
             ],
             [
              0.4444444444444444,
              "#bd3786"
             ],
             [
              0.5555555555555556,
              "#d8576b"
             ],
             [
              0.6666666666666666,
              "#ed7953"
             ],
             [
              0.7777777777777778,
              "#fb9f3a"
             ],
             [
              0.8888888888888888,
              "#fdca26"
             ],
             [
              1,
              "#f0f921"
             ]
            ],
            "type": "heatmap"
           }
          ],
          "heatmapgl": [
           {
            "colorbar": {
             "outlinewidth": 0,
             "ticks": ""
            },
            "colorscale": [
             [
              0,
              "#0d0887"
             ],
             [
              0.1111111111111111,
              "#46039f"
             ],
             [
              0.2222222222222222,
              "#7201a8"
             ],
             [
              0.3333333333333333,
              "#9c179e"
             ],
             [
              0.4444444444444444,
              "#bd3786"
             ],
             [
              0.5555555555555556,
              "#d8576b"
             ],
             [
              0.6666666666666666,
              "#ed7953"
             ],
             [
              0.7777777777777778,
              "#fb9f3a"
             ],
             [
              0.8888888888888888,
              "#fdca26"
             ],
             [
              1,
              "#f0f921"
             ]
            ],
            "type": "heatmapgl"
           }
          ],
          "histogram": [
           {
            "marker": {
             "colorbar": {
              "outlinewidth": 0,
              "ticks": ""
             }
            },
            "type": "histogram"
           }
          ],
          "histogram2d": [
           {
            "colorbar": {
             "outlinewidth": 0,
             "ticks": ""
            },
            "colorscale": [
             [
              0,
              "#0d0887"
             ],
             [
              0.1111111111111111,
              "#46039f"
             ],
             [
              0.2222222222222222,
              "#7201a8"
             ],
             [
              0.3333333333333333,
              "#9c179e"
             ],
             [
              0.4444444444444444,
              "#bd3786"
             ],
             [
              0.5555555555555556,
              "#d8576b"
             ],
             [
              0.6666666666666666,
              "#ed7953"
             ],
             [
              0.7777777777777778,
              "#fb9f3a"
             ],
             [
              0.8888888888888888,
              "#fdca26"
             ],
             [
              1,
              "#f0f921"
             ]
            ],
            "type": "histogram2d"
           }
          ],
          "histogram2dcontour": [
           {
            "colorbar": {
             "outlinewidth": 0,
             "ticks": ""
            },
            "colorscale": [
             [
              0,
              "#0d0887"
             ],
             [
              0.1111111111111111,
              "#46039f"
             ],
             [
              0.2222222222222222,
              "#7201a8"
             ],
             [
              0.3333333333333333,
              "#9c179e"
             ],
             [
              0.4444444444444444,
              "#bd3786"
             ],
             [
              0.5555555555555556,
              "#d8576b"
             ],
             [
              0.6666666666666666,
              "#ed7953"
             ],
             [
              0.7777777777777778,
              "#fb9f3a"
             ],
             [
              0.8888888888888888,
              "#fdca26"
             ],
             [
              1,
              "#f0f921"
             ]
            ],
            "type": "histogram2dcontour"
           }
          ],
          "mesh3d": [
           {
            "colorbar": {
             "outlinewidth": 0,
             "ticks": ""
            },
            "type": "mesh3d"
           }
          ],
          "parcoords": [
           {
            "line": {
             "colorbar": {
              "outlinewidth": 0,
              "ticks": ""
             }
            },
            "type": "parcoords"
           }
          ],
          "pie": [
           {
            "automargin": true,
            "type": "pie"
           }
          ],
          "scatter": [
           {
            "marker": {
             "colorbar": {
              "outlinewidth": 0,
              "ticks": ""
             }
            },
            "type": "scatter"
           }
          ],
          "scatter3d": [
           {
            "line": {
             "colorbar": {
              "outlinewidth": 0,
              "ticks": ""
             }
            },
            "marker": {
             "colorbar": {
              "outlinewidth": 0,
              "ticks": ""
             }
            },
            "type": "scatter3d"
           }
          ],
          "scattercarpet": [
           {
            "marker": {
             "colorbar": {
              "outlinewidth": 0,
              "ticks": ""
             }
            },
            "type": "scattercarpet"
           }
          ],
          "scattergeo": [
           {
            "marker": {
             "colorbar": {
              "outlinewidth": 0,
              "ticks": ""
             }
            },
            "type": "scattergeo"
           }
          ],
          "scattergl": [
           {
            "marker": {
             "colorbar": {
              "outlinewidth": 0,
              "ticks": ""
             }
            },
            "type": "scattergl"
           }
          ],
          "scattermapbox": [
           {
            "marker": {
             "colorbar": {
              "outlinewidth": 0,
              "ticks": ""
             }
            },
            "type": "scattermapbox"
           }
          ],
          "scatterpolar": [
           {
            "marker": {
             "colorbar": {
              "outlinewidth": 0,
              "ticks": ""
             }
            },
            "type": "scatterpolar"
           }
          ],
          "scatterpolargl": [
           {
            "marker": {
             "colorbar": {
              "outlinewidth": 0,
              "ticks": ""
             }
            },
            "type": "scatterpolargl"
           }
          ],
          "scatterternary": [
           {
            "marker": {
             "colorbar": {
              "outlinewidth": 0,
              "ticks": ""
             }
            },
            "type": "scatterternary"
           }
          ],
          "surface": [
           {
            "colorbar": {
             "outlinewidth": 0,
             "ticks": ""
            },
            "colorscale": [
             [
              0,
              "#0d0887"
             ],
             [
              0.1111111111111111,
              "#46039f"
             ],
             [
              0.2222222222222222,
              "#7201a8"
             ],
             [
              0.3333333333333333,
              "#9c179e"
             ],
             [
              0.4444444444444444,
              "#bd3786"
             ],
             [
              0.5555555555555556,
              "#d8576b"
             ],
             [
              0.6666666666666666,
              "#ed7953"
             ],
             [
              0.7777777777777778,
              "#fb9f3a"
             ],
             [
              0.8888888888888888,
              "#fdca26"
             ],
             [
              1,
              "#f0f921"
             ]
            ],
            "type": "surface"
           }
          ],
          "table": [
           {
            "cells": {
             "fill": {
              "color": "#EBF0F8"
             },
             "line": {
              "color": "white"
             }
            },
            "header": {
             "fill": {
              "color": "#C8D4E3"
             },
             "line": {
              "color": "white"
             }
            },
            "type": "table"
           }
          ]
         },
         "layout": {
          "annotationdefaults": {
           "arrowcolor": "#2a3f5f",
           "arrowhead": 0,
           "arrowwidth": 1
          },
          "coloraxis": {
           "colorbar": {
            "outlinewidth": 0,
            "ticks": ""
           }
          },
          "colorscale": {
           "diverging": [
            [
             0,
             "#8e0152"
            ],
            [
             0.1,
             "#c51b7d"
            ],
            [
             0.2,
             "#de77ae"
            ],
            [
             0.3,
             "#f1b6da"
            ],
            [
             0.4,
             "#fde0ef"
            ],
            [
             0.5,
             "#f7f7f7"
            ],
            [
             0.6,
             "#e6f5d0"
            ],
            [
             0.7,
             "#b8e186"
            ],
            [
             0.8,
             "#7fbc41"
            ],
            [
             0.9,
             "#4d9221"
            ],
            [
             1,
             "#276419"
            ]
           ],
           "sequential": [
            [
             0,
             "#0d0887"
            ],
            [
             0.1111111111111111,
             "#46039f"
            ],
            [
             0.2222222222222222,
             "#7201a8"
            ],
            [
             0.3333333333333333,
             "#9c179e"
            ],
            [
             0.4444444444444444,
             "#bd3786"
            ],
            [
             0.5555555555555556,
             "#d8576b"
            ],
            [
             0.6666666666666666,
             "#ed7953"
            ],
            [
             0.7777777777777778,
             "#fb9f3a"
            ],
            [
             0.8888888888888888,
             "#fdca26"
            ],
            [
             1,
             "#f0f921"
            ]
           ],
           "sequentialminus": [
            [
             0,
             "#0d0887"
            ],
            [
             0.1111111111111111,
             "#46039f"
            ],
            [
             0.2222222222222222,
             "#7201a8"
            ],
            [
             0.3333333333333333,
             "#9c179e"
            ],
            [
             0.4444444444444444,
             "#bd3786"
            ],
            [
             0.5555555555555556,
             "#d8576b"
            ],
            [
             0.6666666666666666,
             "#ed7953"
            ],
            [
             0.7777777777777778,
             "#fb9f3a"
            ],
            [
             0.8888888888888888,
             "#fdca26"
            ],
            [
             1,
             "#f0f921"
            ]
           ]
          },
          "colorway": [
           "#636efa",
           "#EF553B",
           "#00cc96",
           "#ab63fa",
           "#FFA15A",
           "#19d3f3",
           "#FF6692",
           "#B6E880",
           "#FF97FF",
           "#FECB52"
          ],
          "font": {
           "color": "#2a3f5f"
          },
          "geo": {
           "bgcolor": "white",
           "lakecolor": "white",
           "landcolor": "white",
           "showlakes": true,
           "showland": true,
           "subunitcolor": "#C8D4E3"
          },
          "hoverlabel": {
           "align": "left"
          },
          "hovermode": "closest",
          "mapbox": {
           "style": "light"
          },
          "paper_bgcolor": "white",
          "plot_bgcolor": "white",
          "polar": {
           "angularaxis": {
            "gridcolor": "#EBF0F8",
            "linecolor": "#EBF0F8",
            "ticks": ""
           },
           "bgcolor": "white",
           "radialaxis": {
            "gridcolor": "#EBF0F8",
            "linecolor": "#EBF0F8",
            "ticks": ""
           }
          },
          "scene": {
           "xaxis": {
            "backgroundcolor": "white",
            "gridcolor": "#DFE8F3",
            "gridwidth": 2,
            "linecolor": "#EBF0F8",
            "showbackground": true,
            "ticks": "",
            "zerolinecolor": "#EBF0F8"
           },
           "yaxis": {
            "backgroundcolor": "white",
            "gridcolor": "#DFE8F3",
            "gridwidth": 2,
            "linecolor": "#EBF0F8",
            "showbackground": true,
            "ticks": "",
            "zerolinecolor": "#EBF0F8"
           },
           "zaxis": {
            "backgroundcolor": "white",
            "gridcolor": "#DFE8F3",
            "gridwidth": 2,
            "linecolor": "#EBF0F8",
            "showbackground": true,
            "ticks": "",
            "zerolinecolor": "#EBF0F8"
           }
          },
          "shapedefaults": {
           "line": {
            "color": "#2a3f5f"
           }
          },
          "ternary": {
           "aaxis": {
            "gridcolor": "#DFE8F3",
            "linecolor": "#A2B1C6",
            "ticks": ""
           },
           "baxis": {
            "gridcolor": "#DFE8F3",
            "linecolor": "#A2B1C6",
            "ticks": ""
           },
           "bgcolor": "white",
           "caxis": {
            "gridcolor": "#DFE8F3",
            "linecolor": "#A2B1C6",
            "ticks": ""
           }
          },
          "title": {
           "x": 0.05
          },
          "xaxis": {
           "automargin": true,
           "gridcolor": "#EBF0F8",
           "linecolor": "#EBF0F8",
           "ticks": "",
           "title": {
            "standoff": 15
           },
           "zerolinecolor": "#EBF0F8",
           "zerolinewidth": 2
          },
          "yaxis": {
           "automargin": true,
           "gridcolor": "#EBF0F8",
           "linecolor": "#EBF0F8",
           "ticks": "",
           "title": {
            "standoff": 15
           },
           "zerolinecolor": "#EBF0F8",
           "zerolinewidth": 2
          }
         }
        },
        "title": {
         "text": "PCA plot groups"
        },
        "width": 700,
        "xaxis": {
         "title": {
          "text": "PC1 (0.64)"
         }
        },
        "yaxis": {
         "title": {
          "text": "PC2 (0.27)"
         }
        }
       }
      },
      "text/html": [
       "<div>\n",
       "        \n",
       "        \n",
       "            <div id=\"db5781f3-14c1-4246-82ca-3321b3074951\" class=\"plotly-graph-div\" style=\"height:600px; width:700px;\"></div>\n",
       "            <script type=\"text/javascript\">\n",
       "                require([\"plotly\"], function(Plotly) {\n",
       "                    window.PLOTLYENV=window.PLOTLYENV || {};\n",
       "                    \n",
       "                if (document.getElementById(\"db5781f3-14c1-4246-82ca-3321b3074951\")) {\n",
       "                    Plotly.newPlot(\n",
       "                        'db5781f3-14c1-4246-82ca-3321b3074951',\n",
       "                        [{\"hovertemplate\": \"group=FLAG<br>x=%{x}<br>y=%{y}<extra></extra>\", \"legendgroup\": \"FLAG\", \"marker\": {\"color\": \"#636efa\", \"line\": {\"color\": \"DarkSlateGrey\", \"width\": 0.5}, \"opacity\": 0.7, \"size\": 14, \"symbol\": \"circle\"}, \"mode\": \"markers\", \"name\": \"FLAG\", \"orientation\": \"v\", \"showlegend\": true, \"type\": \"scatter\", \"x\": [-0.3330919704984728, -0.35953779822882764, -0.27444984319455573], \"xaxis\": \"x\", \"y\": [-0.19220521449820885, 0.341143673153864, -0.22940334152580497], \"yaxis\": \"y\"}, {\"hovertemplate\": \"group=FLAG+CT45<br>x=%{x}<br>y=%{y}<extra></extra>\", \"legendgroup\": \"FLAG+CT45\", \"marker\": {\"color\": \"#EF553B\", \"line\": {\"color\": \"DarkSlateGrey\", \"width\": 0.5}, \"opacity\": 0.7, \"size\": 14, \"symbol\": \"circle\"}, \"mode\": \"markers\", \"name\": \"FLAG+CT45\", \"orientation\": \"v\", \"showlegend\": true, \"type\": \"scatter\", \"x\": [0.3709750742641109, 0.22335534179234914, 0.37274919586539607], \"xaxis\": \"x\", \"y\": [-0.11149377637871657, 0.23105839084501467, -0.03909973159614825], \"yaxis\": \"y\"}, {\"marker\": {\"color\": \"darkgrey\", \"opacity\": 0.7, \"showscale\": false, \"size\": 3, \"symbol\": 1}, \"mode\": \"markers+lines\", \"name\": \"mitochondrial translation\", \"showlegend\": false, \"text\": \"mitochondrial translation loading: 0.45\", \"type\": \"scattergl\", \"x\": [0, 0.4399835070187292], \"y\": [0, -0.08442465913116541]}, {\"marker\": {\"color\": \"darkgrey\", \"opacity\": 0.7, \"showscale\": false, \"size\": 3, \"symbol\": 1}, \"mode\": \"markers+lines\", \"name\": \"mitochondrial translational termination\", \"showlegend\": false, \"text\": \"mitochondrial translational termination loading: 0.36\", \"type\": \"scattergl\", \"x\": [0, 0.3510140535571755], \"y\": [0, -0.06036285790145899]}, {\"marker\": {\"color\": \"darkgrey\", \"opacity\": 0.7, \"showscale\": false, \"size\": 3, \"symbol\": 1}, \"mode\": \"markers+lines\", \"name\": \"mitochondrial translational elongation\", \"showlegend\": false, \"text\": \"mitochondrial translational elongation loading: 0.34\", \"type\": \"scattergl\", \"x\": [0, 0.3306541972481365], \"y\": [0, -0.07691562945053833]}, {\"marker\": {\"color\": \"darkgrey\", \"opacity\": 0.7, \"showscale\": false, \"size\": 3, \"symbol\": 1}, \"mode\": \"markers+lines\", \"name\": \"protein dephosphorylation\", \"showlegend\": false, \"text\": \"protein dephosphorylation loading: 0.32\", \"type\": \"scattergl\", \"x\": [0, 0.3138198521982608], \"y\": [0, -0.030186427958280065]}, {\"marker\": {\"color\": \"darkgrey\", \"opacity\": 0.7, \"showscale\": false, \"size\": 3, \"symbol\": 1}, \"mode\": \"markers+lines\", \"name\": \"ribosomal small subunit assembly\", \"showlegend\": false, \"text\": \"ribosomal small subunit assembly loading: 0.26\", \"type\": \"scattergl\", \"x\": [0, 0.2575054156692805], \"y\": [0, 0.010255608640670535]}, {\"marker\": {\"color\": \"darkgrey\", \"opacity\": 0.7, \"showscale\": false, \"size\": 3, \"symbol\": 1}, \"mode\": \"markers+lines\", \"name\": \"cell adhesion\", \"showlegend\": false, \"text\": \"cell adhesion loading: 0.25\", \"type\": \"scattergl\", \"x\": [0, 0.21635744655356448], \"y\": [0, 0.12678788114049233]}, {\"marker\": {\"color\": \"darkgrey\", \"opacity\": 0.7, \"showscale\": false, \"size\": 3, \"symbol\": 1}, \"mode\": \"markers+lines\", \"name\": \"Fc-gamma receptor signaling pathway involved in phagocytosis\", \"showlegend\": false, \"text\": \"Fc-gamma receptor signaling pathway involved in phagocytosis loading: 0.24\", \"type\": \"scattergl\", \"x\": [0, -0.06207717298952025], \"y\": [0, -0.23465872986302258]}, {\"marker\": {\"color\": \"darkgrey\", \"opacity\": 0.7, \"showscale\": false, \"size\": 3, \"symbol\": 1}, \"mode\": \"markers+lines\", \"name\": \"mRNA splice site selection\", \"showlegend\": false, \"text\": \"mRNA splice site selection loading: 0.23\", \"type\": \"scattergl\", \"x\": [0, -0.07056118204137006], \"y\": [0, 0.22083530187292533]}, {\"marker\": {\"color\": \"darkgrey\", \"opacity\": 0.7, \"showscale\": false, \"size\": 3, \"symbol\": 1}, \"mode\": \"markers+lines\", \"name\": \"regulation of RNA metabolic process\", \"showlegend\": false, \"text\": \"regulation of RNA metabolic process loading: 0.22\", \"type\": \"scattergl\", \"x\": [0, -0.05061260589695869], \"y\": [0, 0.21911100162227415]}, {\"marker\": {\"color\": \"darkgrey\", \"opacity\": 0.7, \"showscale\": false, \"size\": 3, \"symbol\": 1}, \"mode\": \"markers+lines\", \"name\": \"mRNA cis splicing, via spliceosome\", \"showlegend\": false, \"text\": \"mRNA cis splicing, via spliceosome loading: 0.22\", \"type\": \"scattergl\", \"x\": [0, -0.0810311617938691], \"y\": [0, 0.20657872010308367]}, {\"marker\": {\"color\": \"darkgrey\", \"opacity\": 0.7, \"showscale\": false, \"size\": 3, \"symbol\": 1}, \"mode\": \"markers+lines\", \"name\": \"RNA export from nucleus\", \"showlegend\": false, \"text\": \"RNA export from nucleus loading: 0.22\", \"type\": \"scattergl\", \"x\": [0, -0.021568829581044852], \"y\": [0, 0.21444305655197396]}, {\"marker\": {\"color\": \"darkgrey\", \"opacity\": 0.7, \"showscale\": false, \"size\": 3, \"symbol\": 1}, \"mode\": \"markers+lines\", \"name\": \"negative regulation of mRNA splicing, via spliceosome\", \"showlegend\": false, \"text\": \"negative regulation of mRNA splicing, via spliceosome loading: 0.18\", \"type\": \"scattergl\", \"x\": [0, -0.032254346823724245], \"y\": [0, 0.18074456261978333]}, {\"marker\": {\"color\": \"darkgrey\", \"opacity\": 0.7, \"showscale\": false, \"size\": 3, \"symbol\": 1}, \"mode\": \"markers+lines\", \"name\": \"mRNA export from nucleus\", \"showlegend\": false, \"text\": \"mRNA export from nucleus loading: 0.18\", \"type\": \"scattergl\", \"x\": [0, -0.032676015895492884], \"y\": [0, 0.17925069251570194]}, {\"marker\": {\"color\": \"darkgrey\", \"opacity\": 0.7, \"showscale\": false, \"size\": 3, \"symbol\": 1}, \"mode\": \"markers+lines\", \"name\": \"regulation of alternative mRNA splicing, via spliceosome\", \"showlegend\": false, \"text\": \"regulation of alternative mRNA splicing, via spliceosome loading: 0.18\", \"type\": \"scattergl\", \"x\": [0, -0.05658796993562889], \"y\": [0, 0.16810725097053406]}, {\"marker\": {\"color\": \"darkgrey\", \"opacity\": 0.7, \"showscale\": false, \"size\": 3, \"symbol\": 1}, \"mode\": \"markers+lines\", \"name\": \"mRNA 3'-end processing\", \"showlegend\": false, \"text\": \"mRNA 3'-end processing loading: 0.17\", \"type\": \"scattergl\", \"x\": [0, -0.019157158854657585], \"y\": [0, 0.1724384912285166]}],\n",
       "                        {\"annotations\": [{\"align\": \"center\", \"ax\": 20, \"ay\": -30, \"font\": {\"color\": \"darkgrey\", \"size\": 11}, \"showarrow\": false, \"text\": \"mitochondrial translation\", \"x\": 0.5059810330715385, \"xref\": \"x\", \"y\": -0.09708835800084022, \"yref\": \"y\"}, {\"align\": \"center\", \"ax\": 20, \"ay\": -30, \"font\": {\"color\": \"darkgrey\", \"size\": 11}, \"showarrow\": false, \"text\": \"mitochondrial translational termination\", \"x\": 0.4036661615907518, \"xref\": \"x\", \"y\": -0.06941728658667783, \"yref\": \"y\"}, {\"align\": \"center\", \"ax\": 20, \"ay\": -30, \"font\": {\"color\": \"darkgrey\", \"size\": 11}, \"showarrow\": false, \"text\": \"mitochondrial translational elongation\", \"x\": 0.3802523268353569, \"xref\": \"x\", \"y\": -0.08845297386811907, \"yref\": \"y\"}, {\"align\": \"center\", \"ax\": 20, \"ay\": -30, \"font\": {\"color\": \"darkgrey\", \"size\": 11}, \"showarrow\": false, \"text\": \"protein dephosphorylation\", \"x\": 0.3608928300279999, \"xref\": \"x\", \"y\": -0.03471439215202207, \"yref\": \"y\"}, {\"align\": \"center\", \"ax\": 20, \"ay\": -30, \"font\": {\"color\": \"darkgrey\", \"size\": 11}, \"showarrow\": false, \"text\": \"ribosomal small subunit assembly\", \"x\": 0.2961312280196725, \"xref\": \"x\", \"y\": 0.011793949936771115, \"yref\": \"y\"}, {\"align\": \"center\", \"ax\": 20, \"ay\": -30, \"font\": {\"color\": \"darkgrey\", \"size\": 11}, \"showarrow\": false, \"text\": \"cell adhesion\", \"x\": 0.24881106353659913, \"xref\": \"x\", \"y\": 0.14580606331156618, \"yref\": \"y\"}, {\"align\": \"center\", \"ax\": 20, \"ay\": -30, \"font\": {\"color\": \"darkgrey\", \"size\": 11}, \"showarrow\": false, \"text\": \"Fc-gamma receptor signaling pathway involved in phagocytosis\", \"x\": -0.07138874893794828, \"xref\": \"x\", \"y\": -0.26985753934247597, \"yref\": \"y\"}, {\"align\": \"center\", \"ax\": 20, \"ay\": -30, \"font\": {\"color\": \"darkgrey\", \"size\": 11}, \"showarrow\": false, \"text\": \"mRNA splice site selection\", \"x\": -0.08114535934757557, \"xref\": \"x\", \"y\": 0.2539605971538641, \"yref\": \"y\"}, {\"align\": \"center\", \"ax\": 20, \"ay\": -30, \"font\": {\"color\": \"darkgrey\", \"size\": 11}, \"showarrow\": false, \"text\": \"regulation of RNA metabolic process\", \"x\": -0.05820449678150249, \"xref\": \"x\", \"y\": 0.25197765186561527, \"yref\": \"y\"}, {\"align\": \"center\", \"ax\": 20, \"ay\": -30, \"font\": {\"color\": \"darkgrey\", \"size\": 11}, \"showarrow\": false, \"text\": \"mRNA cis splicing, via spliceosome\", \"x\": -0.09318583606294946, \"xref\": \"x\", \"y\": 0.2375655281185462, \"yref\": \"y\"}, {\"align\": \"center\", \"ax\": 20, \"ay\": -30, \"font\": {\"color\": \"darkgrey\", \"size\": 11}, \"showarrow\": false, \"text\": \"RNA export from nucleus\", \"x\": -0.024804154018201578, \"xref\": \"x\", \"y\": 0.24660951503477002, \"yref\": \"y\"}, {\"align\": \"center\", \"ax\": 20, \"ay\": -30, \"font\": {\"color\": \"darkgrey\", \"size\": 11}, \"showarrow\": false, \"text\": \"negative regulation of mRNA splicing, via spliceosome\", \"x\": -0.03709249884728288, \"xref\": \"x\", \"y\": 0.20785624701275082, \"yref\": \"y\"}, {\"align\": \"center\", \"ax\": 20, \"ay\": -30, \"font\": {\"color\": \"darkgrey\", \"size\": 11}, \"showarrow\": false, \"text\": \"mRNA export from nucleus\", \"x\": -0.03757741827981682, \"xref\": \"x\", \"y\": 0.20613829639305722, \"yref\": \"y\"}, {\"align\": \"center\", \"ax\": 20, \"ay\": -30, \"font\": {\"color\": \"darkgrey\", \"size\": 11}, \"showarrow\": false, \"text\": \"regulation of alternative mRNA splicing, via spliceosome\", \"x\": -0.06507616542597322, \"xref\": \"x\", \"y\": 0.19332333861611414, \"yref\": \"y\"}, {\"align\": \"center\", \"ax\": 20, \"ay\": -30, \"font\": {\"color\": \"darkgrey\", \"size\": 11}, \"showarrow\": false, \"text\": \"mRNA 3'-end processing\", \"x\": -0.02203073268285622, \"xref\": \"x\", \"y\": 0.19830426491279407, \"yref\": \"y\"}], \"height\": 600, \"hovermode\": \"closest\", \"legend\": {\"orientation\": \"h\", \"x\": 1, \"xanchor\": \"right\", \"y\": 1.0, \"yanchor\": \"bottom\"}, \"template\": {\"data\": {\"bar\": [{\"error_x\": {\"color\": \"#2a3f5f\"}, \"error_y\": {\"color\": \"#2a3f5f\"}, \"marker\": {\"line\": {\"color\": \"white\", \"width\": 0.5}}, \"type\": \"bar\"}], \"barpolar\": [{\"marker\": {\"line\": {\"color\": \"white\", \"width\": 0.5}}, \"type\": \"barpolar\"}], \"carpet\": [{\"aaxis\": {\"endlinecolor\": \"#2a3f5f\", \"gridcolor\": \"#C8D4E3\", \"linecolor\": \"#C8D4E3\", \"minorgridcolor\": \"#C8D4E3\", \"startlinecolor\": \"#2a3f5f\"}, \"baxis\": {\"endlinecolor\": \"#2a3f5f\", \"gridcolor\": \"#C8D4E3\", \"linecolor\": \"#C8D4E3\", \"minorgridcolor\": \"#C8D4E3\", \"startlinecolor\": \"#2a3f5f\"}, \"type\": \"carpet\"}], \"choropleth\": [{\"colorbar\": {\"outlinewidth\": 0, \"ticks\": \"\"}, \"type\": \"choropleth\"}], \"contour\": [{\"colorbar\": {\"outlinewidth\": 0, \"ticks\": \"\"}, \"colorscale\": [[0.0, \"#0d0887\"], [0.1111111111111111, \"#46039f\"], [0.2222222222222222, \"#7201a8\"], [0.3333333333333333, \"#9c179e\"], [0.4444444444444444, \"#bd3786\"], [0.5555555555555556, \"#d8576b\"], [0.6666666666666666, \"#ed7953\"], [0.7777777777777778, \"#fb9f3a\"], [0.8888888888888888, \"#fdca26\"], [1.0, \"#f0f921\"]], \"type\": \"contour\"}], \"contourcarpet\": [{\"colorbar\": {\"outlinewidth\": 0, \"ticks\": \"\"}, \"type\": \"contourcarpet\"}], \"heatmap\": [{\"colorbar\": {\"outlinewidth\": 0, \"ticks\": \"\"}, \"colorscale\": [[0.0, \"#0d0887\"], [0.1111111111111111, \"#46039f\"], [0.2222222222222222, \"#7201a8\"], [0.3333333333333333, \"#9c179e\"], [0.4444444444444444, \"#bd3786\"], [0.5555555555555556, \"#d8576b\"], [0.6666666666666666, \"#ed7953\"], [0.7777777777777778, \"#fb9f3a\"], [0.8888888888888888, \"#fdca26\"], [1.0, \"#f0f921\"]], \"type\": \"heatmap\"}], \"heatmapgl\": [{\"colorbar\": {\"outlinewidth\": 0, \"ticks\": \"\"}, \"colorscale\": [[0.0, \"#0d0887\"], [0.1111111111111111, \"#46039f\"], [0.2222222222222222, \"#7201a8\"], [0.3333333333333333, \"#9c179e\"], [0.4444444444444444, \"#bd3786\"], [0.5555555555555556, \"#d8576b\"], [0.6666666666666666, \"#ed7953\"], [0.7777777777777778, \"#fb9f3a\"], [0.8888888888888888, \"#fdca26\"], [1.0, \"#f0f921\"]], \"type\": \"heatmapgl\"}], \"histogram\": [{\"marker\": {\"colorbar\": {\"outlinewidth\": 0, \"ticks\": \"\"}}, \"type\": \"histogram\"}], \"histogram2d\": [{\"colorbar\": {\"outlinewidth\": 0, \"ticks\": \"\"}, \"colorscale\": [[0.0, \"#0d0887\"], [0.1111111111111111, \"#46039f\"], [0.2222222222222222, \"#7201a8\"], [0.3333333333333333, \"#9c179e\"], [0.4444444444444444, \"#bd3786\"], [0.5555555555555556, \"#d8576b\"], [0.6666666666666666, \"#ed7953\"], [0.7777777777777778, \"#fb9f3a\"], [0.8888888888888888, \"#fdca26\"], [1.0, \"#f0f921\"]], \"type\": \"histogram2d\"}], \"histogram2dcontour\": [{\"colorbar\": {\"outlinewidth\": 0, \"ticks\": \"\"}, \"colorscale\": [[0.0, \"#0d0887\"], [0.1111111111111111, \"#46039f\"], [0.2222222222222222, \"#7201a8\"], [0.3333333333333333, \"#9c179e\"], [0.4444444444444444, \"#bd3786\"], [0.5555555555555556, \"#d8576b\"], [0.6666666666666666, \"#ed7953\"], [0.7777777777777778, \"#fb9f3a\"], [0.8888888888888888, \"#fdca26\"], [1.0, \"#f0f921\"]], \"type\": \"histogram2dcontour\"}], \"mesh3d\": [{\"colorbar\": {\"outlinewidth\": 0, \"ticks\": \"\"}, \"type\": \"mesh3d\"}], \"parcoords\": [{\"line\": {\"colorbar\": {\"outlinewidth\": 0, \"ticks\": \"\"}}, \"type\": \"parcoords\"}], \"pie\": [{\"automargin\": true, \"type\": \"pie\"}], \"scatter\": [{\"marker\": {\"colorbar\": {\"outlinewidth\": 0, \"ticks\": \"\"}}, \"type\": \"scatter\"}], \"scatter3d\": [{\"line\": {\"colorbar\": {\"outlinewidth\": 0, \"ticks\": \"\"}}, \"marker\": {\"colorbar\": {\"outlinewidth\": 0, \"ticks\": \"\"}}, \"type\": \"scatter3d\"}], \"scattercarpet\": [{\"marker\": {\"colorbar\": {\"outlinewidth\": 0, \"ticks\": \"\"}}, \"type\": \"scattercarpet\"}], \"scattergeo\": [{\"marker\": {\"colorbar\": {\"outlinewidth\": 0, \"ticks\": \"\"}}, \"type\": \"scattergeo\"}], \"scattergl\": [{\"marker\": {\"colorbar\": {\"outlinewidth\": 0, \"ticks\": \"\"}}, \"type\": \"scattergl\"}], \"scattermapbox\": [{\"marker\": {\"colorbar\": {\"outlinewidth\": 0, \"ticks\": \"\"}}, \"type\": \"scattermapbox\"}], \"scatterpolar\": [{\"marker\": {\"colorbar\": {\"outlinewidth\": 0, \"ticks\": \"\"}}, \"type\": \"scatterpolar\"}], \"scatterpolargl\": [{\"marker\": {\"colorbar\": {\"outlinewidth\": 0, \"ticks\": \"\"}}, \"type\": \"scatterpolargl\"}], \"scatterternary\": [{\"marker\": {\"colorbar\": {\"outlinewidth\": 0, \"ticks\": \"\"}}, \"type\": \"scatterternary\"}], \"surface\": [{\"colorbar\": {\"outlinewidth\": 0, \"ticks\": \"\"}, \"colorscale\": [[0.0, \"#0d0887\"], [0.1111111111111111, \"#46039f\"], [0.2222222222222222, \"#7201a8\"], [0.3333333333333333, \"#9c179e\"], [0.4444444444444444, \"#bd3786\"], [0.5555555555555556, \"#d8576b\"], [0.6666666666666666, \"#ed7953\"], [0.7777777777777778, \"#fb9f3a\"], [0.8888888888888888, \"#fdca26\"], [1.0, \"#f0f921\"]], \"type\": \"surface\"}], \"table\": [{\"cells\": {\"fill\": {\"color\": \"#EBF0F8\"}, \"line\": {\"color\": \"white\"}}, \"header\": {\"fill\": {\"color\": \"#C8D4E3\"}, \"line\": {\"color\": \"white\"}}, \"type\": \"table\"}]}, \"layout\": {\"annotationdefaults\": {\"arrowcolor\": \"#2a3f5f\", \"arrowhead\": 0, \"arrowwidth\": 1}, \"coloraxis\": {\"colorbar\": {\"outlinewidth\": 0, \"ticks\": \"\"}}, \"colorscale\": {\"diverging\": [[0, \"#8e0152\"], [0.1, \"#c51b7d\"], [0.2, \"#de77ae\"], [0.3, \"#f1b6da\"], [0.4, \"#fde0ef\"], [0.5, \"#f7f7f7\"], [0.6, \"#e6f5d0\"], [0.7, \"#b8e186\"], [0.8, \"#7fbc41\"], [0.9, \"#4d9221\"], [1, \"#276419\"]], \"sequential\": [[0.0, \"#0d0887\"], [0.1111111111111111, \"#46039f\"], [0.2222222222222222, \"#7201a8\"], [0.3333333333333333, \"#9c179e\"], [0.4444444444444444, \"#bd3786\"], [0.5555555555555556, \"#d8576b\"], [0.6666666666666666, \"#ed7953\"], [0.7777777777777778, \"#fb9f3a\"], [0.8888888888888888, \"#fdca26\"], [1.0, \"#f0f921\"]], \"sequentialminus\": [[0.0, \"#0d0887\"], [0.1111111111111111, \"#46039f\"], [0.2222222222222222, \"#7201a8\"], [0.3333333333333333, \"#9c179e\"], [0.4444444444444444, \"#bd3786\"], [0.5555555555555556, \"#d8576b\"], [0.6666666666666666, \"#ed7953\"], [0.7777777777777778, \"#fb9f3a\"], [0.8888888888888888, \"#fdca26\"], [1.0, \"#f0f921\"]]}, \"colorway\": [\"#636efa\", \"#EF553B\", \"#00cc96\", \"#ab63fa\", \"#FFA15A\", \"#19d3f3\", \"#FF6692\", \"#B6E880\", \"#FF97FF\", \"#FECB52\"], \"font\": {\"color\": \"#2a3f5f\"}, \"geo\": {\"bgcolor\": \"white\", \"lakecolor\": \"white\", \"landcolor\": \"white\", \"showlakes\": true, \"showland\": true, \"subunitcolor\": \"#C8D4E3\"}, \"hoverlabel\": {\"align\": \"left\"}, \"hovermode\": \"closest\", \"mapbox\": {\"style\": \"light\"}, \"paper_bgcolor\": \"white\", \"plot_bgcolor\": \"white\", \"polar\": {\"angularaxis\": {\"gridcolor\": \"#EBF0F8\", \"linecolor\": \"#EBF0F8\", \"ticks\": \"\"}, \"bgcolor\": \"white\", \"radialaxis\": {\"gridcolor\": \"#EBF0F8\", \"linecolor\": \"#EBF0F8\", \"ticks\": \"\"}}, \"scene\": {\"xaxis\": {\"backgroundcolor\": \"white\", \"gridcolor\": \"#DFE8F3\", \"gridwidth\": 2, \"linecolor\": \"#EBF0F8\", \"showbackground\": true, \"ticks\": \"\", \"zerolinecolor\": \"#EBF0F8\"}, \"yaxis\": {\"backgroundcolor\": \"white\", \"gridcolor\": \"#DFE8F3\", \"gridwidth\": 2, \"linecolor\": \"#EBF0F8\", \"showbackground\": true, \"ticks\": \"\", \"zerolinecolor\": \"#EBF0F8\"}, \"zaxis\": {\"backgroundcolor\": \"white\", \"gridcolor\": \"#DFE8F3\", \"gridwidth\": 2, \"linecolor\": \"#EBF0F8\", \"showbackground\": true, \"ticks\": \"\", \"zerolinecolor\": \"#EBF0F8\"}}, \"shapedefaults\": {\"line\": {\"color\": \"#2a3f5f\"}}, \"ternary\": {\"aaxis\": {\"gridcolor\": \"#DFE8F3\", \"linecolor\": \"#A2B1C6\", \"ticks\": \"\"}, \"baxis\": {\"gridcolor\": \"#DFE8F3\", \"linecolor\": \"#A2B1C6\", \"ticks\": \"\"}, \"bgcolor\": \"white\", \"caxis\": {\"gridcolor\": \"#DFE8F3\", \"linecolor\": \"#A2B1C6\", \"ticks\": \"\"}}, \"title\": {\"x\": 0.05}, \"xaxis\": {\"automargin\": true, \"gridcolor\": \"#EBF0F8\", \"linecolor\": \"#EBF0F8\", \"ticks\": \"\", \"title\": {\"standoff\": 15}, \"zerolinecolor\": \"#EBF0F8\", \"zerolinewidth\": 2}, \"yaxis\": {\"automargin\": true, \"gridcolor\": \"#EBF0F8\", \"linecolor\": \"#EBF0F8\", \"ticks\": \"\", \"title\": {\"standoff\": 15}, \"zerolinecolor\": \"#EBF0F8\", \"zerolinewidth\": 2}}}, \"title\": {\"text\": \"PCA plot groups\"}, \"width\": 700, \"xaxis\": {\"title\": {\"text\": \"PC1 (0.64)\"}}, \"yaxis\": {\"title\": {\"text\": \"PC2 (0.27)\"}}},\n",
       "                        {\"responsive\": true}\n",
       "                    ).then(function(){\n",
       "                            \n",
       "var gd = document.getElementById('db5781f3-14c1-4246-82ca-3321b3074951');\n",
       "var x = new MutationObserver(function (mutations, observer) {{\n",
       "        var display = window.getComputedStyle(gd).display;\n",
       "        if (!display || display === 'none') {{\n",
       "            console.log([gd, 'removed!']);\n",
       "            Plotly.purge(gd);\n",
       "            observer.disconnect();\n",
       "        }}\n",
       "}});\n",
       "\n",
       "// Listen for the removal of the full notebook cells\n",
       "var notebookContainer = gd.closest('#notebook-container');\n",
       "if (notebookContainer) {{\n",
       "    x.observe(notebookContainer, {childList: true});\n",
       "}}\n",
       "\n",
       "// Listen for the clearing of the current output cell\n",
       "var outputEl = gd.closest('.output');\n",
       "if (outputEl) {{\n",
       "    x.observe(outputEl, {childList: true});\n",
       "}}\n",
       "\n",
       "                        })\n",
       "                };\n",
       "                });\n",
       "            </script>\n",
       "        </div>"
      ]
     },
     "metadata": {},
     "output_type": "display_data"
    }
   ],
   "source": [
    "args.update({\"loadings\":15, \"title\":'PCA plot groups', 'height':600, 'width':700, 'factor':1})\n",
    "plot = viz.get_pca_plot(pca_result, identifier='pca', args=args)\n",
    "iplot(plot.figure)"
   ]
  },
  {
   "cell_type": "code",
   "execution_count": 103,
   "metadata": {},
   "outputs": [],
   "source": [
    "ssgsea_result2 = analytics.run_ssgsea(processed_dataset2, annotations2, annotation_col='annotation', identifier_col='identifier', set_index=['group', 'sample','subject'], outdir=None, min_size=10, scale=False, permutations=0)"
   ]
  },
  {
   "cell_type": "code",
   "execution_count": 104,
   "metadata": {},
   "outputs": [
    {
     "data": {
      "text/html": [
       "<div>\n",
       "<style scoped>\n",
       "    .dataframe tbody tr th:only-of-type {\n",
       "        vertical-align: middle;\n",
       "    }\n",
       "\n",
       "    .dataframe tbody tr th {\n",
       "        vertical-align: top;\n",
       "    }\n",
       "\n",
       "    .dataframe thead th {\n",
       "        text-align: right;\n",
       "    }\n",
       "</style>\n",
       "<table border=\"1\" class=\"dataframe\">\n",
       "  <thead>\n",
       "    <tr style=\"text-align: right;\">\n",
       "      <th></th>\n",
       "      <th>ATP-dependent chromatin remodeling</th>\n",
       "      <th>COPII vesicle coating</th>\n",
       "      <th>DNA duplex unwinding</th>\n",
       "      <th>DNA repair</th>\n",
       "      <th>Fc-epsilon receptor signaling pathway</th>\n",
       "      <th>Fc-gamma receptor signaling pathway involved in phagocytosis</th>\n",
       "      <th>G2/M transition of mitotic cell cycle</th>\n",
       "      <th>MAPK cascade</th>\n",
       "      <th>NIK/NF-kappaB signaling</th>\n",
       "      <th>RNA export from nucleus</th>\n",
       "      <th>...</th>\n",
       "      <th>translation</th>\n",
       "      <th>translational initiation</th>\n",
       "      <th>transmembrane transport</th>\n",
       "      <th>tumor necrosis factor-mediated signaling pathway</th>\n",
       "      <th>ubiquitin-dependent protein catabolic process</th>\n",
       "      <th>viral process</th>\n",
       "      <th>viral transcription</th>\n",
       "      <th>group</th>\n",
       "      <th>sample</th>\n",
       "      <th>subject</th>\n",
       "    </tr>\n",
       "  </thead>\n",
       "  <tbody>\n",
       "    <tr>\n",
       "      <th>V5_AS921_S116</th>\n",
       "      <td>0.044262</td>\n",
       "      <td>-0.010696</td>\n",
       "      <td>0.204359</td>\n",
       "      <td>0.170231</td>\n",
       "      <td>-0.166454</td>\n",
       "      <td>0.278150</td>\n",
       "      <td>0.180737</td>\n",
       "      <td>-0.070821</td>\n",
       "      <td>-0.434774</td>\n",
       "      <td>0.058232</td>\n",
       "      <td>...</td>\n",
       "      <td>0.387313</td>\n",
       "      <td>0.381839</td>\n",
       "      <td>-0.212196</td>\n",
       "      <td>-0.191530</td>\n",
       "      <td>-0.261737</td>\n",
       "      <td>0.112756</td>\n",
       "      <td>0.417030</td>\n",
       "      <td>V5</td>\n",
       "      <td>AS921</td>\n",
       "      <td>S116</td>\n",
       "    </tr>\n",
       "    <tr>\n",
       "      <th>V5_AS922_S117</th>\n",
       "      <td>0.053901</td>\n",
       "      <td>-0.048848</td>\n",
       "      <td>0.160694</td>\n",
       "      <td>0.154869</td>\n",
       "      <td>-0.225246</td>\n",
       "      <td>0.328772</td>\n",
       "      <td>0.165380</td>\n",
       "      <td>-0.101982</td>\n",
       "      <td>-0.542500</td>\n",
       "      <td>0.041150</td>\n",
       "      <td>...</td>\n",
       "      <td>0.380391</td>\n",
       "      <td>0.377981</td>\n",
       "      <td>-0.269878</td>\n",
       "      <td>-0.224860</td>\n",
       "      <td>-0.292436</td>\n",
       "      <td>0.100454</td>\n",
       "      <td>0.410628</td>\n",
       "      <td>V5</td>\n",
       "      <td>AS922</td>\n",
       "      <td>S117</td>\n",
       "    </tr>\n",
       "    <tr>\n",
       "      <th>V5_AS923_S118</th>\n",
       "      <td>-0.052357</td>\n",
       "      <td>-0.011790</td>\n",
       "      <td>0.169802</td>\n",
       "      <td>0.169539</td>\n",
       "      <td>-0.167112</td>\n",
       "      <td>0.219772</td>\n",
       "      <td>0.192022</td>\n",
       "      <td>-0.040777</td>\n",
       "      <td>-0.411418</td>\n",
       "      <td>0.043397</td>\n",
       "      <td>...</td>\n",
       "      <td>0.395837</td>\n",
       "      <td>0.390451</td>\n",
       "      <td>-0.190605</td>\n",
       "      <td>-0.173792</td>\n",
       "      <td>-0.278322</td>\n",
       "      <td>0.108900</td>\n",
       "      <td>0.428926</td>\n",
       "      <td>V5</td>\n",
       "      <td>AS923</td>\n",
       "      <td>S118</td>\n",
       "    </tr>\n",
       "    <tr>\n",
       "      <th>V5+CT45_AS924_S119</th>\n",
       "      <td>0.062566</td>\n",
       "      <td>-0.088893</td>\n",
       "      <td>0.197607</td>\n",
       "      <td>0.224874</td>\n",
       "      <td>-0.112584</td>\n",
       "      <td>0.238658</td>\n",
       "      <td>0.229253</td>\n",
       "      <td>-0.034617</td>\n",
       "      <td>-0.182225</td>\n",
       "      <td>-0.050214</td>\n",
       "      <td>...</td>\n",
       "      <td>0.387171</td>\n",
       "      <td>0.373498</td>\n",
       "      <td>-0.169060</td>\n",
       "      <td>-0.074586</td>\n",
       "      <td>-0.128237</td>\n",
       "      <td>0.103801</td>\n",
       "      <td>0.417750</td>\n",
       "      <td>V5+CT45</td>\n",
       "      <td>AS924</td>\n",
       "      <td>S119</td>\n",
       "    </tr>\n",
       "    <tr>\n",
       "      <th>V5+CT45_AS925_S120</th>\n",
       "      <td>0.073479</td>\n",
       "      <td>-0.093424</td>\n",
       "      <td>0.194265</td>\n",
       "      <td>0.216908</td>\n",
       "      <td>-0.069579</td>\n",
       "      <td>0.207769</td>\n",
       "      <td>0.211539</td>\n",
       "      <td>-0.013577</td>\n",
       "      <td>-0.146667</td>\n",
       "      <td>-0.012140</td>\n",
       "      <td>...</td>\n",
       "      <td>0.382935</td>\n",
       "      <td>0.375096</td>\n",
       "      <td>-0.141614</td>\n",
       "      <td>-0.058460</td>\n",
       "      <td>-0.130907</td>\n",
       "      <td>0.093867</td>\n",
       "      <td>0.413617</td>\n",
       "      <td>V5+CT45</td>\n",
       "      <td>AS925</td>\n",
       "      <td>S120</td>\n",
       "    </tr>\n",
       "    <tr>\n",
       "      <th>V5+CT45_AS926_S121</th>\n",
       "      <td>0.079657</td>\n",
       "      <td>-0.091373</td>\n",
       "      <td>0.180172</td>\n",
       "      <td>0.183295</td>\n",
       "      <td>-0.134906</td>\n",
       "      <td>0.270098</td>\n",
       "      <td>0.203470</td>\n",
       "      <td>-0.042416</td>\n",
       "      <td>-0.206953</td>\n",
       "      <td>-0.033957</td>\n",
       "      <td>...</td>\n",
       "      <td>0.379303</td>\n",
       "      <td>0.368977</td>\n",
       "      <td>-0.177034</td>\n",
       "      <td>-0.106843</td>\n",
       "      <td>-0.090751</td>\n",
       "      <td>0.082380</td>\n",
       "      <td>0.413381</td>\n",
       "      <td>V5+CT45</td>\n",
       "      <td>AS926</td>\n",
       "      <td>S121</td>\n",
       "    </tr>\n",
       "  </tbody>\n",
       "</table>\n",
       "<p>6 rows × 167 columns</p>\n",
       "</div>"
      ],
      "text/plain": [
       "                    ATP-dependent chromatin remodeling  COPII vesicle coating  \\\n",
       "V5_AS921_S116                                 0.044262              -0.010696   \n",
       "V5_AS922_S117                                 0.053901              -0.048848   \n",
       "V5_AS923_S118                                -0.052357              -0.011790   \n",
       "V5+CT45_AS924_S119                            0.062566              -0.088893   \n",
       "V5+CT45_AS925_S120                            0.073479              -0.093424   \n",
       "V5+CT45_AS926_S121                            0.079657              -0.091373   \n",
       "\n",
       "                    DNA duplex unwinding  DNA repair  \\\n",
       "V5_AS921_S116                   0.204359    0.170231   \n",
       "V5_AS922_S117                   0.160694    0.154869   \n",
       "V5_AS923_S118                   0.169802    0.169539   \n",
       "V5+CT45_AS924_S119              0.197607    0.224874   \n",
       "V5+CT45_AS925_S120              0.194265    0.216908   \n",
       "V5+CT45_AS926_S121              0.180172    0.183295   \n",
       "\n",
       "                    Fc-epsilon receptor signaling pathway  \\\n",
       "V5_AS921_S116                                   -0.166454   \n",
       "V5_AS922_S117                                   -0.225246   \n",
       "V5_AS923_S118                                   -0.167112   \n",
       "V5+CT45_AS924_S119                              -0.112584   \n",
       "V5+CT45_AS925_S120                              -0.069579   \n",
       "V5+CT45_AS926_S121                              -0.134906   \n",
       "\n",
       "                    Fc-gamma receptor signaling pathway involved in phagocytosis  \\\n",
       "V5_AS921_S116                                                0.278150              \n",
       "V5_AS922_S117                                                0.328772              \n",
       "V5_AS923_S118                                                0.219772              \n",
       "V5+CT45_AS924_S119                                           0.238658              \n",
       "V5+CT45_AS925_S120                                           0.207769              \n",
       "V5+CT45_AS926_S121                                           0.270098              \n",
       "\n",
       "                    G2/M transition of mitotic cell cycle  MAPK cascade  \\\n",
       "V5_AS921_S116                                    0.180737     -0.070821   \n",
       "V5_AS922_S117                                    0.165380     -0.101982   \n",
       "V5_AS923_S118                                    0.192022     -0.040777   \n",
       "V5+CT45_AS924_S119                               0.229253     -0.034617   \n",
       "V5+CT45_AS925_S120                               0.211539     -0.013577   \n",
       "V5+CT45_AS926_S121                               0.203470     -0.042416   \n",
       "\n",
       "                    NIK/NF-kappaB signaling  RNA export from nucleus  ...  \\\n",
       "V5_AS921_S116                     -0.434774                 0.058232  ...   \n",
       "V5_AS922_S117                     -0.542500                 0.041150  ...   \n",
       "V5_AS923_S118                     -0.411418                 0.043397  ...   \n",
       "V5+CT45_AS924_S119                -0.182225                -0.050214  ...   \n",
       "V5+CT45_AS925_S120                -0.146667                -0.012140  ...   \n",
       "V5+CT45_AS926_S121                -0.206953                -0.033957  ...   \n",
       "\n",
       "                    translation  translational initiation  \\\n",
       "V5_AS921_S116          0.387313                  0.381839   \n",
       "V5_AS922_S117          0.380391                  0.377981   \n",
       "V5_AS923_S118          0.395837                  0.390451   \n",
       "V5+CT45_AS924_S119     0.387171                  0.373498   \n",
       "V5+CT45_AS925_S120     0.382935                  0.375096   \n",
       "V5+CT45_AS926_S121     0.379303                  0.368977   \n",
       "\n",
       "                    transmembrane transport  \\\n",
       "V5_AS921_S116                     -0.212196   \n",
       "V5_AS922_S117                     -0.269878   \n",
       "V5_AS923_S118                     -0.190605   \n",
       "V5+CT45_AS924_S119                -0.169060   \n",
       "V5+CT45_AS925_S120                -0.141614   \n",
       "V5+CT45_AS926_S121                -0.177034   \n",
       "\n",
       "                    tumor necrosis factor-mediated signaling pathway  \\\n",
       "V5_AS921_S116                                              -0.191530   \n",
       "V5_AS922_S117                                              -0.224860   \n",
       "V5_AS923_S118                                              -0.173792   \n",
       "V5+CT45_AS924_S119                                         -0.074586   \n",
       "V5+CT45_AS925_S120                                         -0.058460   \n",
       "V5+CT45_AS926_S121                                         -0.106843   \n",
       "\n",
       "                    ubiquitin-dependent protein catabolic process  \\\n",
       "V5_AS921_S116                                           -0.261737   \n",
       "V5_AS922_S117                                           -0.292436   \n",
       "V5_AS923_S118                                           -0.278322   \n",
       "V5+CT45_AS924_S119                                      -0.128237   \n",
       "V5+CT45_AS925_S120                                      -0.130907   \n",
       "V5+CT45_AS926_S121                                      -0.090751   \n",
       "\n",
       "                    viral process  viral transcription    group  sample  \\\n",
       "V5_AS921_S116            0.112756             0.417030       V5   AS921   \n",
       "V5_AS922_S117            0.100454             0.410628       V5   AS922   \n",
       "V5_AS923_S118            0.108900             0.428926       V5   AS923   \n",
       "V5+CT45_AS924_S119       0.103801             0.417750  V5+CT45   AS924   \n",
       "V5+CT45_AS925_S120       0.093867             0.413617  V5+CT45   AS925   \n",
       "V5+CT45_AS926_S121       0.082380             0.413381  V5+CT45   AS926   \n",
       "\n",
       "                    subject  \n",
       "V5_AS921_S116          S116  \n",
       "V5_AS922_S117          S117  \n",
       "V5_AS923_S118          S118  \n",
       "V5+CT45_AS924_S119     S119  \n",
       "V5+CT45_AS925_S120     S120  \n",
       "V5+CT45_AS926_S121     S121  \n",
       "\n",
       "[6 rows x 167 columns]"
      ]
     },
     "execution_count": 104,
     "metadata": {},
     "output_type": "execute_result"
    }
   ],
   "source": [
    "ssgsea_result2['nes']"
   ]
  },
  {
   "cell_type": "code",
   "execution_count": 105,
   "metadata": {},
   "outputs": [],
   "source": [
    "pca_result, args = analytics.run_pca(ssgsea_result2['nes'], drop_cols=['sample', 'subject'], group='group')"
   ]
  },
  {
   "cell_type": "code",
   "execution_count": 107,
   "metadata": {
    "scrolled": false
   },
   "outputs": [
    {
     "data": {
      "application/vnd.plotly.v1+json": {
       "config": {
        "linkText": "Export to plot.ly",
        "plotlyServerURL": "https://plot.ly",
        "showLink": false
       },
       "data": [
        {
         "hovertemplate": "group=V5<br>x=%{x}<br>y=%{y}<extra></extra>",
         "legendgroup": "V5",
         "marker": {
          "color": "#636efa",
          "line": {
           "color": "DarkSlateGrey",
           "width": 0.5
          },
          "opacity": 0.7,
          "size": 14,
          "symbol": "circle"
         },
         "mode": "markers",
         "name": "V5",
         "orientation": "v",
         "showlegend": true,
         "type": "scatter",
         "x": [
          0.5879038868119726,
          0.7520778330565375,
          0.4671709482270421
         ],
         "xaxis": "x",
         "y": [
          -0.0871115250042456,
          0.2738343525433137,
          -0.2678159255906489
         ],
         "yaxis": "y"
        },
        {
         "hovertemplate": "group=V5+CT45<br>x=%{x}<br>y=%{y}<extra></extra>",
         "legendgroup": "V5+CT45",
         "marker": {
          "color": "#EF553B",
          "line": {
           "color": "DarkSlateGrey",
           "width": 0.5
          },
          "opacity": 0.7,
          "size": 14,
          "symbol": "circle"
         },
         "mode": "markers",
         "name": "V5+CT45",
         "orientation": "v",
         "showlegend": true,
         "type": "scatter",
         "x": [
          -0.6508094505393487,
          -0.6406250584878233,
          -0.5157181590683801
         ],
         "xaxis": "x",
         "y": [
          0.11163169700939282,
          -0.21845015009271465,
          0.1879115511349025
         ],
         "yaxis": "y"
        },
        {
         "marker": {
          "color": "darkgrey",
          "opacity": 0.7,
          "showscale": false,
          "size": 3,
          "symbol": 1
         },
         "mode": "markers+lines",
         "name": "ephrin receptor signaling pathway",
         "showlegend": false,
         "text": "ephrin receptor signaling pathway loading: 0.36",
         "type": "scattergl",
         "x": [
          0,
          0.0026778733741695693
         ],
         "y": [
          0,
          0.3558682384099406
         ]
        },
        {
         "marker": {
          "color": "darkgrey",
          "opacity": 0.7,
          "showscale": false,
          "size": 3,
          "symbol": 1
         },
         "mode": "markers+lines",
         "name": "protein dephosphorylation",
         "showlegend": false,
         "text": "protein dephosphorylation loading: 0.35",
         "type": "scattergl",
         "x": [
          0,
          -0.29483891143959406
         ],
         "y": [
          0,
          0.19490809911367796
         ]
        },
        {
         "marker": {
          "color": "darkgrey",
          "opacity": 0.7,
          "showscale": false,
          "size": 3,
          "symbol": 1
         },
         "mode": "markers+lines",
         "name": "regulation of cell cycle",
         "showlegend": false,
         "text": "regulation of cell cycle loading: 0.27",
         "type": "scattergl",
         "x": [
          0,
          -0.2542082921286408
         ],
         "y": [
          0,
          -0.10321612406497077
         ]
        },
        {
         "marker": {
          "color": "darkgrey",
          "opacity": 0.7,
          "showscale": false,
          "size": 3,
          "symbol": 1
         },
         "mode": "markers+lines",
         "name": "NIK/NF-kappaB signaling",
         "showlegend": false,
         "text": "NIK/NF-kappaB signaling loading: 0.26",
         "type": "scattergl",
         "x": [
          0,
          -0.24065811243410418
         ],
         "y": [
          0,
          -0.11084521098576254
         ]
        },
        {
         "marker": {
          "color": "darkgrey",
          "opacity": 0.7,
          "showscale": false,
          "size": 3,
          "symbol": 1
         },
         "mode": "markers+lines",
         "name": "regulation of cellular amino acid metabolic process",
         "showlegend": false,
         "text": "regulation of cellular amino acid metabolic process loading: 0.23",
         "type": "scattergl",
         "x": [
          0,
          -0.1535984180171709
         ],
         "y": [
          0,
          -0.16964613155516575
         ]
        },
        {
         "marker": {
          "color": "darkgrey",
          "opacity": 0.7,
          "showscale": false,
          "size": 3,
          "symbol": 1
         },
         "mode": "markers+lines",
         "name": "stimulatory C-type lectin receptor signaling pathway",
         "showlegend": false,
         "text": "stimulatory C-type lectin receptor signaling pathway loading: 0.23",
         "type": "scattergl",
         "x": [
          0,
          -0.18798025587150136
         ],
         "y": [
          0,
          -0.12752330750640867
         ]
        },
        {
         "marker": {
          "color": "darkgrey",
          "opacity": 0.7,
          "showscale": false,
          "size": 3,
          "symbol": 1
         },
         "mode": "markers+lines",
         "name": "regulation of mitotic cell cycle phase transition",
         "showlegend": false,
         "text": "regulation of mitotic cell cycle phase transition loading: 0.22",
         "type": "scattergl",
         "x": [
          0,
          -0.18448402114549048
         ],
         "y": [
          0,
          -0.12524835956636687
         ]
        },
        {
         "marker": {
          "color": "darkgrey",
          "opacity": 0.7,
          "showscale": false,
          "size": 3,
          "symbol": 1
         },
         "mode": "markers+lines",
         "name": "regulation of hematopoietic stem cell differentiation",
         "showlegend": false,
         "text": "regulation of hematopoietic stem cell differentiation loading: 0.20",
         "type": "scattergl",
         "x": [
          0,
          -0.16356513725938732
         ],
         "y": [
          0,
          -0.11545098385916822
         ]
        },
        {
         "marker": {
          "color": "darkgrey",
          "opacity": 0.7,
          "showscale": false,
          "size": 3,
          "symbol": 1
         },
         "mode": "markers+lines",
         "name": "aging",
         "showlegend": false,
         "text": "aging loading: 0.20",
         "type": "scattergl",
         "x": [
          0,
          0.024003877303387544
         ],
         "y": [
          0,
          0.19442722160522005
         ]
        },
        {
         "marker": {
          "color": "darkgrey",
          "opacity": 0.7,
          "showscale": false,
          "size": 3,
          "symbol": 1
         },
         "mode": "markers+lines",
         "name": "SCF-dependent proteasomal ubiquitin-dependent protein catabolic process",
         "showlegend": false,
         "text": "SCF-dependent proteasomal ubiquitin-dependent protein catabolic process loading: 0.19",
         "type": "scattergl",
         "x": [
          0,
          -0.12575370267599636
         ],
         "y": [
          0,
          -0.14884987373323497
         ]
        },
        {
         "marker": {
          "color": "darkgrey",
          "opacity": 0.7,
          "showscale": false,
          "size": 3,
          "symbol": 1
         },
         "mode": "markers+lines",
         "name": "transcription-coupled nucleotide-excision repair",
         "showlegend": false,
         "text": "transcription-coupled nucleotide-excision repair loading: 0.18",
         "type": "scattergl",
         "x": [
          0,
          -0.1822410196491446
         ],
         "y": [
          0,
          0.03134551225211381
         ]
        },
        {
         "marker": {
          "color": "darkgrey",
          "opacity": 0.7,
          "showscale": false,
          "size": 3,
          "symbol": 1
         },
         "mode": "markers+lines",
         "name": "cell redox homeostasis",
         "showlegend": false,
         "text": "cell redox homeostasis loading: 0.18",
         "type": "scattergl",
         "x": [
          0,
          0.1390309597078701
         ],
         "y": [
          0,
          -0.12012331312308709
         ]
        },
        {
         "marker": {
          "color": "darkgrey",
          "opacity": 0.7,
          "showscale": false,
          "size": 3,
          "symbol": 1
         },
         "mode": "markers+lines",
         "name": "cellular response to DNA damage stimulus",
         "showlegend": false,
         "text": "cellular response to DNA damage stimulus loading: 0.18",
         "type": "scattergl",
         "x": [
          0,
          -0.16448258375654312
         ],
         "y": [
          0,
          0.06131815028935314
         ]
        },
        {
         "marker": {
          "color": "darkgrey",
          "opacity": 0.7,
          "showscale": false,
          "size": 3,
          "symbol": 1
         },
         "mode": "markers+lines",
         "name": "T cell receptor signaling pathway",
         "showlegend": false,
         "text": "T cell receptor signaling pathway loading: 0.17",
         "type": "scattergl",
         "x": [
          0,
          -0.11950198737054768
         ],
         "y": [
          0,
          -0.12585739679095456
         ]
        },
        {
         "marker": {
          "color": "darkgrey",
          "opacity": 0.7,
          "showscale": false,
          "size": 3,
          "symbol": 1
         },
         "mode": "markers+lines",
         "name": "regulation of signal transduction by p53 class mediator",
         "showlegend": false,
         "text": "regulation of signal transduction by p53 class mediator loading: 0.17",
         "type": "scattergl",
         "x": [
          0,
          -0.1696149004154525
         ],
         "y": [
          0,
          0.02644852206675804
         ]
        }
       ],
       "layout": {
        "annotations": [
         {
          "align": "center",
          "ax": 20,
          "ay": -30,
          "font": {
           "color": "darkgrey",
           "size": 11
          },
          "showarrow": false,
          "text": "ephrin receptor signaling pathway",
          "x": 0.0030795543802950047,
          "xref": "x",
          "y": 0.4092484741714316,
          "yref": "y"
         },
         {
          "align": "center",
          "ax": 20,
          "ay": -30,
          "font": {
           "color": "darkgrey",
           "size": 11
          },
          "showarrow": false,
          "text": "protein dephosphorylation",
          "x": -0.33906474815553317,
          "xref": "x",
          "y": 0.22414431398072962,
          "yref": "y"
         },
         {
          "align": "center",
          "ax": 20,
          "ay": -30,
          "font": {
           "color": "darkgrey",
           "size": 11
          },
          "showarrow": false,
          "text": "regulation of cell cycle",
          "x": -0.29233953594793693,
          "xref": "x",
          "y": -0.11869854267471638,
          "yref": "y"
         },
         {
          "align": "center",
          "ax": 20,
          "ay": -30,
          "font": {
           "color": "darkgrey",
           "size": 11
          },
          "showarrow": false,
          "text": "NIK/NF-kappaB signaling",
          "x": -0.2767568292992198,
          "xref": "x",
          "y": -0.1274719926336269,
          "yref": "y"
         },
         {
          "align": "center",
          "ax": 20,
          "ay": -30,
          "font": {
           "color": "darkgrey",
           "size": 11
          },
          "showarrow": false,
          "text": "regulation of cellular amino acid metabolic process",
          "x": -0.17663818071974652,
          "xref": "x",
          "y": -0.1950930512884406,
          "yref": "y"
         },
         {
          "align": "center",
          "ax": 20,
          "ay": -30,
          "font": {
           "color": "darkgrey",
           "size": 11
          },
          "showarrow": false,
          "text": "stimulatory C-type lectin receptor signaling pathway",
          "x": -0.21617729425222654,
          "xref": "x",
          "y": -0.14665180363236996,
          "yref": "y"
         },
         {
          "align": "center",
          "ax": 20,
          "ay": -30,
          "font": {
           "color": "darkgrey",
           "size": 11
          },
          "showarrow": false,
          "text": "regulation of mitotic cell cycle phase transition",
          "x": -0.21215662431731402,
          "xref": "x",
          "y": -0.14403561350132188,
          "yref": "y"
         },
         {
          "align": "center",
          "ax": 20,
          "ay": -30,
          "font": {
           "color": "darkgrey",
           "size": 11
          },
          "showarrow": false,
          "text": "regulation of hematopoietic stem cell differentiation",
          "x": -0.1880999078482954,
          "xref": "x",
          "y": -0.13276863143804343,
          "yref": "y"
         },
         {
          "align": "center",
          "ax": 20,
          "ay": -30,
          "font": {
           "color": "darkgrey",
           "size": 11
          },
          "showarrow": false,
          "text": "aging",
          "x": 0.027604458898895675,
          "xref": "x",
          "y": 0.22359130484600304,
          "yref": "y"
         },
         {
          "align": "center",
          "ax": 20,
          "ay": -30,
          "font": {
           "color": "darkgrey",
           "size": 11
          },
          "showarrow": false,
          "text": "SCF-dependent proteasomal ubiquitin-dependent protein catabolic process",
          "x": -0.1446167580773958,
          "xref": "x",
          "y": -0.1711773547932202,
          "yref": "y"
         },
         {
          "align": "center",
          "ax": 20,
          "ay": -30,
          "font": {
           "color": "darkgrey",
           "size": 11
          },
          "showarrow": false,
          "text": "transcription-coupled nucleotide-excision repair",
          "x": -0.2095771725965163,
          "xref": "x",
          "y": 0.03604733908993087,
          "yref": "y"
         },
         {
          "align": "center",
          "ax": 20,
          "ay": -30,
          "font": {
           "color": "darkgrey",
           "size": 11
          },
          "showarrow": false,
          "text": "cell redox homeostasis",
          "x": 0.1598856036640506,
          "xref": "x",
          "y": -0.13814181009155013,
          "yref": "y"
         },
         {
          "align": "center",
          "ax": 20,
          "ay": -30,
          "font": {
           "color": "darkgrey",
           "size": 11
          },
          "showarrow": false,
          "text": "cellular response to DNA damage stimulus",
          "x": -0.18915497132002457,
          "xref": "x",
          "y": 0.07051587283275611,
          "yref": "y"
         },
         {
          "align": "center",
          "ax": 20,
          "ay": -30,
          "font": {
           "color": "darkgrey",
           "size": 11
          },
          "showarrow": false,
          "text": "T cell receptor signaling pathway",
          "x": -0.1374272854761298,
          "xref": "x",
          "y": -0.14473600630959774,
          "yref": "y"
         },
         {
          "align": "center",
          "ax": 20,
          "ay": -30,
          "font": {
           "color": "darkgrey",
           "size": 11
          },
          "showarrow": false,
          "text": "regulation of signal transduction by p53 class mediator",
          "x": -0.19505713547777034,
          "xref": "x",
          "y": 0.030415800376771742,
          "yref": "y"
         }
        ],
        "height": 600,
        "hovermode": "closest",
        "legend": {
         "orientation": "h",
         "x": 1,
         "xanchor": "right",
         "y": 1,
         "yanchor": "bottom"
        },
        "template": {
         "data": {
          "bar": [
           {
            "error_x": {
             "color": "#2a3f5f"
            },
            "error_y": {
             "color": "#2a3f5f"
            },
            "marker": {
             "line": {
              "color": "white",
              "width": 0.5
             }
            },
            "type": "bar"
           }
          ],
          "barpolar": [
           {
            "marker": {
             "line": {
              "color": "white",
              "width": 0.5
             }
            },
            "type": "barpolar"
           }
          ],
          "carpet": [
           {
            "aaxis": {
             "endlinecolor": "#2a3f5f",
             "gridcolor": "#C8D4E3",
             "linecolor": "#C8D4E3",
             "minorgridcolor": "#C8D4E3",
             "startlinecolor": "#2a3f5f"
            },
            "baxis": {
             "endlinecolor": "#2a3f5f",
             "gridcolor": "#C8D4E3",
             "linecolor": "#C8D4E3",
             "minorgridcolor": "#C8D4E3",
             "startlinecolor": "#2a3f5f"
            },
            "type": "carpet"
           }
          ],
          "choropleth": [
           {
            "colorbar": {
             "outlinewidth": 0,
             "ticks": ""
            },
            "type": "choropleth"
           }
          ],
          "contour": [
           {
            "colorbar": {
             "outlinewidth": 0,
             "ticks": ""
            },
            "colorscale": [
             [
              0,
              "#0d0887"
             ],
             [
              0.1111111111111111,
              "#46039f"
             ],
             [
              0.2222222222222222,
              "#7201a8"
             ],
             [
              0.3333333333333333,
              "#9c179e"
             ],
             [
              0.4444444444444444,
              "#bd3786"
             ],
             [
              0.5555555555555556,
              "#d8576b"
             ],
             [
              0.6666666666666666,
              "#ed7953"
             ],
             [
              0.7777777777777778,
              "#fb9f3a"
             ],
             [
              0.8888888888888888,
              "#fdca26"
             ],
             [
              1,
              "#f0f921"
             ]
            ],
            "type": "contour"
           }
          ],
          "contourcarpet": [
           {
            "colorbar": {
             "outlinewidth": 0,
             "ticks": ""
            },
            "type": "contourcarpet"
           }
          ],
          "heatmap": [
           {
            "colorbar": {
             "outlinewidth": 0,
             "ticks": ""
            },
            "colorscale": [
             [
              0,
              "#0d0887"
             ],
             [
              0.1111111111111111,
              "#46039f"
             ],
             [
              0.2222222222222222,
              "#7201a8"
             ],
             [
              0.3333333333333333,
              "#9c179e"
             ],
             [
              0.4444444444444444,
              "#bd3786"
             ],
             [
              0.5555555555555556,
              "#d8576b"
             ],
             [
              0.6666666666666666,
              "#ed7953"
             ],
             [
              0.7777777777777778,
              "#fb9f3a"
             ],
             [
              0.8888888888888888,
              "#fdca26"
             ],
             [
              1,
              "#f0f921"
             ]
            ],
            "type": "heatmap"
           }
          ],
          "heatmapgl": [
           {
            "colorbar": {
             "outlinewidth": 0,
             "ticks": ""
            },
            "colorscale": [
             [
              0,
              "#0d0887"
             ],
             [
              0.1111111111111111,
              "#46039f"
             ],
             [
              0.2222222222222222,
              "#7201a8"
             ],
             [
              0.3333333333333333,
              "#9c179e"
             ],
             [
              0.4444444444444444,
              "#bd3786"
             ],
             [
              0.5555555555555556,
              "#d8576b"
             ],
             [
              0.6666666666666666,
              "#ed7953"
             ],
             [
              0.7777777777777778,
              "#fb9f3a"
             ],
             [
              0.8888888888888888,
              "#fdca26"
             ],
             [
              1,
              "#f0f921"
             ]
            ],
            "type": "heatmapgl"
           }
          ],
          "histogram": [
           {
            "marker": {
             "colorbar": {
              "outlinewidth": 0,
              "ticks": ""
             }
            },
            "type": "histogram"
           }
          ],
          "histogram2d": [
           {
            "colorbar": {
             "outlinewidth": 0,
             "ticks": ""
            },
            "colorscale": [
             [
              0,
              "#0d0887"
             ],
             [
              0.1111111111111111,
              "#46039f"
             ],
             [
              0.2222222222222222,
              "#7201a8"
             ],
             [
              0.3333333333333333,
              "#9c179e"
             ],
             [
              0.4444444444444444,
              "#bd3786"
             ],
             [
              0.5555555555555556,
              "#d8576b"
             ],
             [
              0.6666666666666666,
              "#ed7953"
             ],
             [
              0.7777777777777778,
              "#fb9f3a"
             ],
             [
              0.8888888888888888,
              "#fdca26"
             ],
             [
              1,
              "#f0f921"
             ]
            ],
            "type": "histogram2d"
           }
          ],
          "histogram2dcontour": [
           {
            "colorbar": {
             "outlinewidth": 0,
             "ticks": ""
            },
            "colorscale": [
             [
              0,
              "#0d0887"
             ],
             [
              0.1111111111111111,
              "#46039f"
             ],
             [
              0.2222222222222222,
              "#7201a8"
             ],
             [
              0.3333333333333333,
              "#9c179e"
             ],
             [
              0.4444444444444444,
              "#bd3786"
             ],
             [
              0.5555555555555556,
              "#d8576b"
             ],
             [
              0.6666666666666666,
              "#ed7953"
             ],
             [
              0.7777777777777778,
              "#fb9f3a"
             ],
             [
              0.8888888888888888,
              "#fdca26"
             ],
             [
              1,
              "#f0f921"
             ]
            ],
            "type": "histogram2dcontour"
           }
          ],
          "mesh3d": [
           {
            "colorbar": {
             "outlinewidth": 0,
             "ticks": ""
            },
            "type": "mesh3d"
           }
          ],
          "parcoords": [
           {
            "line": {
             "colorbar": {
              "outlinewidth": 0,
              "ticks": ""
             }
            },
            "type": "parcoords"
           }
          ],
          "pie": [
           {
            "automargin": true,
            "type": "pie"
           }
          ],
          "scatter": [
           {
            "marker": {
             "colorbar": {
              "outlinewidth": 0,
              "ticks": ""
             }
            },
            "type": "scatter"
           }
          ],
          "scatter3d": [
           {
            "line": {
             "colorbar": {
              "outlinewidth": 0,
              "ticks": ""
             }
            },
            "marker": {
             "colorbar": {
              "outlinewidth": 0,
              "ticks": ""
             }
            },
            "type": "scatter3d"
           }
          ],
          "scattercarpet": [
           {
            "marker": {
             "colorbar": {
              "outlinewidth": 0,
              "ticks": ""
             }
            },
            "type": "scattercarpet"
           }
          ],
          "scattergeo": [
           {
            "marker": {
             "colorbar": {
              "outlinewidth": 0,
              "ticks": ""
             }
            },
            "type": "scattergeo"
           }
          ],
          "scattergl": [
           {
            "marker": {
             "colorbar": {
              "outlinewidth": 0,
              "ticks": ""
             }
            },
            "type": "scattergl"
           }
          ],
          "scattermapbox": [
           {
            "marker": {
             "colorbar": {
              "outlinewidth": 0,
              "ticks": ""
             }
            },
            "type": "scattermapbox"
           }
          ],
          "scatterpolar": [
           {
            "marker": {
             "colorbar": {
              "outlinewidth": 0,
              "ticks": ""
             }
            },
            "type": "scatterpolar"
           }
          ],
          "scatterpolargl": [
           {
            "marker": {
             "colorbar": {
              "outlinewidth": 0,
              "ticks": ""
             }
            },
            "type": "scatterpolargl"
           }
          ],
          "scatterternary": [
           {
            "marker": {
             "colorbar": {
              "outlinewidth": 0,
              "ticks": ""
             }
            },
            "type": "scatterternary"
           }
          ],
          "surface": [
           {
            "colorbar": {
             "outlinewidth": 0,
             "ticks": ""
            },
            "colorscale": [
             [
              0,
              "#0d0887"
             ],
             [
              0.1111111111111111,
              "#46039f"
             ],
             [
              0.2222222222222222,
              "#7201a8"
             ],
             [
              0.3333333333333333,
              "#9c179e"
             ],
             [
              0.4444444444444444,
              "#bd3786"
             ],
             [
              0.5555555555555556,
              "#d8576b"
             ],
             [
              0.6666666666666666,
              "#ed7953"
             ],
             [
              0.7777777777777778,
              "#fb9f3a"
             ],
             [
              0.8888888888888888,
              "#fdca26"
             ],
             [
              1,
              "#f0f921"
             ]
            ],
            "type": "surface"
           }
          ],
          "table": [
           {
            "cells": {
             "fill": {
              "color": "#EBF0F8"
             },
             "line": {
              "color": "white"
             }
            },
            "header": {
             "fill": {
              "color": "#C8D4E3"
             },
             "line": {
              "color": "white"
             }
            },
            "type": "table"
           }
          ]
         },
         "layout": {
          "annotationdefaults": {
           "arrowcolor": "#2a3f5f",
           "arrowhead": 0,
           "arrowwidth": 1
          },
          "coloraxis": {
           "colorbar": {
            "outlinewidth": 0,
            "ticks": ""
           }
          },
          "colorscale": {
           "diverging": [
            [
             0,
             "#8e0152"
            ],
            [
             0.1,
             "#c51b7d"
            ],
            [
             0.2,
             "#de77ae"
            ],
            [
             0.3,
             "#f1b6da"
            ],
            [
             0.4,
             "#fde0ef"
            ],
            [
             0.5,
             "#f7f7f7"
            ],
            [
             0.6,
             "#e6f5d0"
            ],
            [
             0.7,
             "#b8e186"
            ],
            [
             0.8,
             "#7fbc41"
            ],
            [
             0.9,
             "#4d9221"
            ],
            [
             1,
             "#276419"
            ]
           ],
           "sequential": [
            [
             0,
             "#0d0887"
            ],
            [
             0.1111111111111111,
             "#46039f"
            ],
            [
             0.2222222222222222,
             "#7201a8"
            ],
            [
             0.3333333333333333,
             "#9c179e"
            ],
            [
             0.4444444444444444,
             "#bd3786"
            ],
            [
             0.5555555555555556,
             "#d8576b"
            ],
            [
             0.6666666666666666,
             "#ed7953"
            ],
            [
             0.7777777777777778,
             "#fb9f3a"
            ],
            [
             0.8888888888888888,
             "#fdca26"
            ],
            [
             1,
             "#f0f921"
            ]
           ],
           "sequentialminus": [
            [
             0,
             "#0d0887"
            ],
            [
             0.1111111111111111,
             "#46039f"
            ],
            [
             0.2222222222222222,
             "#7201a8"
            ],
            [
             0.3333333333333333,
             "#9c179e"
            ],
            [
             0.4444444444444444,
             "#bd3786"
            ],
            [
             0.5555555555555556,
             "#d8576b"
            ],
            [
             0.6666666666666666,
             "#ed7953"
            ],
            [
             0.7777777777777778,
             "#fb9f3a"
            ],
            [
             0.8888888888888888,
             "#fdca26"
            ],
            [
             1,
             "#f0f921"
            ]
           ]
          },
          "colorway": [
           "#636efa",
           "#EF553B",
           "#00cc96",
           "#ab63fa",
           "#FFA15A",
           "#19d3f3",
           "#FF6692",
           "#B6E880",
           "#FF97FF",
           "#FECB52"
          ],
          "font": {
           "color": "#2a3f5f"
          },
          "geo": {
           "bgcolor": "white",
           "lakecolor": "white",
           "landcolor": "white",
           "showlakes": true,
           "showland": true,
           "subunitcolor": "#C8D4E3"
          },
          "hoverlabel": {
           "align": "left"
          },
          "hovermode": "closest",
          "mapbox": {
           "style": "light"
          },
          "paper_bgcolor": "white",
          "plot_bgcolor": "white",
          "polar": {
           "angularaxis": {
            "gridcolor": "#EBF0F8",
            "linecolor": "#EBF0F8",
            "ticks": ""
           },
           "bgcolor": "white",
           "radialaxis": {
            "gridcolor": "#EBF0F8",
            "linecolor": "#EBF0F8",
            "ticks": ""
           }
          },
          "scene": {
           "xaxis": {
            "backgroundcolor": "white",
            "gridcolor": "#DFE8F3",
            "gridwidth": 2,
            "linecolor": "#EBF0F8",
            "showbackground": true,
            "ticks": "",
            "zerolinecolor": "#EBF0F8"
           },
           "yaxis": {
            "backgroundcolor": "white",
            "gridcolor": "#DFE8F3",
            "gridwidth": 2,
            "linecolor": "#EBF0F8",
            "showbackground": true,
            "ticks": "",
            "zerolinecolor": "#EBF0F8"
           },
           "zaxis": {
            "backgroundcolor": "white",
            "gridcolor": "#DFE8F3",
            "gridwidth": 2,
            "linecolor": "#EBF0F8",
            "showbackground": true,
            "ticks": "",
            "zerolinecolor": "#EBF0F8"
           }
          },
          "shapedefaults": {
           "line": {
            "color": "#2a3f5f"
           }
          },
          "ternary": {
           "aaxis": {
            "gridcolor": "#DFE8F3",
            "linecolor": "#A2B1C6",
            "ticks": ""
           },
           "baxis": {
            "gridcolor": "#DFE8F3",
            "linecolor": "#A2B1C6",
            "ticks": ""
           },
           "bgcolor": "white",
           "caxis": {
            "gridcolor": "#DFE8F3",
            "linecolor": "#A2B1C6",
            "ticks": ""
           }
          },
          "title": {
           "x": 0.05
          },
          "xaxis": {
           "automargin": true,
           "gridcolor": "#EBF0F8",
           "linecolor": "#EBF0F8",
           "ticks": "",
           "title": {
            "standoff": 15
           },
           "zerolinecolor": "#EBF0F8",
           "zerolinewidth": 2
          },
          "yaxis": {
           "automargin": true,
           "gridcolor": "#EBF0F8",
           "linecolor": "#EBF0F8",
           "ticks": "",
           "title": {
            "standoff": 15
           },
           "zerolinecolor": "#EBF0F8",
           "zerolinewidth": 2
          }
         }
        },
        "title": {
         "text": "PCA plot groups"
        },
        "width": 700,
        "xaxis": {
         "title": {
          "text": "PC1 (0.86)"
         }
        },
        "yaxis": {
         "title": {
          "text": "PC2 (0.10)"
         }
        }
       }
      },
      "text/html": [
       "<div>\n",
       "        \n",
       "        \n",
       "            <div id=\"585646e4-8e78-439b-a1f9-033964840040\" class=\"plotly-graph-div\" style=\"height:600px; width:700px;\"></div>\n",
       "            <script type=\"text/javascript\">\n",
       "                require([\"plotly\"], function(Plotly) {\n",
       "                    window.PLOTLYENV=window.PLOTLYENV || {};\n",
       "                    \n",
       "                if (document.getElementById(\"585646e4-8e78-439b-a1f9-033964840040\")) {\n",
       "                    Plotly.newPlot(\n",
       "                        '585646e4-8e78-439b-a1f9-033964840040',\n",
       "                        [{\"hovertemplate\": \"group=V5<br>x=%{x}<br>y=%{y}<extra></extra>\", \"legendgroup\": \"V5\", \"marker\": {\"color\": \"#636efa\", \"line\": {\"color\": \"DarkSlateGrey\", \"width\": 0.5}, \"opacity\": 0.7, \"size\": 14, \"symbol\": \"circle\"}, \"mode\": \"markers\", \"name\": \"V5\", \"orientation\": \"v\", \"showlegend\": true, \"type\": \"scatter\", \"x\": [0.5879038868119726, 0.7520778330565375, 0.4671709482270421], \"xaxis\": \"x\", \"y\": [-0.0871115250042456, 0.2738343525433137, -0.2678159255906489], \"yaxis\": \"y\"}, {\"hovertemplate\": \"group=V5+CT45<br>x=%{x}<br>y=%{y}<extra></extra>\", \"legendgroup\": \"V5+CT45\", \"marker\": {\"color\": \"#EF553B\", \"line\": {\"color\": \"DarkSlateGrey\", \"width\": 0.5}, \"opacity\": 0.7, \"size\": 14, \"symbol\": \"circle\"}, \"mode\": \"markers\", \"name\": \"V5+CT45\", \"orientation\": \"v\", \"showlegend\": true, \"type\": \"scatter\", \"x\": [-0.6508094505393487, -0.6406250584878233, -0.5157181590683801], \"xaxis\": \"x\", \"y\": [0.11163169700939282, -0.21845015009271465, 0.1879115511349025], \"yaxis\": \"y\"}, {\"marker\": {\"color\": \"darkgrey\", \"opacity\": 0.7, \"showscale\": false, \"size\": 3, \"symbol\": 1}, \"mode\": \"markers+lines\", \"name\": \"ephrin receptor signaling pathway\", \"showlegend\": false, \"text\": \"ephrin receptor signaling pathway loading: 0.36\", \"type\": \"scattergl\", \"x\": [0, 0.0026778733741695693], \"y\": [0, 0.3558682384099406]}, {\"marker\": {\"color\": \"darkgrey\", \"opacity\": 0.7, \"showscale\": false, \"size\": 3, \"symbol\": 1}, \"mode\": \"markers+lines\", \"name\": \"protein dephosphorylation\", \"showlegend\": false, \"text\": \"protein dephosphorylation loading: 0.35\", \"type\": \"scattergl\", \"x\": [0, -0.29483891143959406], \"y\": [0, 0.19490809911367796]}, {\"marker\": {\"color\": \"darkgrey\", \"opacity\": 0.7, \"showscale\": false, \"size\": 3, \"symbol\": 1}, \"mode\": \"markers+lines\", \"name\": \"regulation of cell cycle\", \"showlegend\": false, \"text\": \"regulation of cell cycle loading: 0.27\", \"type\": \"scattergl\", \"x\": [0, -0.2542082921286408], \"y\": [0, -0.10321612406497077]}, {\"marker\": {\"color\": \"darkgrey\", \"opacity\": 0.7, \"showscale\": false, \"size\": 3, \"symbol\": 1}, \"mode\": \"markers+lines\", \"name\": \"NIK/NF-kappaB signaling\", \"showlegend\": false, \"text\": \"NIK/NF-kappaB signaling loading: 0.26\", \"type\": \"scattergl\", \"x\": [0, -0.24065811243410418], \"y\": [0, -0.11084521098576254]}, {\"marker\": {\"color\": \"darkgrey\", \"opacity\": 0.7, \"showscale\": false, \"size\": 3, \"symbol\": 1}, \"mode\": \"markers+lines\", \"name\": \"regulation of cellular amino acid metabolic process\", \"showlegend\": false, \"text\": \"regulation of cellular amino acid metabolic process loading: 0.23\", \"type\": \"scattergl\", \"x\": [0, -0.1535984180171709], \"y\": [0, -0.16964613155516575]}, {\"marker\": {\"color\": \"darkgrey\", \"opacity\": 0.7, \"showscale\": false, \"size\": 3, \"symbol\": 1}, \"mode\": \"markers+lines\", \"name\": \"stimulatory C-type lectin receptor signaling pathway\", \"showlegend\": false, \"text\": \"stimulatory C-type lectin receptor signaling pathway loading: 0.23\", \"type\": \"scattergl\", \"x\": [0, -0.18798025587150136], \"y\": [0, -0.12752330750640867]}, {\"marker\": {\"color\": \"darkgrey\", \"opacity\": 0.7, \"showscale\": false, \"size\": 3, \"symbol\": 1}, \"mode\": \"markers+lines\", \"name\": \"regulation of mitotic cell cycle phase transition\", \"showlegend\": false, \"text\": \"regulation of mitotic cell cycle phase transition loading: 0.22\", \"type\": \"scattergl\", \"x\": [0, -0.18448402114549048], \"y\": [0, -0.12524835956636687]}, {\"marker\": {\"color\": \"darkgrey\", \"opacity\": 0.7, \"showscale\": false, \"size\": 3, \"symbol\": 1}, \"mode\": \"markers+lines\", \"name\": \"regulation of hematopoietic stem cell differentiation\", \"showlegend\": false, \"text\": \"regulation of hematopoietic stem cell differentiation loading: 0.20\", \"type\": \"scattergl\", \"x\": [0, -0.16356513725938732], \"y\": [0, -0.11545098385916822]}, {\"marker\": {\"color\": \"darkgrey\", \"opacity\": 0.7, \"showscale\": false, \"size\": 3, \"symbol\": 1}, \"mode\": \"markers+lines\", \"name\": \"aging\", \"showlegend\": false, \"text\": \"aging loading: 0.20\", \"type\": \"scattergl\", \"x\": [0, 0.024003877303387544], \"y\": [0, 0.19442722160522005]}, {\"marker\": {\"color\": \"darkgrey\", \"opacity\": 0.7, \"showscale\": false, \"size\": 3, \"symbol\": 1}, \"mode\": \"markers+lines\", \"name\": \"SCF-dependent proteasomal ubiquitin-dependent protein catabolic process\", \"showlegend\": false, \"text\": \"SCF-dependent proteasomal ubiquitin-dependent protein catabolic process loading: 0.19\", \"type\": \"scattergl\", \"x\": [0, -0.12575370267599636], \"y\": [0, -0.14884987373323497]}, {\"marker\": {\"color\": \"darkgrey\", \"opacity\": 0.7, \"showscale\": false, \"size\": 3, \"symbol\": 1}, \"mode\": \"markers+lines\", \"name\": \"transcription-coupled nucleotide-excision repair\", \"showlegend\": false, \"text\": \"transcription-coupled nucleotide-excision repair loading: 0.18\", \"type\": \"scattergl\", \"x\": [0, -0.1822410196491446], \"y\": [0, 0.03134551225211381]}, {\"marker\": {\"color\": \"darkgrey\", \"opacity\": 0.7, \"showscale\": false, \"size\": 3, \"symbol\": 1}, \"mode\": \"markers+lines\", \"name\": \"cell redox homeostasis\", \"showlegend\": false, \"text\": \"cell redox homeostasis loading: 0.18\", \"type\": \"scattergl\", \"x\": [0, 0.1390309597078701], \"y\": [0, -0.12012331312308709]}, {\"marker\": {\"color\": \"darkgrey\", \"opacity\": 0.7, \"showscale\": false, \"size\": 3, \"symbol\": 1}, \"mode\": \"markers+lines\", \"name\": \"cellular response to DNA damage stimulus\", \"showlegend\": false, \"text\": \"cellular response to DNA damage stimulus loading: 0.18\", \"type\": \"scattergl\", \"x\": [0, -0.16448258375654312], \"y\": [0, 0.06131815028935314]}, {\"marker\": {\"color\": \"darkgrey\", \"opacity\": 0.7, \"showscale\": false, \"size\": 3, \"symbol\": 1}, \"mode\": \"markers+lines\", \"name\": \"T cell receptor signaling pathway\", \"showlegend\": false, \"text\": \"T cell receptor signaling pathway loading: 0.17\", \"type\": \"scattergl\", \"x\": [0, -0.11950198737054768], \"y\": [0, -0.12585739679095456]}, {\"marker\": {\"color\": \"darkgrey\", \"opacity\": 0.7, \"showscale\": false, \"size\": 3, \"symbol\": 1}, \"mode\": \"markers+lines\", \"name\": \"regulation of signal transduction by p53 class mediator\", \"showlegend\": false, \"text\": \"regulation of signal transduction by p53 class mediator loading: 0.17\", \"type\": \"scattergl\", \"x\": [0, -0.1696149004154525], \"y\": [0, 0.02644852206675804]}],\n",
       "                        {\"annotations\": [{\"align\": \"center\", \"ax\": 20, \"ay\": -30, \"font\": {\"color\": \"darkgrey\", \"size\": 11}, \"showarrow\": false, \"text\": \"ephrin receptor signaling pathway\", \"x\": 0.0030795543802950047, \"xref\": \"x\", \"y\": 0.4092484741714316, \"yref\": \"y\"}, {\"align\": \"center\", \"ax\": 20, \"ay\": -30, \"font\": {\"color\": \"darkgrey\", \"size\": 11}, \"showarrow\": false, \"text\": \"protein dephosphorylation\", \"x\": -0.33906474815553317, \"xref\": \"x\", \"y\": 0.22414431398072962, \"yref\": \"y\"}, {\"align\": \"center\", \"ax\": 20, \"ay\": -30, \"font\": {\"color\": \"darkgrey\", \"size\": 11}, \"showarrow\": false, \"text\": \"regulation of cell cycle\", \"x\": -0.29233953594793693, \"xref\": \"x\", \"y\": -0.11869854267471638, \"yref\": \"y\"}, {\"align\": \"center\", \"ax\": 20, \"ay\": -30, \"font\": {\"color\": \"darkgrey\", \"size\": 11}, \"showarrow\": false, \"text\": \"NIK/NF-kappaB signaling\", \"x\": -0.2767568292992198, \"xref\": \"x\", \"y\": -0.1274719926336269, \"yref\": \"y\"}, {\"align\": \"center\", \"ax\": 20, \"ay\": -30, \"font\": {\"color\": \"darkgrey\", \"size\": 11}, \"showarrow\": false, \"text\": \"regulation of cellular amino acid metabolic process\", \"x\": -0.17663818071974652, \"xref\": \"x\", \"y\": -0.1950930512884406, \"yref\": \"y\"}, {\"align\": \"center\", \"ax\": 20, \"ay\": -30, \"font\": {\"color\": \"darkgrey\", \"size\": 11}, \"showarrow\": false, \"text\": \"stimulatory C-type lectin receptor signaling pathway\", \"x\": -0.21617729425222654, \"xref\": \"x\", \"y\": -0.14665180363236996, \"yref\": \"y\"}, {\"align\": \"center\", \"ax\": 20, \"ay\": -30, \"font\": {\"color\": \"darkgrey\", \"size\": 11}, \"showarrow\": false, \"text\": \"regulation of mitotic cell cycle phase transition\", \"x\": -0.21215662431731402, \"xref\": \"x\", \"y\": -0.14403561350132188, \"yref\": \"y\"}, {\"align\": \"center\", \"ax\": 20, \"ay\": -30, \"font\": {\"color\": \"darkgrey\", \"size\": 11}, \"showarrow\": false, \"text\": \"regulation of hematopoietic stem cell differentiation\", \"x\": -0.1880999078482954, \"xref\": \"x\", \"y\": -0.13276863143804343, \"yref\": \"y\"}, {\"align\": \"center\", \"ax\": 20, \"ay\": -30, \"font\": {\"color\": \"darkgrey\", \"size\": 11}, \"showarrow\": false, \"text\": \"aging\", \"x\": 0.027604458898895675, \"xref\": \"x\", \"y\": 0.22359130484600304, \"yref\": \"y\"}, {\"align\": \"center\", \"ax\": 20, \"ay\": -30, \"font\": {\"color\": \"darkgrey\", \"size\": 11}, \"showarrow\": false, \"text\": \"SCF-dependent proteasomal ubiquitin-dependent protein catabolic process\", \"x\": -0.1446167580773958, \"xref\": \"x\", \"y\": -0.1711773547932202, \"yref\": \"y\"}, {\"align\": \"center\", \"ax\": 20, \"ay\": -30, \"font\": {\"color\": \"darkgrey\", \"size\": 11}, \"showarrow\": false, \"text\": \"transcription-coupled nucleotide-excision repair\", \"x\": -0.2095771725965163, \"xref\": \"x\", \"y\": 0.03604733908993087, \"yref\": \"y\"}, {\"align\": \"center\", \"ax\": 20, \"ay\": -30, \"font\": {\"color\": \"darkgrey\", \"size\": 11}, \"showarrow\": false, \"text\": \"cell redox homeostasis\", \"x\": 0.1598856036640506, \"xref\": \"x\", \"y\": -0.13814181009155013, \"yref\": \"y\"}, {\"align\": \"center\", \"ax\": 20, \"ay\": -30, \"font\": {\"color\": \"darkgrey\", \"size\": 11}, \"showarrow\": false, \"text\": \"cellular response to DNA damage stimulus\", \"x\": -0.18915497132002457, \"xref\": \"x\", \"y\": 0.07051587283275611, \"yref\": \"y\"}, {\"align\": \"center\", \"ax\": 20, \"ay\": -30, \"font\": {\"color\": \"darkgrey\", \"size\": 11}, \"showarrow\": false, \"text\": \"T cell receptor signaling pathway\", \"x\": -0.1374272854761298, \"xref\": \"x\", \"y\": -0.14473600630959774, \"yref\": \"y\"}, {\"align\": \"center\", \"ax\": 20, \"ay\": -30, \"font\": {\"color\": \"darkgrey\", \"size\": 11}, \"showarrow\": false, \"text\": \"regulation of signal transduction by p53 class mediator\", \"x\": -0.19505713547777034, \"xref\": \"x\", \"y\": 0.030415800376771742, \"yref\": \"y\"}], \"height\": 600, \"hovermode\": \"closest\", \"legend\": {\"orientation\": \"h\", \"x\": 1, \"xanchor\": \"right\", \"y\": 1.0, \"yanchor\": \"bottom\"}, \"template\": {\"data\": {\"bar\": [{\"error_x\": {\"color\": \"#2a3f5f\"}, \"error_y\": {\"color\": \"#2a3f5f\"}, \"marker\": {\"line\": {\"color\": \"white\", \"width\": 0.5}}, \"type\": \"bar\"}], \"barpolar\": [{\"marker\": {\"line\": {\"color\": \"white\", \"width\": 0.5}}, \"type\": \"barpolar\"}], \"carpet\": [{\"aaxis\": {\"endlinecolor\": \"#2a3f5f\", \"gridcolor\": \"#C8D4E3\", \"linecolor\": \"#C8D4E3\", \"minorgridcolor\": \"#C8D4E3\", \"startlinecolor\": \"#2a3f5f\"}, \"baxis\": {\"endlinecolor\": \"#2a3f5f\", \"gridcolor\": \"#C8D4E3\", \"linecolor\": \"#C8D4E3\", \"minorgridcolor\": \"#C8D4E3\", \"startlinecolor\": \"#2a3f5f\"}, \"type\": \"carpet\"}], \"choropleth\": [{\"colorbar\": {\"outlinewidth\": 0, \"ticks\": \"\"}, \"type\": \"choropleth\"}], \"contour\": [{\"colorbar\": {\"outlinewidth\": 0, \"ticks\": \"\"}, \"colorscale\": [[0.0, \"#0d0887\"], [0.1111111111111111, \"#46039f\"], [0.2222222222222222, \"#7201a8\"], [0.3333333333333333, \"#9c179e\"], [0.4444444444444444, \"#bd3786\"], [0.5555555555555556, \"#d8576b\"], [0.6666666666666666, \"#ed7953\"], [0.7777777777777778, \"#fb9f3a\"], [0.8888888888888888, \"#fdca26\"], [1.0, \"#f0f921\"]], \"type\": \"contour\"}], \"contourcarpet\": [{\"colorbar\": {\"outlinewidth\": 0, \"ticks\": \"\"}, \"type\": \"contourcarpet\"}], \"heatmap\": [{\"colorbar\": {\"outlinewidth\": 0, \"ticks\": \"\"}, \"colorscale\": [[0.0, \"#0d0887\"], [0.1111111111111111, \"#46039f\"], [0.2222222222222222, \"#7201a8\"], [0.3333333333333333, \"#9c179e\"], [0.4444444444444444, \"#bd3786\"], [0.5555555555555556, \"#d8576b\"], [0.6666666666666666, \"#ed7953\"], [0.7777777777777778, \"#fb9f3a\"], [0.8888888888888888, \"#fdca26\"], [1.0, \"#f0f921\"]], \"type\": \"heatmap\"}], \"heatmapgl\": [{\"colorbar\": {\"outlinewidth\": 0, \"ticks\": \"\"}, \"colorscale\": [[0.0, \"#0d0887\"], [0.1111111111111111, \"#46039f\"], [0.2222222222222222, \"#7201a8\"], [0.3333333333333333, \"#9c179e\"], [0.4444444444444444, \"#bd3786\"], [0.5555555555555556, \"#d8576b\"], [0.6666666666666666, \"#ed7953\"], [0.7777777777777778, \"#fb9f3a\"], [0.8888888888888888, \"#fdca26\"], [1.0, \"#f0f921\"]], \"type\": \"heatmapgl\"}], \"histogram\": [{\"marker\": {\"colorbar\": {\"outlinewidth\": 0, \"ticks\": \"\"}}, \"type\": \"histogram\"}], \"histogram2d\": [{\"colorbar\": {\"outlinewidth\": 0, \"ticks\": \"\"}, \"colorscale\": [[0.0, \"#0d0887\"], [0.1111111111111111, \"#46039f\"], [0.2222222222222222, \"#7201a8\"], [0.3333333333333333, \"#9c179e\"], [0.4444444444444444, \"#bd3786\"], [0.5555555555555556, \"#d8576b\"], [0.6666666666666666, \"#ed7953\"], [0.7777777777777778, \"#fb9f3a\"], [0.8888888888888888, \"#fdca26\"], [1.0, \"#f0f921\"]], \"type\": \"histogram2d\"}], \"histogram2dcontour\": [{\"colorbar\": {\"outlinewidth\": 0, \"ticks\": \"\"}, \"colorscale\": [[0.0, \"#0d0887\"], [0.1111111111111111, \"#46039f\"], [0.2222222222222222, \"#7201a8\"], [0.3333333333333333, \"#9c179e\"], [0.4444444444444444, \"#bd3786\"], [0.5555555555555556, \"#d8576b\"], [0.6666666666666666, \"#ed7953\"], [0.7777777777777778, \"#fb9f3a\"], [0.8888888888888888, \"#fdca26\"], [1.0, \"#f0f921\"]], \"type\": \"histogram2dcontour\"}], \"mesh3d\": [{\"colorbar\": {\"outlinewidth\": 0, \"ticks\": \"\"}, \"type\": \"mesh3d\"}], \"parcoords\": [{\"line\": {\"colorbar\": {\"outlinewidth\": 0, \"ticks\": \"\"}}, \"type\": \"parcoords\"}], \"pie\": [{\"automargin\": true, \"type\": \"pie\"}], \"scatter\": [{\"marker\": {\"colorbar\": {\"outlinewidth\": 0, \"ticks\": \"\"}}, \"type\": \"scatter\"}], \"scatter3d\": [{\"line\": {\"colorbar\": {\"outlinewidth\": 0, \"ticks\": \"\"}}, \"marker\": {\"colorbar\": {\"outlinewidth\": 0, \"ticks\": \"\"}}, \"type\": \"scatter3d\"}], \"scattercarpet\": [{\"marker\": {\"colorbar\": {\"outlinewidth\": 0, \"ticks\": \"\"}}, \"type\": \"scattercarpet\"}], \"scattergeo\": [{\"marker\": {\"colorbar\": {\"outlinewidth\": 0, \"ticks\": \"\"}}, \"type\": \"scattergeo\"}], \"scattergl\": [{\"marker\": {\"colorbar\": {\"outlinewidth\": 0, \"ticks\": \"\"}}, \"type\": \"scattergl\"}], \"scattermapbox\": [{\"marker\": {\"colorbar\": {\"outlinewidth\": 0, \"ticks\": \"\"}}, \"type\": \"scattermapbox\"}], \"scatterpolar\": [{\"marker\": {\"colorbar\": {\"outlinewidth\": 0, \"ticks\": \"\"}}, \"type\": \"scatterpolar\"}], \"scatterpolargl\": [{\"marker\": {\"colorbar\": {\"outlinewidth\": 0, \"ticks\": \"\"}}, \"type\": \"scatterpolargl\"}], \"scatterternary\": [{\"marker\": {\"colorbar\": {\"outlinewidth\": 0, \"ticks\": \"\"}}, \"type\": \"scatterternary\"}], \"surface\": [{\"colorbar\": {\"outlinewidth\": 0, \"ticks\": \"\"}, \"colorscale\": [[0.0, \"#0d0887\"], [0.1111111111111111, \"#46039f\"], [0.2222222222222222, \"#7201a8\"], [0.3333333333333333, \"#9c179e\"], [0.4444444444444444, \"#bd3786\"], [0.5555555555555556, \"#d8576b\"], [0.6666666666666666, \"#ed7953\"], [0.7777777777777778, \"#fb9f3a\"], [0.8888888888888888, \"#fdca26\"], [1.0, \"#f0f921\"]], \"type\": \"surface\"}], \"table\": [{\"cells\": {\"fill\": {\"color\": \"#EBF0F8\"}, \"line\": {\"color\": \"white\"}}, \"header\": {\"fill\": {\"color\": \"#C8D4E3\"}, \"line\": {\"color\": \"white\"}}, \"type\": \"table\"}]}, \"layout\": {\"annotationdefaults\": {\"arrowcolor\": \"#2a3f5f\", \"arrowhead\": 0, \"arrowwidth\": 1}, \"coloraxis\": {\"colorbar\": {\"outlinewidth\": 0, \"ticks\": \"\"}}, \"colorscale\": {\"diverging\": [[0, \"#8e0152\"], [0.1, \"#c51b7d\"], [0.2, \"#de77ae\"], [0.3, \"#f1b6da\"], [0.4, \"#fde0ef\"], [0.5, \"#f7f7f7\"], [0.6, \"#e6f5d0\"], [0.7, \"#b8e186\"], [0.8, \"#7fbc41\"], [0.9, \"#4d9221\"], [1, \"#276419\"]], \"sequential\": [[0.0, \"#0d0887\"], [0.1111111111111111, \"#46039f\"], [0.2222222222222222, \"#7201a8\"], [0.3333333333333333, \"#9c179e\"], [0.4444444444444444, \"#bd3786\"], [0.5555555555555556, \"#d8576b\"], [0.6666666666666666, \"#ed7953\"], [0.7777777777777778, \"#fb9f3a\"], [0.8888888888888888, \"#fdca26\"], [1.0, \"#f0f921\"]], \"sequentialminus\": [[0.0, \"#0d0887\"], [0.1111111111111111, \"#46039f\"], [0.2222222222222222, \"#7201a8\"], [0.3333333333333333, \"#9c179e\"], [0.4444444444444444, \"#bd3786\"], [0.5555555555555556, \"#d8576b\"], [0.6666666666666666, \"#ed7953\"], [0.7777777777777778, \"#fb9f3a\"], [0.8888888888888888, \"#fdca26\"], [1.0, \"#f0f921\"]]}, \"colorway\": [\"#636efa\", \"#EF553B\", \"#00cc96\", \"#ab63fa\", \"#FFA15A\", \"#19d3f3\", \"#FF6692\", \"#B6E880\", \"#FF97FF\", \"#FECB52\"], \"font\": {\"color\": \"#2a3f5f\"}, \"geo\": {\"bgcolor\": \"white\", \"lakecolor\": \"white\", \"landcolor\": \"white\", \"showlakes\": true, \"showland\": true, \"subunitcolor\": \"#C8D4E3\"}, \"hoverlabel\": {\"align\": \"left\"}, \"hovermode\": \"closest\", \"mapbox\": {\"style\": \"light\"}, \"paper_bgcolor\": \"white\", \"plot_bgcolor\": \"white\", \"polar\": {\"angularaxis\": {\"gridcolor\": \"#EBF0F8\", \"linecolor\": \"#EBF0F8\", \"ticks\": \"\"}, \"bgcolor\": \"white\", \"radialaxis\": {\"gridcolor\": \"#EBF0F8\", \"linecolor\": \"#EBF0F8\", \"ticks\": \"\"}}, \"scene\": {\"xaxis\": {\"backgroundcolor\": \"white\", \"gridcolor\": \"#DFE8F3\", \"gridwidth\": 2, \"linecolor\": \"#EBF0F8\", \"showbackground\": true, \"ticks\": \"\", \"zerolinecolor\": \"#EBF0F8\"}, \"yaxis\": {\"backgroundcolor\": \"white\", \"gridcolor\": \"#DFE8F3\", \"gridwidth\": 2, \"linecolor\": \"#EBF0F8\", \"showbackground\": true, \"ticks\": \"\", \"zerolinecolor\": \"#EBF0F8\"}, \"zaxis\": {\"backgroundcolor\": \"white\", \"gridcolor\": \"#DFE8F3\", \"gridwidth\": 2, \"linecolor\": \"#EBF0F8\", \"showbackground\": true, \"ticks\": \"\", \"zerolinecolor\": \"#EBF0F8\"}}, \"shapedefaults\": {\"line\": {\"color\": \"#2a3f5f\"}}, \"ternary\": {\"aaxis\": {\"gridcolor\": \"#DFE8F3\", \"linecolor\": \"#A2B1C6\", \"ticks\": \"\"}, \"baxis\": {\"gridcolor\": \"#DFE8F3\", \"linecolor\": \"#A2B1C6\", \"ticks\": \"\"}, \"bgcolor\": \"white\", \"caxis\": {\"gridcolor\": \"#DFE8F3\", \"linecolor\": \"#A2B1C6\", \"ticks\": \"\"}}, \"title\": {\"x\": 0.05}, \"xaxis\": {\"automargin\": true, \"gridcolor\": \"#EBF0F8\", \"linecolor\": \"#EBF0F8\", \"ticks\": \"\", \"title\": {\"standoff\": 15}, \"zerolinecolor\": \"#EBF0F8\", \"zerolinewidth\": 2}, \"yaxis\": {\"automargin\": true, \"gridcolor\": \"#EBF0F8\", \"linecolor\": \"#EBF0F8\", \"ticks\": \"\", \"title\": {\"standoff\": 15}, \"zerolinecolor\": \"#EBF0F8\", \"zerolinewidth\": 2}}}, \"title\": {\"text\": \"PCA plot groups\"}, \"width\": 700, \"xaxis\": {\"title\": {\"text\": \"PC1 (0.86)\"}}, \"yaxis\": {\"title\": {\"text\": \"PC2 (0.10)\"}}},\n",
       "                        {\"responsive\": true}\n",
       "                    ).then(function(){\n",
       "                            \n",
       "var gd = document.getElementById('585646e4-8e78-439b-a1f9-033964840040');\n",
       "var x = new MutationObserver(function (mutations, observer) {{\n",
       "        var display = window.getComputedStyle(gd).display;\n",
       "        if (!display || display === 'none') {{\n",
       "            console.log([gd, 'removed!']);\n",
       "            Plotly.purge(gd);\n",
       "            observer.disconnect();\n",
       "        }}\n",
       "}});\n",
       "\n",
       "// Listen for the removal of the full notebook cells\n",
       "var notebookContainer = gd.closest('#notebook-container');\n",
       "if (notebookContainer) {{\n",
       "    x.observe(notebookContainer, {childList: true});\n",
       "}}\n",
       "\n",
       "// Listen for the clearing of the current output cell\n",
       "var outputEl = gd.closest('.output');\n",
       "if (outputEl) {{\n",
       "    x.observe(outputEl, {childList: true});\n",
       "}}\n",
       "\n",
       "                        })\n",
       "                };\n",
       "                });\n",
       "            </script>\n",
       "        </div>"
      ]
     },
     "metadata": {},
     "output_type": "display_data"
    }
   ],
   "source": [
    "args.update({\"loadings\":15, \"title\":'PCA plot groups', 'height':600, 'width':700, 'factor':1})\n",
    "plot = viz.get_pca_plot(pca_result, identifier='pca', args=args)\n",
    "iplot(plot.figure)"
   ]
  },
  {
   "cell_type": "code",
   "execution_count": null,
   "metadata": {},
   "outputs": [],
   "source": []
  }
 ],
 "metadata": {
  "kernelspec": {
   "display_name": "Python 3",
   "language": "python",
   "name": "python3"
  },
  "language_info": {
   "codemirror_mode": {
    "name": "ipython",
    "version": 3
   },
   "file_extension": ".py",
   "mimetype": "text/x-python",
   "name": "python",
   "nbconvert_exporter": "python",
   "pygments_lexer": "ipython3",
   "version": "3.7.7"
  }
 },
 "nbformat": 4,
 "nbformat_minor": 4
}
