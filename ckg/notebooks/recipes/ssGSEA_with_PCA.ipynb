{
 "cells": [
  {
   "cell_type": "markdown",
   "metadata": {},
   "source": [
    "# Single Sample Gene Set Enrichment Analysis (ssGSEA)\n",
    "\n",
    "\n",
    "Single-sample Gene Set Enrichment Analysis (ssGSEA) is an variation of the GSEA algorithm that instead of calculating enrichment scores for groups of samples (i.e Control vs Disease) and sets of genes (i.e pathways), it provides a score for each each sample and gene set pair (https://www.genepattern.org/modules/docs/ssGSEAProjection/4).\n",
    "\n",
    "\n",
    "In CKG this function is implemented in the function: **run_ssgsea** (analytics_core.analytics).\n",
    "\n",
    "To visualize the results, they can be coupled with a Principal Component Analysis (PCA).\n",
    "\n",
    "\n",
    "In this case, we are applied ssGSEA on two existing projects in CKG: PP4-interactomics experiments in two ovarian cancer cell lines (OVCAR-5 and COV318) expressing N-terminal FLAG- and C-terminal V5-tagged CT45, respectively from Coscia et al 2018 (https://pubmed.ncbi.nlm.nih.gov/30241606/).\n",
    "\n",
    "\n",
    "Other References: \n",
    "- https://www.gsea-msigdb.org/gsea/doc/GSEAUserGuideTEXT.htm\n",
    "\n",
    "- https://pubmed.ncbi.nlm.nih.gov/16199517/\n",
    "\n"
   ]
  },
  {
   "cell_type": "code",
   "execution_count": 1,
   "metadata": {},
   "outputs": [
    {
     "name": "stderr",
     "output_type": "stream",
     "text": [
      "c:\\users\\sande\\.conda\\envs\\pip_rev\\lib\\site-packages\\outdated\\utils.py:18: OutdatedPackageWarning:\n",
      "\n",
      "The package pingouin is out of date. Your version is 0.3.11, the latest is 0.3.12.\n",
      "Set the environment variable OUTDATED_IGNORE=1 to disable these warnings.\n",
      "\n"
     ]
    },
    {
     "name": "stdout",
     "output_type": "stream",
     "text": [
      "WGCNA functions will not work. Module Rpy2 not installed.\n",
      "R functions will not work. Module Rpy2 not installed.\n"
     ]
    },
    {
     "data": {
      "text/html": [
       "        <script type=\"text/javascript\">\n",
       "        window.PlotlyConfig = {MathJaxConfig: 'local'};\n",
       "        if (window.MathJax) {MathJax.Hub.Config({SVG: {font: \"STIX-Web\"}});}\n",
       "        if (typeof require !== 'undefined') {\n",
       "        require.undef(\"plotly\");\n",
       "        requirejs.config({\n",
       "            paths: {\n",
       "                'plotly': ['https://cdn.plot.ly/plotly-latest.min']\n",
       "            }\n",
       "        });\n",
       "        require(['plotly'], function(Plotly) {\n",
       "            window._Plotly = Plotly;\n",
       "        });\n",
       "        }\n",
       "        </script>\n",
       "        "
      ]
     },
     "metadata": {},
     "output_type": "display_data"
    }
   ],
   "source": [
    "from ckg.report_manager import project\n",
    "from ckg.analytics_core.analytics import analytics\n",
    "from ckg.analytics_core.viz import viz\n",
    "\n",
    "from plotly.offline import init_notebook_mode, iplot\n",
    "%matplotlib inline\n",
    "init_notebook_mode(connected=True)"
   ]
  },
  {
   "cell_type": "markdown",
   "metadata": {},
   "source": [
    "### Reading the Project Data\n",
    "\n",
    "These projects are stored in CKG's graph database and the project reports need to be generated."
   ]
  },
  {
   "cell_type": "code",
   "execution_count": 2,
   "metadata": {},
   "outputs": [],
   "source": [
    "project1 = \"P0000004\"\n",
    "project2 = \"P0000005\""
   ]
  },
  {
   "cell_type": "code",
   "execution_count": 3,
   "metadata": {},
   "outputs": [],
   "source": [
    "p1 = project.Project(project1, datasets={}, knowledge=None, report={}, configuration_files=None)\n",
    "p1.build_project(force=False)\n",
    "p1.generate_report()"
   ]
  },
  {
   "cell_type": "code",
   "execution_count": 4,
   "metadata": {},
   "outputs": [],
   "source": [
    "p2 = project.Project(project2, datasets={}, knowledge=None, report={}, configuration_files=None)\n",
    "p2.build_project(force=False)\n",
    "p2.generate_report()"
   ]
  },
  {
   "cell_type": "code",
   "execution_count": 5,
   "metadata": {},
   "outputs": [],
   "source": [
    "proteomics_dataset1 = p1.get_dataset(\"interactomics\")\n",
    "proteomics_dataset2 = p2.get_dataset(\"interactomics\")"
   ]
  },
  {
   "cell_type": "markdown",
   "metadata": {},
   "source": [
    "### Gene Ontology Annotation\n",
    "\n",
    "We can use the Gene Ontology annotation generated during the report creation and available as a dataframe to provide the gene/protein sets for the ssGSEA analysis.\n",
    "\n",
    "One could also obtain this annotation directly from the graph database using one of the existing Cypher queries and the list of proteins (set)."
   ]
  },
  {
   "cell_type": "code",
   "execution_count": 6,
   "metadata": {},
   "outputs": [],
   "source": [
    "annotations1 = proteomics_dataset1.get_dataframe(\"go annotation\")\n",
    "annotations2 = proteomics_dataset2.get_dataframe(\"go annotation\")"
   ]
  },
  {
   "cell_type": "code",
   "execution_count": 7,
   "metadata": {},
   "outputs": [
    {
     "data": {
      "text/html": [
       "<div>\n",
       "<style scoped>\n",
       "    .dataframe tbody tr th:only-of-type {\n",
       "        vertical-align: middle;\n",
       "    }\n",
       "\n",
       "    .dataframe tbody tr th {\n",
       "        vertical-align: top;\n",
       "    }\n",
       "\n",
       "    .dataframe thead th {\n",
       "        text-align: right;\n",
       "    }\n",
       "</style>\n",
       "<table border=\"1\" class=\"dataframe\">\n",
       "  <thead>\n",
       "    <tr style=\"text-align: right;\">\n",
       "      <th></th>\n",
       "      <th>annotation</th>\n",
       "      <th>group</th>\n",
       "      <th>identifier</th>\n",
       "      <th>source</th>\n",
       "    </tr>\n",
       "  </thead>\n",
       "  <tbody>\n",
       "    <tr>\n",
       "      <th>0</th>\n",
       "      <td>mitochondrial genome maintenance</td>\n",
       "      <td>None</td>\n",
       "      <td>TYMP~P19971</td>\n",
       "      <td>UniProt</td>\n",
       "    </tr>\n",
       "    <tr>\n",
       "      <th>1</th>\n",
       "      <td>mitochondrial genome maintenance</td>\n",
       "      <td>None</td>\n",
       "      <td>MGME1~Q9BQP7</td>\n",
       "      <td>UniProt</td>\n",
       "    </tr>\n",
       "    <tr>\n",
       "      <th>2</th>\n",
       "      <td>mitochondrial genome maintenance</td>\n",
       "      <td>None</td>\n",
       "      <td>SLC25A4~P12235</td>\n",
       "      <td>UniProt</td>\n",
       "    </tr>\n",
       "    <tr>\n",
       "      <th>3</th>\n",
       "      <td>mitochondrial genome maintenance</td>\n",
       "      <td>None</td>\n",
       "      <td>SLC25A33~Q9BSK2</td>\n",
       "      <td>UniProt</td>\n",
       "    </tr>\n",
       "    <tr>\n",
       "      <th>4</th>\n",
       "      <td>mitochondrial genome maintenance</td>\n",
       "      <td>None</td>\n",
       "      <td>OPA1~O60313</td>\n",
       "      <td>UniProt</td>\n",
       "    </tr>\n",
       "    <tr>\n",
       "      <th>5</th>\n",
       "      <td>mitochondrial genome maintenance</td>\n",
       "      <td>None</td>\n",
       "      <td>MSTO1~Q9BUK6</td>\n",
       "      <td>UniProt</td>\n",
       "    </tr>\n",
       "    <tr>\n",
       "      <th>6</th>\n",
       "      <td>single strand break repair</td>\n",
       "      <td>None</td>\n",
       "      <td>ERCC6~Q03468</td>\n",
       "      <td>UniProt</td>\n",
       "    </tr>\n",
       "    <tr>\n",
       "      <th>7</th>\n",
       "      <td>single strand break repair</td>\n",
       "      <td>None</td>\n",
       "      <td>SIRT1~Q96EB6</td>\n",
       "      <td>UniProt</td>\n",
       "    </tr>\n",
       "    <tr>\n",
       "      <th>8</th>\n",
       "      <td>single strand break repair</td>\n",
       "      <td>None</td>\n",
       "      <td>APTX~Q7Z2E3</td>\n",
       "      <td>UniProt</td>\n",
       "    </tr>\n",
       "    <tr>\n",
       "      <th>9</th>\n",
       "      <td>single strand break repair</td>\n",
       "      <td>None</td>\n",
       "      <td>APLF~Q8IW19</td>\n",
       "      <td>UniProt</td>\n",
       "    </tr>\n",
       "    <tr>\n",
       "      <th>10</th>\n",
       "      <td>single strand break repair</td>\n",
       "      <td>None</td>\n",
       "      <td>XRCC1~P18887</td>\n",
       "      <td>UniProt</td>\n",
       "    </tr>\n",
       "    <tr>\n",
       "      <th>11</th>\n",
       "      <td>regulation of DNA recombination</td>\n",
       "      <td>None</td>\n",
       "      <td>THOC1~Q96FV9</td>\n",
       "      <td>UniProt</td>\n",
       "    </tr>\n",
       "    <tr>\n",
       "      <th>12</th>\n",
       "      <td>regulation of DNA recombination</td>\n",
       "      <td>background</td>\n",
       "      <td>KPNA2~P52292</td>\n",
       "      <td>UniProt</td>\n",
       "    </tr>\n",
       "    <tr>\n",
       "      <th>13</th>\n",
       "      <td>regulation of DNA recombination</td>\n",
       "      <td>background</td>\n",
       "      <td>ALYREF~Q86V81</td>\n",
       "      <td>UniProt</td>\n",
       "    </tr>\n",
       "    <tr>\n",
       "      <th>14</th>\n",
       "      <td>regulation of DNA recombination</td>\n",
       "      <td>None</td>\n",
       "      <td>KPNA1~P52294</td>\n",
       "      <td>UniProt</td>\n",
       "    </tr>\n",
       "    <tr>\n",
       "      <th>15</th>\n",
       "      <td>regulation of DNA recombination</td>\n",
       "      <td>None</td>\n",
       "      <td>SMARCAD1~Q9H4L7</td>\n",
       "      <td>UniProt</td>\n",
       "    </tr>\n",
       "    <tr>\n",
       "      <th>16</th>\n",
       "      <td>regulation of mitotic recombination</td>\n",
       "      <td>None</td>\n",
       "      <td>MRE11~P49959</td>\n",
       "      <td>UniProt</td>\n",
       "    </tr>\n",
       "    <tr>\n",
       "      <th>17</th>\n",
       "      <td>regulation of mitotic recombination</td>\n",
       "      <td>None</td>\n",
       "      <td>RAD50~Q92878</td>\n",
       "      <td>UniProt</td>\n",
       "    </tr>\n",
       "    <tr>\n",
       "      <th>18</th>\n",
       "      <td>mitotic spindle elongation</td>\n",
       "      <td>None</td>\n",
       "      <td>PRC1~O43663</td>\n",
       "      <td>UniProt</td>\n",
       "    </tr>\n",
       "    <tr>\n",
       "      <th>19</th>\n",
       "      <td>mitotic spindle elongation</td>\n",
       "      <td>None</td>\n",
       "      <td>KIF23~Q02241</td>\n",
       "      <td>UniProt</td>\n",
       "    </tr>\n",
       "    <tr>\n",
       "      <th>20</th>\n",
       "      <td>maltose metabolic process</td>\n",
       "      <td>None</td>\n",
       "      <td>MGAM~O43451</td>\n",
       "      <td>UniProt</td>\n",
       "    </tr>\n",
       "    <tr>\n",
       "      <th>21</th>\n",
       "      <td>maltose metabolic process</td>\n",
       "      <td>None</td>\n",
       "      <td>GANC~Q8TET4</td>\n",
       "      <td>UniProt</td>\n",
       "    </tr>\n",
       "    <tr>\n",
       "      <th>22</th>\n",
       "      <td>maltose metabolic process</td>\n",
       "      <td>None</td>\n",
       "      <td>GAA~P10253</td>\n",
       "      <td>UniProt</td>\n",
       "    </tr>\n",
       "    <tr>\n",
       "      <th>23</th>\n",
       "      <td>ribosomal large subunit assembly</td>\n",
       "      <td>None</td>\n",
       "      <td>MDN1~Q9NU22</td>\n",
       "      <td>UniProt</td>\n",
       "    </tr>\n",
       "    <tr>\n",
       "      <th>24</th>\n",
       "      <td>ribosomal large subunit assembly</td>\n",
       "      <td>background</td>\n",
       "      <td>RPL11~P62913</td>\n",
       "      <td>UniProt</td>\n",
       "    </tr>\n",
       "    <tr>\n",
       "      <th>25</th>\n",
       "      <td>ribosomal large subunit assembly</td>\n",
       "      <td>background</td>\n",
       "      <td>BRIX1~Q8TDN6</td>\n",
       "      <td>UniProt</td>\n",
       "    </tr>\n",
       "    <tr>\n",
       "      <th>26</th>\n",
       "      <td>ribosomal large subunit assembly</td>\n",
       "      <td>background</td>\n",
       "      <td>RPL12~P30050</td>\n",
       "      <td>UniProt</td>\n",
       "    </tr>\n",
       "    <tr>\n",
       "      <th>27</th>\n",
       "      <td>ribosomal large subunit assembly</td>\n",
       "      <td>background</td>\n",
       "      <td>RPL6~Q02878</td>\n",
       "      <td>UniProt</td>\n",
       "    </tr>\n",
       "    <tr>\n",
       "      <th>28</th>\n",
       "      <td>ribosomal large subunit assembly</td>\n",
       "      <td>background</td>\n",
       "      <td>RPL3~P39023</td>\n",
       "      <td>UniProt</td>\n",
       "    </tr>\n",
       "    <tr>\n",
       "      <th>29</th>\n",
       "      <td>ribosomal large subunit assembly</td>\n",
       "      <td>None</td>\n",
       "      <td>PPAN~Q9NQ55</td>\n",
       "      <td>UniProt</td>\n",
       "    </tr>\n",
       "    <tr>\n",
       "      <th>...</th>\n",
       "      <td>...</td>\n",
       "      <td>...</td>\n",
       "      <td>...</td>\n",
       "      <td>...</td>\n",
       "    </tr>\n",
       "    <tr>\n",
       "      <th>70530</th>\n",
       "      <td>regulation of store-operated calcium entry</td>\n",
       "      <td>None</td>\n",
       "      <td>SPINK1~P00995</td>\n",
       "      <td>UniProt</td>\n",
       "    </tr>\n",
       "    <tr>\n",
       "      <th>70531</th>\n",
       "      <td>negative regulation of cation channel activity</td>\n",
       "      <td>None</td>\n",
       "      <td>MMP9~P14780</td>\n",
       "      <td>UniProt</td>\n",
       "    </tr>\n",
       "    <tr>\n",
       "      <th>70532</th>\n",
       "      <td>positive regulation of cation channel activity</td>\n",
       "      <td>None</td>\n",
       "      <td>ANK3~Q12955</td>\n",
       "      <td>UniProt</td>\n",
       "    </tr>\n",
       "    <tr>\n",
       "      <th>70533</th>\n",
       "      <td>positive regulation of cation channel activity</td>\n",
       "      <td>None</td>\n",
       "      <td>CTSS~P25774</td>\n",
       "      <td>UniProt</td>\n",
       "    </tr>\n",
       "    <tr>\n",
       "      <th>70534</th>\n",
       "      <td>regulation of semaphorin-plexin signaling pathway</td>\n",
       "      <td>None</td>\n",
       "      <td>NCAM1~P13591</td>\n",
       "      <td>UniProt</td>\n",
       "    </tr>\n",
       "    <tr>\n",
       "      <th>70535</th>\n",
       "      <td>negative regulation of cysteine-type endopepti...</td>\n",
       "      <td>None</td>\n",
       "      <td>PIH1D1~Q9NWS0</td>\n",
       "      <td>UniProt</td>\n",
       "    </tr>\n",
       "    <tr>\n",
       "      <th>70536</th>\n",
       "      <td>negative regulation of cysteine-type endopepti...</td>\n",
       "      <td>None</td>\n",
       "      <td>PLAUR~Q03405</td>\n",
       "      <td>UniProt</td>\n",
       "    </tr>\n",
       "    <tr>\n",
       "      <th>70537</th>\n",
       "      <td>negative regulation of cysteine-type endopepti...</td>\n",
       "      <td>background</td>\n",
       "      <td>PARK7~Q99497</td>\n",
       "      <td>UniProt</td>\n",
       "    </tr>\n",
       "    <tr>\n",
       "      <th>70538</th>\n",
       "      <td>negative regulation of cysteine-type endopepti...</td>\n",
       "      <td>None</td>\n",
       "      <td>CAAP1~Q9H8G2</td>\n",
       "      <td>UniProt</td>\n",
       "    </tr>\n",
       "    <tr>\n",
       "      <th>70539</th>\n",
       "      <td>negative regulation of cysteine-type endopepti...</td>\n",
       "      <td>None</td>\n",
       "      <td>MMP9~P14780</td>\n",
       "      <td>UniProt</td>\n",
       "    </tr>\n",
       "    <tr>\n",
       "      <th>70540</th>\n",
       "      <td>negative regulation of cysteine-type endopepti...</td>\n",
       "      <td>None</td>\n",
       "      <td>NLE1~Q9NVX2</td>\n",
       "      <td>UniProt</td>\n",
       "    </tr>\n",
       "    <tr>\n",
       "      <th>70541</th>\n",
       "      <td>positive regulation of cysteine-type endopepti...</td>\n",
       "      <td>None</td>\n",
       "      <td>TFAP4~Q01664</td>\n",
       "      <td>UniProt</td>\n",
       "    </tr>\n",
       "    <tr>\n",
       "      <th>70542</th>\n",
       "      <td>positive regulation of cysteine-type endopepti...</td>\n",
       "      <td>None</td>\n",
       "      <td>HTRA2~O43464</td>\n",
       "      <td>UniProt</td>\n",
       "    </tr>\n",
       "    <tr>\n",
       "      <th>70543</th>\n",
       "      <td>positive regulation of cysteine-type endopepti...</td>\n",
       "      <td>None</td>\n",
       "      <td>GSN~P06396</td>\n",
       "      <td>UniProt</td>\n",
       "    </tr>\n",
       "    <tr>\n",
       "      <th>70544</th>\n",
       "      <td>positive regulation of cysteine-type endopepti...</td>\n",
       "      <td>None</td>\n",
       "      <td>LGALS9~O00182</td>\n",
       "      <td>UniProt</td>\n",
       "    </tr>\n",
       "    <tr>\n",
       "      <th>70545</th>\n",
       "      <td>positive regulation of cysteine-type endopepti...</td>\n",
       "      <td>None</td>\n",
       "      <td>FAS~P25445</td>\n",
       "      <td>UniProt</td>\n",
       "    </tr>\n",
       "    <tr>\n",
       "      <th>70546</th>\n",
       "      <td>negative regulation of cysteine-type endopepti...</td>\n",
       "      <td>None</td>\n",
       "      <td>PAK2~Q13177</td>\n",
       "      <td>UniProt</td>\n",
       "    </tr>\n",
       "    <tr>\n",
       "      <th>70547</th>\n",
       "      <td>positive regulation of cysteine-type endopepti...</td>\n",
       "      <td>background</td>\n",
       "      <td>RPS3~P23396</td>\n",
       "      <td>UniProt</td>\n",
       "    </tr>\n",
       "    <tr>\n",
       "      <th>70548</th>\n",
       "      <td>positive regulation of unsaturated fatty acid ...</td>\n",
       "      <td>None</td>\n",
       "      <td>ABCD1~P33897</td>\n",
       "      <td>UniProt</td>\n",
       "    </tr>\n",
       "    <tr>\n",
       "      <th>70549</th>\n",
       "      <td>regulation of caveolin-mediated endocytosis</td>\n",
       "      <td>None</td>\n",
       "      <td>SRC~P12931</td>\n",
       "      <td>UniProt</td>\n",
       "    </tr>\n",
       "    <tr>\n",
       "      <th>70550</th>\n",
       "      <td>negative regulation of caveolin-mediated endoc...</td>\n",
       "      <td>None</td>\n",
       "      <td>PROM2~Q8N271</td>\n",
       "      <td>UniProt</td>\n",
       "    </tr>\n",
       "    <tr>\n",
       "      <th>70551</th>\n",
       "      <td>positive regulation of caveolin-mediated endoc...</td>\n",
       "      <td>None</td>\n",
       "      <td>ITSN1~Q15811</td>\n",
       "      <td>UniProt</td>\n",
       "    </tr>\n",
       "    <tr>\n",
       "      <th>70552</th>\n",
       "      <td>positive regulation of caveolin-mediated endoc...</td>\n",
       "      <td>None</td>\n",
       "      <td>NEDD4L~Q96PU5</td>\n",
       "      <td>UniProt</td>\n",
       "    </tr>\n",
       "    <tr>\n",
       "      <th>70553</th>\n",
       "      <td>malonyl-CoA catabolic process</td>\n",
       "      <td>None</td>\n",
       "      <td>MLYCD~O95822</td>\n",
       "      <td>UniProt</td>\n",
       "    </tr>\n",
       "    <tr>\n",
       "      <th>70554</th>\n",
       "      <td>malonyl-CoA biosynthetic process</td>\n",
       "      <td>None</td>\n",
       "      <td>ACACA~Q13085</td>\n",
       "      <td>UniProt</td>\n",
       "    </tr>\n",
       "    <tr>\n",
       "      <th>70555</th>\n",
       "      <td>malonyl-CoA biosynthetic process</td>\n",
       "      <td>None</td>\n",
       "      <td>ACACB~O00763</td>\n",
       "      <td>UniProt</td>\n",
       "    </tr>\n",
       "    <tr>\n",
       "      <th>70556</th>\n",
       "      <td>lipoxin biosynthetic process</td>\n",
       "      <td>None</td>\n",
       "      <td>ALOX5~P09917</td>\n",
       "      <td>UniProt</td>\n",
       "    </tr>\n",
       "    <tr>\n",
       "      <th>70557</th>\n",
       "      <td>lipoxin biosynthetic process</td>\n",
       "      <td>None</td>\n",
       "      <td>ALOX5AP~P20292</td>\n",
       "      <td>UniProt</td>\n",
       "    </tr>\n",
       "    <tr>\n",
       "      <th>70558</th>\n",
       "      <td>lipoxin A4 biosynthetic process</td>\n",
       "      <td>None</td>\n",
       "      <td>ALOX15~P16050</td>\n",
       "      <td>UniProt</td>\n",
       "    </tr>\n",
       "    <tr>\n",
       "      <th>70559</th>\n",
       "      <td>lysobisphosphatidic acid metabolic process</td>\n",
       "      <td>None</td>\n",
       "      <td>ACP6~Q9NPH0</td>\n",
       "      <td>UniProt</td>\n",
       "    </tr>\n",
       "  </tbody>\n",
       "</table>\n",
       "<p>70560 rows × 4 columns</p>\n",
       "</div>"
      ],
      "text/plain": [
       "                                              annotation       group  \\\n",
       "0                       mitochondrial genome maintenance        None   \n",
       "1                       mitochondrial genome maintenance        None   \n",
       "2                       mitochondrial genome maintenance        None   \n",
       "3                       mitochondrial genome maintenance        None   \n",
       "4                       mitochondrial genome maintenance        None   \n",
       "5                       mitochondrial genome maintenance        None   \n",
       "6                             single strand break repair        None   \n",
       "7                             single strand break repair        None   \n",
       "8                             single strand break repair        None   \n",
       "9                             single strand break repair        None   \n",
       "10                            single strand break repair        None   \n",
       "11                       regulation of DNA recombination        None   \n",
       "12                       regulation of DNA recombination  background   \n",
       "13                       regulation of DNA recombination  background   \n",
       "14                       regulation of DNA recombination        None   \n",
       "15                       regulation of DNA recombination        None   \n",
       "16                   regulation of mitotic recombination        None   \n",
       "17                   regulation of mitotic recombination        None   \n",
       "18                            mitotic spindle elongation        None   \n",
       "19                            mitotic spindle elongation        None   \n",
       "20                             maltose metabolic process        None   \n",
       "21                             maltose metabolic process        None   \n",
       "22                             maltose metabolic process        None   \n",
       "23                      ribosomal large subunit assembly        None   \n",
       "24                      ribosomal large subunit assembly  background   \n",
       "25                      ribosomal large subunit assembly  background   \n",
       "26                      ribosomal large subunit assembly  background   \n",
       "27                      ribosomal large subunit assembly  background   \n",
       "28                      ribosomal large subunit assembly  background   \n",
       "29                      ribosomal large subunit assembly        None   \n",
       "...                                                  ...         ...   \n",
       "70530         regulation of store-operated calcium entry        None   \n",
       "70531     negative regulation of cation channel activity        None   \n",
       "70532     positive regulation of cation channel activity        None   \n",
       "70533     positive regulation of cation channel activity        None   \n",
       "70534  regulation of semaphorin-plexin signaling pathway        None   \n",
       "70535  negative regulation of cysteine-type endopepti...        None   \n",
       "70536  negative regulation of cysteine-type endopepti...        None   \n",
       "70537  negative regulation of cysteine-type endopepti...  background   \n",
       "70538  negative regulation of cysteine-type endopepti...        None   \n",
       "70539  negative regulation of cysteine-type endopepti...        None   \n",
       "70540  negative regulation of cysteine-type endopepti...        None   \n",
       "70541  positive regulation of cysteine-type endopepti...        None   \n",
       "70542  positive regulation of cysteine-type endopepti...        None   \n",
       "70543  positive regulation of cysteine-type endopepti...        None   \n",
       "70544  positive regulation of cysteine-type endopepti...        None   \n",
       "70545  positive regulation of cysteine-type endopepti...        None   \n",
       "70546  negative regulation of cysteine-type endopepti...        None   \n",
       "70547  positive regulation of cysteine-type endopepti...  background   \n",
       "70548  positive regulation of unsaturated fatty acid ...        None   \n",
       "70549        regulation of caveolin-mediated endocytosis        None   \n",
       "70550  negative regulation of caveolin-mediated endoc...        None   \n",
       "70551  positive regulation of caveolin-mediated endoc...        None   \n",
       "70552  positive regulation of caveolin-mediated endoc...        None   \n",
       "70553                      malonyl-CoA catabolic process        None   \n",
       "70554                   malonyl-CoA biosynthetic process        None   \n",
       "70555                   malonyl-CoA biosynthetic process        None   \n",
       "70556                       lipoxin biosynthetic process        None   \n",
       "70557                       lipoxin biosynthetic process        None   \n",
       "70558                    lipoxin A4 biosynthetic process        None   \n",
       "70559         lysobisphosphatidic acid metabolic process        None   \n",
       "\n",
       "            identifier   source  \n",
       "0          TYMP~P19971  UniProt  \n",
       "1         MGME1~Q9BQP7  UniProt  \n",
       "2       SLC25A4~P12235  UniProt  \n",
       "3      SLC25A33~Q9BSK2  UniProt  \n",
       "4          OPA1~O60313  UniProt  \n",
       "5         MSTO1~Q9BUK6  UniProt  \n",
       "6         ERCC6~Q03468  UniProt  \n",
       "7         SIRT1~Q96EB6  UniProt  \n",
       "8          APTX~Q7Z2E3  UniProt  \n",
       "9          APLF~Q8IW19  UniProt  \n",
       "10        XRCC1~P18887  UniProt  \n",
       "11        THOC1~Q96FV9  UniProt  \n",
       "12        KPNA2~P52292  UniProt  \n",
       "13       ALYREF~Q86V81  UniProt  \n",
       "14        KPNA1~P52294  UniProt  \n",
       "15     SMARCAD1~Q9H4L7  UniProt  \n",
       "16        MRE11~P49959  UniProt  \n",
       "17        RAD50~Q92878  UniProt  \n",
       "18         PRC1~O43663  UniProt  \n",
       "19        KIF23~Q02241  UniProt  \n",
       "20         MGAM~O43451  UniProt  \n",
       "21         GANC~Q8TET4  UniProt  \n",
       "22          GAA~P10253  UniProt  \n",
       "23         MDN1~Q9NU22  UniProt  \n",
       "24        RPL11~P62913  UniProt  \n",
       "25        BRIX1~Q8TDN6  UniProt  \n",
       "26        RPL12~P30050  UniProt  \n",
       "27         RPL6~Q02878  UniProt  \n",
       "28         RPL3~P39023  UniProt  \n",
       "29         PPAN~Q9NQ55  UniProt  \n",
       "...                ...      ...  \n",
       "70530    SPINK1~P00995  UniProt  \n",
       "70531      MMP9~P14780  UniProt  \n",
       "70532      ANK3~Q12955  UniProt  \n",
       "70533      CTSS~P25774  UniProt  \n",
       "70534     NCAM1~P13591  UniProt  \n",
       "70535    PIH1D1~Q9NWS0  UniProt  \n",
       "70536     PLAUR~Q03405  UniProt  \n",
       "70537     PARK7~Q99497  UniProt  \n",
       "70538     CAAP1~Q9H8G2  UniProt  \n",
       "70539      MMP9~P14780  UniProt  \n",
       "70540      NLE1~Q9NVX2  UniProt  \n",
       "70541     TFAP4~Q01664  UniProt  \n",
       "70542     HTRA2~O43464  UniProt  \n",
       "70543       GSN~P06396  UniProt  \n",
       "70544    LGALS9~O00182  UniProt  \n",
       "70545       FAS~P25445  UniProt  \n",
       "70546      PAK2~Q13177  UniProt  \n",
       "70547      RPS3~P23396  UniProt  \n",
       "70548     ABCD1~P33897  UniProt  \n",
       "70549       SRC~P12931  UniProt  \n",
       "70550     PROM2~Q8N271  UniProt  \n",
       "70551     ITSN1~Q15811  UniProt  \n",
       "70552    NEDD4L~Q96PU5  UniProt  \n",
       "70553     MLYCD~O95822  UniProt  \n",
       "70554     ACACA~Q13085  UniProt  \n",
       "70555     ACACB~O00763  UniProt  \n",
       "70556     ALOX5~P09917  UniProt  \n",
       "70557   ALOX5AP~P20292  UniProt  \n",
       "70558    ALOX15~P16050  UniProt  \n",
       "70559      ACP6~Q9NPH0  UniProt  \n",
       "\n",
       "[70560 rows x 4 columns]"
      ]
     },
     "execution_count": 7,
     "metadata": {},
     "output_type": "execute_result"
    }
   ],
   "source": [
    "annotations1"
   ]
  },
  {
   "cell_type": "code",
   "execution_count": 8,
   "metadata": {},
   "outputs": [],
   "source": [
    "processed_dataset1 = proteomics_dataset1.get_dataframe('processed')\n",
    "processed_dataset2 = proteomics_dataset2.get_dataframe('processed')"
   ]
  },
  {
   "cell_type": "code",
   "execution_count": 9,
   "metadata": {},
   "outputs": [
    {
     "data": {
      "text/html": [
       "<div>\n",
       "<style scoped>\n",
       "    .dataframe tbody tr th:only-of-type {\n",
       "        vertical-align: middle;\n",
       "    }\n",
       "\n",
       "    .dataframe tbody tr th {\n",
       "        vertical-align: top;\n",
       "    }\n",
       "\n",
       "    .dataframe thead th {\n",
       "        text-align: right;\n",
       "    }\n",
       "</style>\n",
       "<table border=\"1\" class=\"dataframe\">\n",
       "  <thead>\n",
       "    <tr style=\"text-align: right;\">\n",
       "      <th></th>\n",
       "      <th>ABCD3~P28288</th>\n",
       "      <th>ABLIM1~O14639</th>\n",
       "      <th>ACAP2~Q15057</th>\n",
       "      <th>ACIN1~Q9UKV3</th>\n",
       "      <th>ACTA1~P68133</th>\n",
       "      <th>ACTG1~P63261</th>\n",
       "      <th>ACTN4~O43707</th>\n",
       "      <th>ACTR1A~P61163</th>\n",
       "      <th>ACTR3~P61158</th>\n",
       "      <th>ADAR~P55265</th>\n",
       "      <th>...</th>\n",
       "      <th>ZCCHC17~Q9NP64</th>\n",
       "      <th>ZFR~Q96KR1</th>\n",
       "      <th>ZNF326~Q5BKZ1</th>\n",
       "      <th>ZNF629~Q9UEG4</th>\n",
       "      <th>ZNF638~Q14966</th>\n",
       "      <th>ZNRD2~O60232</th>\n",
       "      <th>ZRANB2~O95218</th>\n",
       "      <th>group</th>\n",
       "      <th>sample</th>\n",
       "      <th>subject</th>\n",
       "    </tr>\n",
       "  </thead>\n",
       "  <tbody>\n",
       "    <tr>\n",
       "      <th>0</th>\n",
       "      <td>27.472355</td>\n",
       "      <td>24.510301</td>\n",
       "      <td>31.742221</td>\n",
       "      <td>29.535102</td>\n",
       "      <td>30.760022</td>\n",
       "      <td>35.118418</td>\n",
       "      <td>26.787807</td>\n",
       "      <td>26.299604</td>\n",
       "      <td>27.753916</td>\n",
       "      <td>24.588465</td>\n",
       "      <td>...</td>\n",
       "      <td>28.397584</td>\n",
       "      <td>25.921480</td>\n",
       "      <td>27.055173</td>\n",
       "      <td>24.576694</td>\n",
       "      <td>23.742444</td>\n",
       "      <td>29.115204</td>\n",
       "      <td>29.057783</td>\n",
       "      <td>FLAG</td>\n",
       "      <td>AS943</td>\n",
       "      <td>S138</td>\n",
       "    </tr>\n",
       "    <tr>\n",
       "      <th>1</th>\n",
       "      <td>27.460296</td>\n",
       "      <td>26.011139</td>\n",
       "      <td>31.011320</td>\n",
       "      <td>31.247341</td>\n",
       "      <td>30.421617</td>\n",
       "      <td>34.972458</td>\n",
       "      <td>29.027229</td>\n",
       "      <td>26.210650</td>\n",
       "      <td>25.878253</td>\n",
       "      <td>25.974869</td>\n",
       "      <td>...</td>\n",
       "      <td>28.232973</td>\n",
       "      <td>26.284133</td>\n",
       "      <td>26.887625</td>\n",
       "      <td>23.669367</td>\n",
       "      <td>25.411049</td>\n",
       "      <td>28.268343</td>\n",
       "      <td>28.489300</td>\n",
       "      <td>FLAG</td>\n",
       "      <td>AS944</td>\n",
       "      <td>S139</td>\n",
       "    </tr>\n",
       "    <tr>\n",
       "      <th>2</th>\n",
       "      <td>27.505821</td>\n",
       "      <td>23.608262</td>\n",
       "      <td>31.572265</td>\n",
       "      <td>29.430139</td>\n",
       "      <td>31.061174</td>\n",
       "      <td>35.345990</td>\n",
       "      <td>25.906052</td>\n",
       "      <td>25.960580</td>\n",
       "      <td>27.496556</td>\n",
       "      <td>24.543980</td>\n",
       "      <td>...</td>\n",
       "      <td>28.640687</td>\n",
       "      <td>25.899775</td>\n",
       "      <td>27.219189</td>\n",
       "      <td>24.685440</td>\n",
       "      <td>24.414733</td>\n",
       "      <td>29.080731</td>\n",
       "      <td>29.234413</td>\n",
       "      <td>FLAG</td>\n",
       "      <td>AS945</td>\n",
       "      <td>S140</td>\n",
       "    </tr>\n",
       "    <tr>\n",
       "      <th>3</th>\n",
       "      <td>27.012120</td>\n",
       "      <td>25.254434</td>\n",
       "      <td>31.353738</td>\n",
       "      <td>29.941257</td>\n",
       "      <td>30.312787</td>\n",
       "      <td>34.827996</td>\n",
       "      <td>25.787982</td>\n",
       "      <td>25.991854</td>\n",
       "      <td>26.494452</td>\n",
       "      <td>23.478376</td>\n",
       "      <td>...</td>\n",
       "      <td>28.908190</td>\n",
       "      <td>25.790942</td>\n",
       "      <td>26.534750</td>\n",
       "      <td>24.141646</td>\n",
       "      <td>25.989279</td>\n",
       "      <td>28.972269</td>\n",
       "      <td>30.331381</td>\n",
       "      <td>FLAG+CT45</td>\n",
       "      <td>AS946</td>\n",
       "      <td>S141</td>\n",
       "    </tr>\n",
       "    <tr>\n",
       "      <th>4</th>\n",
       "      <td>26.591493</td>\n",
       "      <td>25.377726</td>\n",
       "      <td>31.171406</td>\n",
       "      <td>31.171585</td>\n",
       "      <td>30.140900</td>\n",
       "      <td>35.013676</td>\n",
       "      <td>27.243544</td>\n",
       "      <td>25.666928</td>\n",
       "      <td>26.412464</td>\n",
       "      <td>23.679287</td>\n",
       "      <td>...</td>\n",
       "      <td>28.588887</td>\n",
       "      <td>25.749550</td>\n",
       "      <td>27.004746</td>\n",
       "      <td>24.608964</td>\n",
       "      <td>26.024305</td>\n",
       "      <td>28.598112</td>\n",
       "      <td>29.874860</td>\n",
       "      <td>FLAG+CT45</td>\n",
       "      <td>AS947</td>\n",
       "      <td>S142</td>\n",
       "    </tr>\n",
       "  </tbody>\n",
       "</table>\n",
       "<p>5 rows × 923 columns</p>\n",
       "</div>"
      ],
      "text/plain": [
       "   ABCD3~P28288  ABLIM1~O14639  ACAP2~Q15057  ACIN1~Q9UKV3  ACTA1~P68133  \\\n",
       "0     27.472355      24.510301     31.742221     29.535102     30.760022   \n",
       "1     27.460296      26.011139     31.011320     31.247341     30.421617   \n",
       "2     27.505821      23.608262     31.572265     29.430139     31.061174   \n",
       "3     27.012120      25.254434     31.353738     29.941257     30.312787   \n",
       "4     26.591493      25.377726     31.171406     31.171585     30.140900   \n",
       "\n",
       "   ACTG1~P63261  ACTN4~O43707  ACTR1A~P61163  ACTR3~P61158  ADAR~P55265  ...  \\\n",
       "0     35.118418     26.787807      26.299604     27.753916    24.588465  ...   \n",
       "1     34.972458     29.027229      26.210650     25.878253    25.974869  ...   \n",
       "2     35.345990     25.906052      25.960580     27.496556    24.543980  ...   \n",
       "3     34.827996     25.787982      25.991854     26.494452    23.478376  ...   \n",
       "4     35.013676     27.243544      25.666928     26.412464    23.679287  ...   \n",
       "\n",
       "   ZCCHC17~Q9NP64  ZFR~Q96KR1  ZNF326~Q5BKZ1  ZNF629~Q9UEG4  ZNF638~Q14966  \\\n",
       "0       28.397584   25.921480      27.055173      24.576694      23.742444   \n",
       "1       28.232973   26.284133      26.887625      23.669367      25.411049   \n",
       "2       28.640687   25.899775      27.219189      24.685440      24.414733   \n",
       "3       28.908190   25.790942      26.534750      24.141646      25.989279   \n",
       "4       28.588887   25.749550      27.004746      24.608964      26.024305   \n",
       "\n",
       "   ZNRD2~O60232  ZRANB2~O95218      group  sample  subject  \n",
       "0     29.115204      29.057783       FLAG   AS943     S138  \n",
       "1     28.268343      28.489300       FLAG   AS944     S139  \n",
       "2     29.080731      29.234413       FLAG   AS945     S140  \n",
       "3     28.972269      30.331381  FLAG+CT45   AS946     S141  \n",
       "4     28.598112      29.874860  FLAG+CT45   AS947     S142  \n",
       "\n",
       "[5 rows x 923 columns]"
      ]
     },
     "execution_count": 9,
     "metadata": {},
     "output_type": "execute_result"
    }
   ],
   "source": [
    "processed_dataset1.head()"
   ]
  },
  {
   "cell_type": "markdown",
   "metadata": {},
   "source": [
    "### ssGSEA\n",
    "\n",
    "The function needs only the processed dataset (interactomics data matrix) and the annotation matrix. The result provides two dataframes:\n",
    "\n",
    "- es – Enrichment scores – degree of overrepresentation\n",
    "- nes – Normalized Enrichment scores – corrects by set size and correlations between gene sets and the dataset"
   ]
  },
  {
   "cell_type": "code",
   "execution_count": 10,
   "metadata": {},
   "outputs": [],
   "source": [
    "ssgsea_result1 = analytics.run_ssgsea(processed_dataset1, annotations1, annotation_col='annotation', identifier_col='identifier', set_index=['group', 'sample','subject'], outdir=None, min_size=10, scale=False, permutations=0)"
   ]
  },
  {
   "cell_type": "code",
   "execution_count": 11,
   "metadata": {},
   "outputs": [
    {
     "data": {
      "text/html": [
       "<div>\n",
       "<style scoped>\n",
       "    .dataframe tbody tr th:only-of-type {\n",
       "        vertical-align: middle;\n",
       "    }\n",
       "\n",
       "    .dataframe tbody tr th {\n",
       "        vertical-align: top;\n",
       "    }\n",
       "\n",
       "    .dataframe thead th {\n",
       "        text-align: right;\n",
       "    }\n",
       "</style>\n",
       "<table border=\"1\" class=\"dataframe\">\n",
       "  <thead>\n",
       "    <tr style=\"text-align: right;\">\n",
       "      <th></th>\n",
       "      <th>DNA duplex unwinding</th>\n",
       "      <th>DNA repair</th>\n",
       "      <th>DNA replication</th>\n",
       "      <th>Fc-epsilon receptor signaling pathway</th>\n",
       "      <th>Fc-gamma receptor signaling pathway involved in phagocytosis</th>\n",
       "      <th>G2/M transition of mitotic cell cycle</th>\n",
       "      <th>MAPK cascade</th>\n",
       "      <th>NIK/NF-kappaB signaling</th>\n",
       "      <th>RNA export from nucleus</th>\n",
       "      <th>RNA metabolic process</th>\n",
       "      <th>...</th>\n",
       "      <th>translational initiation</th>\n",
       "      <th>transmembrane transport</th>\n",
       "      <th>tumor necrosis factor-mediated signaling pathway</th>\n",
       "      <th>ubiquitin-dependent protein catabolic process</th>\n",
       "      <th>vesicle-mediated transport</th>\n",
       "      <th>viral process</th>\n",
       "      <th>viral transcription</th>\n",
       "      <th>group</th>\n",
       "      <th>sample</th>\n",
       "      <th>subject</th>\n",
       "    </tr>\n",
       "  </thead>\n",
       "  <tbody>\n",
       "    <tr>\n",
       "      <th>FLAG_AS943_S138</th>\n",
       "      <td>0.011977</td>\n",
       "      <td>0.176476</td>\n",
       "      <td>0.052199</td>\n",
       "      <td>0.299403</td>\n",
       "      <td>0.211067</td>\n",
       "      <td>0.152337</td>\n",
       "      <td>0.336622</td>\n",
       "      <td>0.251237</td>\n",
       "      <td>0.117620</td>\n",
       "      <td>0.200810</td>\n",
       "      <td>...</td>\n",
       "      <td>0.429929</td>\n",
       "      <td>0.254752</td>\n",
       "      <td>0.304584</td>\n",
       "      <td>0.069326</td>\n",
       "      <td>0.002255</td>\n",
       "      <td>0.120948</td>\n",
       "      <td>0.464412</td>\n",
       "      <td>FLAG</td>\n",
       "      <td>AS943</td>\n",
       "      <td>S138</td>\n",
       "    </tr>\n",
       "    <tr>\n",
       "      <th>FLAG_AS944_S139</th>\n",
       "      <td>0.063279</td>\n",
       "      <td>0.147166</td>\n",
       "      <td>0.069440</td>\n",
       "      <td>0.248400</td>\n",
       "      <td>0.064426</td>\n",
       "      <td>0.096150</td>\n",
       "      <td>0.328776</td>\n",
       "      <td>0.239456</td>\n",
       "      <td>0.221997</td>\n",
       "      <td>0.254738</td>\n",
       "      <td>...</td>\n",
       "      <td>0.432992</td>\n",
       "      <td>0.261562</td>\n",
       "      <td>0.314577</td>\n",
       "      <td>0.021409</td>\n",
       "      <td>0.002524</td>\n",
       "      <td>0.098014</td>\n",
       "      <td>0.468801</td>\n",
       "      <td>FLAG</td>\n",
       "      <td>AS944</td>\n",
       "      <td>S139</td>\n",
       "    </tr>\n",
       "    <tr>\n",
       "      <th>FLAG_AS945_S140</th>\n",
       "      <td>0.044976</td>\n",
       "      <td>0.164713</td>\n",
       "      <td>0.038787</td>\n",
       "      <td>0.294322</td>\n",
       "      <td>0.225206</td>\n",
       "      <td>0.159580</td>\n",
       "      <td>0.339241</td>\n",
       "      <td>0.246767</td>\n",
       "      <td>0.111281</td>\n",
       "      <td>0.173833</td>\n",
       "      <td>...</td>\n",
       "      <td>0.432074</td>\n",
       "      <td>0.266003</td>\n",
       "      <td>0.300269</td>\n",
       "      <td>0.058290</td>\n",
       "      <td>0.017175</td>\n",
       "      <td>0.099421</td>\n",
       "      <td>0.468696</td>\n",
       "      <td>FLAG</td>\n",
       "      <td>AS945</td>\n",
       "      <td>S140</td>\n",
       "    </tr>\n",
       "    <tr>\n",
       "      <th>FLAG+CT45_AS946_S141</th>\n",
       "      <td>0.023172</td>\n",
       "      <td>0.153221</td>\n",
       "      <td>0.062612</td>\n",
       "      <td>0.289909</td>\n",
       "      <td>0.137606</td>\n",
       "      <td>0.088625</td>\n",
       "      <td>0.355786</td>\n",
       "      <td>0.289914</td>\n",
       "      <td>0.111026</td>\n",
       "      <td>0.147257</td>\n",
       "      <td>...</td>\n",
       "      <td>0.496105</td>\n",
       "      <td>0.260089</td>\n",
       "      <td>0.307746</td>\n",
       "      <td>0.076835</td>\n",
       "      <td>-0.011761</td>\n",
       "      <td>0.069829</td>\n",
       "      <td>0.538429</td>\n",
       "      <td>FLAG+CT45</td>\n",
       "      <td>AS946</td>\n",
       "      <td>S141</td>\n",
       "    </tr>\n",
       "    <tr>\n",
       "      <th>FLAG+CT45_AS947_S142</th>\n",
       "      <td>0.062469</td>\n",
       "      <td>0.151500</td>\n",
       "      <td>0.055752</td>\n",
       "      <td>0.247872</td>\n",
       "      <td>0.110875</td>\n",
       "      <td>0.067426</td>\n",
       "      <td>0.325069</td>\n",
       "      <td>0.252344</td>\n",
       "      <td>0.209442</td>\n",
       "      <td>0.207055</td>\n",
       "      <td>...</td>\n",
       "      <td>0.484496</td>\n",
       "      <td>0.233157</td>\n",
       "      <td>0.285062</td>\n",
       "      <td>0.057515</td>\n",
       "      <td>-0.024422</td>\n",
       "      <td>0.071443</td>\n",
       "      <td>0.524618</td>\n",
       "      <td>FLAG+CT45</td>\n",
       "      <td>AS947</td>\n",
       "      <td>S142</td>\n",
       "    </tr>\n",
       "    <tr>\n",
       "      <th>FLAG+CT45_AS948_S143</th>\n",
       "      <td>0.080360</td>\n",
       "      <td>0.165221</td>\n",
       "      <td>0.061832</td>\n",
       "      <td>0.278415</td>\n",
       "      <td>0.106264</td>\n",
       "      <td>0.091682</td>\n",
       "      <td>0.341581</td>\n",
       "      <td>0.266505</td>\n",
       "      <td>0.128023</td>\n",
       "      <td>0.169994</td>\n",
       "      <td>...</td>\n",
       "      <td>0.496060</td>\n",
       "      <td>0.245163</td>\n",
       "      <td>0.298267</td>\n",
       "      <td>0.059050</td>\n",
       "      <td>-0.000553</td>\n",
       "      <td>0.079137</td>\n",
       "      <td>0.535138</td>\n",
       "      <td>FLAG+CT45</td>\n",
       "      <td>AS948</td>\n",
       "      <td>S143</td>\n",
       "    </tr>\n",
       "  </tbody>\n",
       "</table>\n",
       "<p>6 rows × 153 columns</p>\n",
       "</div>"
      ],
      "text/plain": [
       "                      DNA duplex unwinding  DNA repair  DNA replication  \\\n",
       "FLAG_AS943_S138                   0.011977    0.176476         0.052199   \n",
       "FLAG_AS944_S139                   0.063279    0.147166         0.069440   \n",
       "FLAG_AS945_S140                   0.044976    0.164713         0.038787   \n",
       "FLAG+CT45_AS946_S141              0.023172    0.153221         0.062612   \n",
       "FLAG+CT45_AS947_S142              0.062469    0.151500         0.055752   \n",
       "FLAG+CT45_AS948_S143              0.080360    0.165221         0.061832   \n",
       "\n",
       "                      Fc-epsilon receptor signaling pathway  \\\n",
       "FLAG_AS943_S138                                    0.299403   \n",
       "FLAG_AS944_S139                                    0.248400   \n",
       "FLAG_AS945_S140                                    0.294322   \n",
       "FLAG+CT45_AS946_S141                               0.289909   \n",
       "FLAG+CT45_AS947_S142                               0.247872   \n",
       "FLAG+CT45_AS948_S143                               0.278415   \n",
       "\n",
       "                      Fc-gamma receptor signaling pathway involved in phagocytosis  \\\n",
       "FLAG_AS943_S138                                                0.211067              \n",
       "FLAG_AS944_S139                                                0.064426              \n",
       "FLAG_AS945_S140                                                0.225206              \n",
       "FLAG+CT45_AS946_S141                                           0.137606              \n",
       "FLAG+CT45_AS947_S142                                           0.110875              \n",
       "FLAG+CT45_AS948_S143                                           0.106264              \n",
       "\n",
       "                      G2/M transition of mitotic cell cycle  MAPK cascade  \\\n",
       "FLAG_AS943_S138                                    0.152337      0.336622   \n",
       "FLAG_AS944_S139                                    0.096150      0.328776   \n",
       "FLAG_AS945_S140                                    0.159580      0.339241   \n",
       "FLAG+CT45_AS946_S141                               0.088625      0.355786   \n",
       "FLAG+CT45_AS947_S142                               0.067426      0.325069   \n",
       "FLAG+CT45_AS948_S143                               0.091682      0.341581   \n",
       "\n",
       "                      NIK/NF-kappaB signaling  RNA export from nucleus  \\\n",
       "FLAG_AS943_S138                      0.251237                 0.117620   \n",
       "FLAG_AS944_S139                      0.239456                 0.221997   \n",
       "FLAG_AS945_S140                      0.246767                 0.111281   \n",
       "FLAG+CT45_AS946_S141                 0.289914                 0.111026   \n",
       "FLAG+CT45_AS947_S142                 0.252344                 0.209442   \n",
       "FLAG+CT45_AS948_S143                 0.266505                 0.128023   \n",
       "\n",
       "                      RNA metabolic process  ...  translational initiation  \\\n",
       "FLAG_AS943_S138                    0.200810  ...                  0.429929   \n",
       "FLAG_AS944_S139                    0.254738  ...                  0.432992   \n",
       "FLAG_AS945_S140                    0.173833  ...                  0.432074   \n",
       "FLAG+CT45_AS946_S141               0.147257  ...                  0.496105   \n",
       "FLAG+CT45_AS947_S142               0.207055  ...                  0.484496   \n",
       "FLAG+CT45_AS948_S143               0.169994  ...                  0.496060   \n",
       "\n",
       "                      transmembrane transport  \\\n",
       "FLAG_AS943_S138                      0.254752   \n",
       "FLAG_AS944_S139                      0.261562   \n",
       "FLAG_AS945_S140                      0.266003   \n",
       "FLAG+CT45_AS946_S141                 0.260089   \n",
       "FLAG+CT45_AS947_S142                 0.233157   \n",
       "FLAG+CT45_AS948_S143                 0.245163   \n",
       "\n",
       "                      tumor necrosis factor-mediated signaling pathway  \\\n",
       "FLAG_AS943_S138                                               0.304584   \n",
       "FLAG_AS944_S139                                               0.314577   \n",
       "FLAG_AS945_S140                                               0.300269   \n",
       "FLAG+CT45_AS946_S141                                          0.307746   \n",
       "FLAG+CT45_AS947_S142                                          0.285062   \n",
       "FLAG+CT45_AS948_S143                                          0.298267   \n",
       "\n",
       "                      ubiquitin-dependent protein catabolic process  \\\n",
       "FLAG_AS943_S138                                            0.069326   \n",
       "FLAG_AS944_S139                                            0.021409   \n",
       "FLAG_AS945_S140                                            0.058290   \n",
       "FLAG+CT45_AS946_S141                                       0.076835   \n",
       "FLAG+CT45_AS947_S142                                       0.057515   \n",
       "FLAG+CT45_AS948_S143                                       0.059050   \n",
       "\n",
       "                      vesicle-mediated transport  viral process  \\\n",
       "FLAG_AS943_S138                         0.002255       0.120948   \n",
       "FLAG_AS944_S139                         0.002524       0.098014   \n",
       "FLAG_AS945_S140                         0.017175       0.099421   \n",
       "FLAG+CT45_AS946_S141                   -0.011761       0.069829   \n",
       "FLAG+CT45_AS947_S142                   -0.024422       0.071443   \n",
       "FLAG+CT45_AS948_S143                   -0.000553       0.079137   \n",
       "\n",
       "                      viral transcription      group  sample  subject  \n",
       "FLAG_AS943_S138                  0.464412       FLAG   AS943     S138  \n",
       "FLAG_AS944_S139                  0.468801       FLAG   AS944     S139  \n",
       "FLAG_AS945_S140                  0.468696       FLAG   AS945     S140  \n",
       "FLAG+CT45_AS946_S141             0.538429  FLAG+CT45   AS946     S141  \n",
       "FLAG+CT45_AS947_S142             0.524618  FLAG+CT45   AS947     S142  \n",
       "FLAG+CT45_AS948_S143             0.535138  FLAG+CT45   AS948     S143  \n",
       "\n",
       "[6 rows x 153 columns]"
      ]
     },
     "execution_count": 11,
     "metadata": {},
     "output_type": "execute_result"
    }
   ],
   "source": [
    "ssgsea_result1['nes']"
   ]
  },
  {
   "cell_type": "code",
   "execution_count": 12,
   "metadata": {},
   "outputs": [],
   "source": [
    "pca_result, args = analytics.run_pca(ssgsea_result1['nes'], drop_cols=['sample', 'subject'], group='group')"
   ]
  },
  {
   "cell_type": "code",
   "execution_count": 13,
   "metadata": {
    "scrolled": false
   },
   "outputs": [
    {
     "data": {
      "application/vnd.plotly.v1+json": {
       "config": {
        "linkText": "Export to plot.ly",
        "plotlyServerURL": "https://plot.ly",
        "showLink": false
       },
       "data": [
        {
         "hovertemplate": "group=FLAG<br>x=%{x}<br>y=%{y}<extra></extra>",
         "legendgroup": "FLAG",
         "marker": {
          "color": "#636efa",
          "line": {
           "color": "DarkSlateGrey",
           "width": 0.5
          },
          "opacity": 0.7,
          "size": 14,
          "symbol": "circle"
         },
         "mode": "markers",
         "name": "FLAG",
         "orientation": "v",
         "showlegend": true,
         "type": "scatter",
         "x": [
          -0.3330919704984726,
          -0.35953779822882775,
          -0.2744498431945557
         ],
         "xaxis": "x",
         "y": [
          -0.19220521449820888,
          0.3411436731538641,
          -0.22940334152580502
         ],
         "yaxis": "y"
        },
        {
         "hovertemplate": "group=FLAG+CT45<br>x=%{x}<br>y=%{y}<extra></extra>",
         "legendgroup": "FLAG+CT45",
         "marker": {
          "color": "#EF553B",
          "line": {
           "color": "DarkSlateGrey",
           "width": 0.5
          },
          "opacity": 0.7,
          "size": 14,
          "symbol": "circle"
         },
         "mode": "markers",
         "name": "FLAG+CT45",
         "orientation": "v",
         "showlegend": true,
         "type": "scatter",
         "x": [
          0.3709750742641108,
          0.22335534179234914,
          0.37274919586539595
         ],
         "xaxis": "x",
         "y": [
          -0.11149377637871664,
          0.23105839084501462,
          -0.03909973159614819
         ],
         "yaxis": "y"
        },
        {
         "marker": {
          "color": "darkgrey",
          "opacity": 0.9,
          "showscale": false,
          "size": 3,
          "symbol": 1
         },
         "mode": "markers+lines",
         "name": "mitochondrial translation",
         "showlegend": false,
         "text": "mitochondrial translation loading: 0.45",
         "type": "scattergl",
         "x": [
          0,
          0.43998350701872924
         ],
         "y": [
          0,
          -0.08442465913116559
         ]
        },
        {
         "marker": {
          "color": "darkgrey",
          "opacity": 0.9,
          "showscale": false,
          "size": 3,
          "symbol": 1
         },
         "mode": "markers+lines",
         "name": "mitochondrial translational termination",
         "showlegend": false,
         "text": "mitochondrial translational termination loading: 0.36",
         "type": "scattergl",
         "x": [
          0,
          0.3510140535571755
         ],
         "y": [
          0,
          -0.06036285790145909
         ]
        },
        {
         "marker": {
          "color": "darkgrey",
          "opacity": 0.9,
          "showscale": false,
          "size": 3,
          "symbol": 1
         },
         "mode": "markers+lines",
         "name": "mitochondrial translational elongation",
         "showlegend": false,
         "text": "mitochondrial translational elongation loading: 0.34",
         "type": "scattergl",
         "x": [
          0,
          0.33065419724813666
         ],
         "y": [
          0,
          -0.07691562945053841
         ]
        },
        {
         "marker": {
          "color": "darkgrey",
          "opacity": 0.9,
          "showscale": false,
          "size": 3,
          "symbol": 1
         },
         "mode": "markers+lines",
         "name": "protein dephosphorylation",
         "showlegend": false,
         "text": "protein dephosphorylation loading: 0.32",
         "type": "scattergl",
         "x": [
          0,
          0.31381985219826086
         ],
         "y": [
          0,
          -0.03018642795828019
         ]
        },
        {
         "marker": {
          "color": "darkgrey",
          "opacity": 0.9,
          "showscale": false,
          "size": 3,
          "symbol": 1
         },
         "mode": "markers+lines",
         "name": "ribosomal small subunit assembly",
         "showlegend": false,
         "text": "ribosomal small subunit assembly loading: 0.26",
         "type": "scattergl",
         "x": [
          0,
          0.2575054156692804
         ],
         "y": [
          0,
          0.010255608640670474
         ]
        },
        {
         "marker": {
          "color": "darkgrey",
          "opacity": 0.9,
          "showscale": false,
          "size": 3,
          "symbol": 1
         },
         "mode": "markers+lines",
         "name": "cell adhesion",
         "showlegend": false,
         "text": "cell adhesion loading: 0.25",
         "type": "scattergl",
         "x": [
          0,
          0.21635744655356445
         ],
         "y": [
          0,
          0.12678788114049233
         ]
        },
        {
         "marker": {
          "color": "darkgrey",
          "opacity": 0.9,
          "showscale": false,
          "size": 3,
          "symbol": 1
         },
         "mode": "markers+lines",
         "name": "Fc-gamma receptor signaling pathway involved in phagocytosis",
         "showlegend": false,
         "text": "Fc-gamma receptor signaling pathway involved in phagocytosis loading: 0.24",
         "type": "scattergl",
         "x": [
          0,
          -0.062077172989520236
         ],
         "y": [
          0,
          -0.23465872986302264
         ]
        },
        {
         "marker": {
          "color": "darkgrey",
          "opacity": 0.9,
          "showscale": false,
          "size": 3,
          "symbol": 1
         },
         "mode": "markers+lines",
         "name": "mRNA splice site selection",
         "showlegend": false,
         "text": "mRNA splice site selection loading: 0.23",
         "type": "scattergl",
         "x": [
          0,
          -0.07056118204137006
         ],
         "y": [
          0,
          0.22083530187292535
         ]
        },
        {
         "marker": {
          "color": "darkgrey",
          "opacity": 0.9,
          "showscale": false,
          "size": 3,
          "symbol": 1
         },
         "mode": "markers+lines",
         "name": "regulation of RNA metabolic process",
         "showlegend": false,
         "text": "regulation of RNA metabolic process loading: 0.22",
         "type": "scattergl",
         "x": [
          0,
          -0.0506126058969587
         ],
         "y": [
          0,
          0.2191110016222742
         ]
        },
        {
         "marker": {
          "color": "darkgrey",
          "opacity": 0.9,
          "showscale": false,
          "size": 3,
          "symbol": 1
         },
         "mode": "markers+lines",
         "name": "mRNA cis splicing, via spliceosome",
         "showlegend": false,
         "text": "mRNA cis splicing, via spliceosome loading: 0.22",
         "type": "scattergl",
         "x": [
          0,
          -0.08103116179386911
         ],
         "y": [
          0,
          0.20657872010308373
         ]
        },
        {
         "marker": {
          "color": "darkgrey",
          "opacity": 0.9,
          "showscale": false,
          "size": 3,
          "symbol": 1
         },
         "mode": "markers+lines",
         "name": "RNA export from nucleus",
         "showlegend": false,
         "text": "RNA export from nucleus loading: 0.22",
         "type": "scattergl",
         "x": [
          0,
          -0.021568829581044863
         ],
         "y": [
          0,
          0.21444305655197404
         ]
        },
        {
         "marker": {
          "color": "darkgrey",
          "opacity": 0.9,
          "showscale": false,
          "size": 3,
          "symbol": 1
         },
         "mode": "markers+lines",
         "name": "negative regulation of mRNA splicing, via spliceosome",
         "showlegend": false,
         "text": "negative regulation of mRNA splicing, via spliceosome loading: 0.18",
         "type": "scattergl",
         "x": [
          0,
          -0.03225434682372425
         ],
         "y": [
          0,
          0.18074456261978336
         ]
        },
        {
         "marker": {
          "color": "darkgrey",
          "opacity": 0.9,
          "showscale": false,
          "size": 3,
          "symbol": 1
         },
         "mode": "markers+lines",
         "name": "mRNA export from nucleus",
         "showlegend": false,
         "text": "mRNA export from nucleus loading: 0.18",
         "type": "scattergl",
         "x": [
          0,
          -0.032676015895492884
         ],
         "y": [
          0,
          0.179250692515702
         ]
        },
        {
         "marker": {
          "color": "darkgrey",
          "opacity": 0.9,
          "showscale": false,
          "size": 3,
          "symbol": 1
         },
         "mode": "markers+lines",
         "name": "regulation of alternative mRNA splicing, via spliceosome",
         "showlegend": false,
         "text": "regulation of alternative mRNA splicing, via spliceosome loading: 0.18",
         "type": "scattergl",
         "x": [
          0,
          -0.0565879699356289
         ],
         "y": [
          0,
          0.1681072509705341
         ]
        },
        {
         "marker": {
          "color": "darkgrey",
          "opacity": 0.9,
          "showscale": false,
          "size": 3,
          "symbol": 1
         },
         "mode": "markers+lines",
         "name": "mRNA 3'-end processing",
         "showlegend": false,
         "text": "mRNA 3'-end processing loading: 0.17",
         "type": "scattergl",
         "x": [
          0,
          -0.019157158854657595
         ],
         "y": [
          0,
          0.1724384912285166
         ]
        }
       ],
       "layout": {
        "annotations": [
         {
          "align": "center",
          "ax": 20,
          "ay": -30,
          "font": {
           "color": "darkgrey",
           "size": 12
          },
          "showarrow": false,
          "text": "mitochondrial translation",
          "x": 0.5059810330715386,
          "xref": "x",
          "y": -0.09708835800084042,
          "yref": "y"
         },
         {
          "align": "center",
          "ax": 20,
          "ay": -30,
          "font": {
           "color": "darkgrey",
           "size": 12
          },
          "showarrow": false,
          "text": "mitochondrial translational termination",
          "x": 0.4036661615907518,
          "xref": "x",
          "y": -0.06941728658667795,
          "yref": "y"
         },
         {
          "align": "center",
          "ax": 20,
          "ay": -30,
          "font": {
           "color": "darkgrey",
           "size": 12
          },
          "showarrow": false,
          "text": "mitochondrial translational elongation",
          "x": 0.38025232683535715,
          "xref": "x",
          "y": -0.08845297386811916,
          "yref": "y"
         },
         {
          "align": "center",
          "ax": 20,
          "ay": -30,
          "font": {
           "color": "darkgrey",
           "size": 12
          },
          "showarrow": false,
          "text": "protein dephosphorylation",
          "x": 0.360892830028,
          "xref": "x",
          "y": -0.03471439215202222,
          "yref": "y"
         },
         {
          "align": "center",
          "ax": 20,
          "ay": -30,
          "font": {
           "color": "darkgrey",
           "size": 12
          },
          "showarrow": false,
          "text": "ribosomal small subunit assembly",
          "x": 0.29613122801967245,
          "xref": "x",
          "y": 0.011793949936771044,
          "yref": "y"
         },
         {
          "align": "center",
          "ax": 20,
          "ay": -30,
          "font": {
           "color": "darkgrey",
           "size": 12
          },
          "showarrow": false,
          "text": "cell adhesion",
          "x": 0.2488110635365991,
          "xref": "x",
          "y": 0.14580606331156618,
          "yref": "y"
         },
         {
          "align": "center",
          "ax": 20,
          "ay": -30,
          "font": {
           "color": "darkgrey",
           "size": 12
          },
          "showarrow": false,
          "text": "Fc-gamma receptor signaling pathway involved in phagocytosis",
          "x": -0.07138874893794826,
          "xref": "x",
          "y": -0.269857539342476,
          "yref": "y"
         },
         {
          "align": "center",
          "ax": 20,
          "ay": -30,
          "font": {
           "color": "darkgrey",
           "size": 12
          },
          "showarrow": false,
          "text": "mRNA splice site selection",
          "x": -0.08114535934757557,
          "xref": "x",
          "y": 0.25396059715386415,
          "yref": "y"
         },
         {
          "align": "center",
          "ax": 20,
          "ay": -30,
          "font": {
           "color": "darkgrey",
           "size": 12
          },
          "showarrow": false,
          "text": "regulation of RNA metabolic process",
          "x": -0.0582044967815025,
          "xref": "x",
          "y": 0.2519776518656153,
          "yref": "y"
         },
         {
          "align": "center",
          "ax": 20,
          "ay": -30,
          "font": {
           "color": "darkgrey",
           "size": 12
          },
          "showarrow": false,
          "text": "mRNA cis splicing, via spliceosome",
          "x": -0.09318583606294947,
          "xref": "x",
          "y": 0.23756552811854628,
          "yref": "y"
         },
         {
          "align": "center",
          "ax": 20,
          "ay": -30,
          "font": {
           "color": "darkgrey",
           "size": 12
          },
          "showarrow": false,
          "text": "RNA export from nucleus",
          "x": -0.02480415401820159,
          "xref": "x",
          "y": 0.24660951503477013,
          "yref": "y"
         },
         {
          "align": "center",
          "ax": 20,
          "ay": -30,
          "font": {
           "color": "darkgrey",
           "size": 12
          },
          "showarrow": false,
          "text": "negative regulation of mRNA splicing, via spliceosome",
          "x": -0.037092498847282884,
          "xref": "x",
          "y": 0.20785624701275085,
          "yref": "y"
         },
         {
          "align": "center",
          "ax": 20,
          "ay": -30,
          "font": {
           "color": "darkgrey",
           "size": 12
          },
          "showarrow": false,
          "text": "mRNA export from nucleus",
          "x": -0.03757741827981682,
          "xref": "x",
          "y": 0.20613829639305728,
          "yref": "y"
         },
         {
          "align": "center",
          "ax": 20,
          "ay": -30,
          "font": {
           "color": "darkgrey",
           "size": 12
          },
          "showarrow": false,
          "text": "regulation of alternative mRNA splicing, via spliceosome",
          "x": -0.06507616542597323,
          "xref": "x",
          "y": 0.19332333861611423,
          "yref": "y"
         },
         {
          "align": "center",
          "ax": 20,
          "ay": -30,
          "font": {
           "color": "darkgrey",
           "size": 12
          },
          "showarrow": false,
          "text": "mRNA 3'-end processing",
          "x": -0.022030732682856234,
          "xref": "x",
          "y": 0.19830426491279407,
          "yref": "y"
         }
        ],
        "height": 600,
        "hovermode": "closest",
        "legend": {
         "orientation": "h",
         "x": 1,
         "xanchor": "right",
         "y": 1,
         "yanchor": "bottom"
        },
        "template": {
         "data": {
          "bar": [
           {
            "error_x": {
             "color": "#2a3f5f"
            },
            "error_y": {
             "color": "#2a3f5f"
            },
            "marker": {
             "line": {
              "color": "white",
              "width": 0.5
             }
            },
            "type": "bar"
           }
          ],
          "barpolar": [
           {
            "marker": {
             "line": {
              "color": "white",
              "width": 0.5
             }
            },
            "type": "barpolar"
           }
          ],
          "carpet": [
           {
            "aaxis": {
             "endlinecolor": "#2a3f5f",
             "gridcolor": "#C8D4E3",
             "linecolor": "#C8D4E3",
             "minorgridcolor": "#C8D4E3",
             "startlinecolor": "#2a3f5f"
            },
            "baxis": {
             "endlinecolor": "#2a3f5f",
             "gridcolor": "#C8D4E3",
             "linecolor": "#C8D4E3",
             "minorgridcolor": "#C8D4E3",
             "startlinecolor": "#2a3f5f"
            },
            "type": "carpet"
           }
          ],
          "choropleth": [
           {
            "colorbar": {
             "outlinewidth": 0,
             "ticks": ""
            },
            "type": "choropleth"
           }
          ],
          "contour": [
           {
            "colorbar": {
             "outlinewidth": 0,
             "ticks": ""
            },
            "colorscale": [
             [
              0,
              "#0d0887"
             ],
             [
              0.1111111111111111,
              "#46039f"
             ],
             [
              0.2222222222222222,
              "#7201a8"
             ],
             [
              0.3333333333333333,
              "#9c179e"
             ],
             [
              0.4444444444444444,
              "#bd3786"
             ],
             [
              0.5555555555555556,
              "#d8576b"
             ],
             [
              0.6666666666666666,
              "#ed7953"
             ],
             [
              0.7777777777777778,
              "#fb9f3a"
             ],
             [
              0.8888888888888888,
              "#fdca26"
             ],
             [
              1,
              "#f0f921"
             ]
            ],
            "type": "contour"
           }
          ],
          "contourcarpet": [
           {
            "colorbar": {
             "outlinewidth": 0,
             "ticks": ""
            },
            "type": "contourcarpet"
           }
          ],
          "heatmap": [
           {
            "colorbar": {
             "outlinewidth": 0,
             "ticks": ""
            },
            "colorscale": [
             [
              0,
              "#0d0887"
             ],
             [
              0.1111111111111111,
              "#46039f"
             ],
             [
              0.2222222222222222,
              "#7201a8"
             ],
             [
              0.3333333333333333,
              "#9c179e"
             ],
             [
              0.4444444444444444,
              "#bd3786"
             ],
             [
              0.5555555555555556,
              "#d8576b"
             ],
             [
              0.6666666666666666,
              "#ed7953"
             ],
             [
              0.7777777777777778,
              "#fb9f3a"
             ],
             [
              0.8888888888888888,
              "#fdca26"
             ],
             [
              1,
              "#f0f921"
             ]
            ],
            "type": "heatmap"
           }
          ],
          "heatmapgl": [
           {
            "colorbar": {
             "outlinewidth": 0,
             "ticks": ""
            },
            "colorscale": [
             [
              0,
              "#0d0887"
             ],
             [
              0.1111111111111111,
              "#46039f"
             ],
             [
              0.2222222222222222,
              "#7201a8"
             ],
             [
              0.3333333333333333,
              "#9c179e"
             ],
             [
              0.4444444444444444,
              "#bd3786"
             ],
             [
              0.5555555555555556,
              "#d8576b"
             ],
             [
              0.6666666666666666,
              "#ed7953"
             ],
             [
              0.7777777777777778,
              "#fb9f3a"
             ],
             [
              0.8888888888888888,
              "#fdca26"
             ],
             [
              1,
              "#f0f921"
             ]
            ],
            "type": "heatmapgl"
           }
          ],
          "histogram": [
           {
            "marker": {
             "colorbar": {
              "outlinewidth": 0,
              "ticks": ""
             }
            },
            "type": "histogram"
           }
          ],
          "histogram2d": [
           {
            "colorbar": {
             "outlinewidth": 0,
             "ticks": ""
            },
            "colorscale": [
             [
              0,
              "#0d0887"
             ],
             [
              0.1111111111111111,
              "#46039f"
             ],
             [
              0.2222222222222222,
              "#7201a8"
             ],
             [
              0.3333333333333333,
              "#9c179e"
             ],
             [
              0.4444444444444444,
              "#bd3786"
             ],
             [
              0.5555555555555556,
              "#d8576b"
             ],
             [
              0.6666666666666666,
              "#ed7953"
             ],
             [
              0.7777777777777778,
              "#fb9f3a"
             ],
             [
              0.8888888888888888,
              "#fdca26"
             ],
             [
              1,
              "#f0f921"
             ]
            ],
            "type": "histogram2d"
           }
          ],
          "histogram2dcontour": [
           {
            "colorbar": {
             "outlinewidth": 0,
             "ticks": ""
            },
            "colorscale": [
             [
              0,
              "#0d0887"
             ],
             [
              0.1111111111111111,
              "#46039f"
             ],
             [
              0.2222222222222222,
              "#7201a8"
             ],
             [
              0.3333333333333333,
              "#9c179e"
             ],
             [
              0.4444444444444444,
              "#bd3786"
             ],
             [
              0.5555555555555556,
              "#d8576b"
             ],
             [
              0.6666666666666666,
              "#ed7953"
             ],
             [
              0.7777777777777778,
              "#fb9f3a"
             ],
             [
              0.8888888888888888,
              "#fdca26"
             ],
             [
              1,
              "#f0f921"
             ]
            ],
            "type": "histogram2dcontour"
           }
          ],
          "mesh3d": [
           {
            "colorbar": {
             "outlinewidth": 0,
             "ticks": ""
            },
            "type": "mesh3d"
           }
          ],
          "parcoords": [
           {
            "line": {
             "colorbar": {
              "outlinewidth": 0,
              "ticks": ""
             }
            },
            "type": "parcoords"
           }
          ],
          "pie": [
           {
            "automargin": true,
            "type": "pie"
           }
          ],
          "scatter": [
           {
            "marker": {
             "colorbar": {
              "outlinewidth": 0,
              "ticks": ""
             }
            },
            "type": "scatter"
           }
          ],
          "scatter3d": [
           {
            "line": {
             "colorbar": {
              "outlinewidth": 0,
              "ticks": ""
             }
            },
            "marker": {
             "colorbar": {
              "outlinewidth": 0,
              "ticks": ""
             }
            },
            "type": "scatter3d"
           }
          ],
          "scattercarpet": [
           {
            "marker": {
             "colorbar": {
              "outlinewidth": 0,
              "ticks": ""
             }
            },
            "type": "scattercarpet"
           }
          ],
          "scattergeo": [
           {
            "marker": {
             "colorbar": {
              "outlinewidth": 0,
              "ticks": ""
             }
            },
            "type": "scattergeo"
           }
          ],
          "scattergl": [
           {
            "marker": {
             "colorbar": {
              "outlinewidth": 0,
              "ticks": ""
             }
            },
            "type": "scattergl"
           }
          ],
          "scattermapbox": [
           {
            "marker": {
             "colorbar": {
              "outlinewidth": 0,
              "ticks": ""
             }
            },
            "type": "scattermapbox"
           }
          ],
          "scatterpolar": [
           {
            "marker": {
             "colorbar": {
              "outlinewidth": 0,
              "ticks": ""
             }
            },
            "type": "scatterpolar"
           }
          ],
          "scatterpolargl": [
           {
            "marker": {
             "colorbar": {
              "outlinewidth": 0,
              "ticks": ""
             }
            },
            "type": "scatterpolargl"
           }
          ],
          "scatterternary": [
           {
            "marker": {
             "colorbar": {
              "outlinewidth": 0,
              "ticks": ""
             }
            },
            "type": "scatterternary"
           }
          ],
          "surface": [
           {
            "colorbar": {
             "outlinewidth": 0,
             "ticks": ""
            },
            "colorscale": [
             [
              0,
              "#0d0887"
             ],
             [
              0.1111111111111111,
              "#46039f"
             ],
             [
              0.2222222222222222,
              "#7201a8"
             ],
             [
              0.3333333333333333,
              "#9c179e"
             ],
             [
              0.4444444444444444,
              "#bd3786"
             ],
             [
              0.5555555555555556,
              "#d8576b"
             ],
             [
              0.6666666666666666,
              "#ed7953"
             ],
             [
              0.7777777777777778,
              "#fb9f3a"
             ],
             [
              0.8888888888888888,
              "#fdca26"
             ],
             [
              1,
              "#f0f921"
             ]
            ],
            "type": "surface"
           }
          ],
          "table": [
           {
            "cells": {
             "fill": {
              "color": "#EBF0F8"
             },
             "line": {
              "color": "white"
             }
            },
            "header": {
             "fill": {
              "color": "#C8D4E3"
             },
             "line": {
              "color": "white"
             }
            },
            "type": "table"
           }
          ]
         },
         "layout": {
          "annotationdefaults": {
           "arrowcolor": "#2a3f5f",
           "arrowhead": 0,
           "arrowwidth": 1
          },
          "coloraxis": {
           "colorbar": {
            "outlinewidth": 0,
            "ticks": ""
           }
          },
          "colorscale": {
           "diverging": [
            [
             0,
             "#8e0152"
            ],
            [
             0.1,
             "#c51b7d"
            ],
            [
             0.2,
             "#de77ae"
            ],
            [
             0.3,
             "#f1b6da"
            ],
            [
             0.4,
             "#fde0ef"
            ],
            [
             0.5,
             "#f7f7f7"
            ],
            [
             0.6,
             "#e6f5d0"
            ],
            [
             0.7,
             "#b8e186"
            ],
            [
             0.8,
             "#7fbc41"
            ],
            [
             0.9,
             "#4d9221"
            ],
            [
             1,
             "#276419"
            ]
           ],
           "sequential": [
            [
             0,
             "#0d0887"
            ],
            [
             0.1111111111111111,
             "#46039f"
            ],
            [
             0.2222222222222222,
             "#7201a8"
            ],
            [
             0.3333333333333333,
             "#9c179e"
            ],
            [
             0.4444444444444444,
             "#bd3786"
            ],
            [
             0.5555555555555556,
             "#d8576b"
            ],
            [
             0.6666666666666666,
             "#ed7953"
            ],
            [
             0.7777777777777778,
             "#fb9f3a"
            ],
            [
             0.8888888888888888,
             "#fdca26"
            ],
            [
             1,
             "#f0f921"
            ]
           ],
           "sequentialminus": [
            [
             0,
             "#0d0887"
            ],
            [
             0.1111111111111111,
             "#46039f"
            ],
            [
             0.2222222222222222,
             "#7201a8"
            ],
            [
             0.3333333333333333,
             "#9c179e"
            ],
            [
             0.4444444444444444,
             "#bd3786"
            ],
            [
             0.5555555555555556,
             "#d8576b"
            ],
            [
             0.6666666666666666,
             "#ed7953"
            ],
            [
             0.7777777777777778,
             "#fb9f3a"
            ],
            [
             0.8888888888888888,
             "#fdca26"
            ],
            [
             1,
             "#f0f921"
            ]
           ]
          },
          "colorway": [
           "#636efa",
           "#EF553B",
           "#00cc96",
           "#ab63fa",
           "#FFA15A",
           "#19d3f3",
           "#FF6692",
           "#B6E880",
           "#FF97FF",
           "#FECB52"
          ],
          "font": {
           "color": "#2a3f5f"
          },
          "geo": {
           "bgcolor": "white",
           "lakecolor": "white",
           "landcolor": "white",
           "showlakes": true,
           "showland": true,
           "subunitcolor": "#C8D4E3"
          },
          "hoverlabel": {
           "align": "left"
          },
          "hovermode": "closest",
          "mapbox": {
           "style": "light"
          },
          "paper_bgcolor": "white",
          "plot_bgcolor": "white",
          "polar": {
           "angularaxis": {
            "gridcolor": "#EBF0F8",
            "linecolor": "#EBF0F8",
            "ticks": ""
           },
           "bgcolor": "white",
           "radialaxis": {
            "gridcolor": "#EBF0F8",
            "linecolor": "#EBF0F8",
            "ticks": ""
           }
          },
          "scene": {
           "xaxis": {
            "backgroundcolor": "white",
            "gridcolor": "#DFE8F3",
            "gridwidth": 2,
            "linecolor": "#EBF0F8",
            "showbackground": true,
            "ticks": "",
            "zerolinecolor": "#EBF0F8"
           },
           "yaxis": {
            "backgroundcolor": "white",
            "gridcolor": "#DFE8F3",
            "gridwidth": 2,
            "linecolor": "#EBF0F8",
            "showbackground": true,
            "ticks": "",
            "zerolinecolor": "#EBF0F8"
           },
           "zaxis": {
            "backgroundcolor": "white",
            "gridcolor": "#DFE8F3",
            "gridwidth": 2,
            "linecolor": "#EBF0F8",
            "showbackground": true,
            "ticks": "",
            "zerolinecolor": "#EBF0F8"
           }
          },
          "shapedefaults": {
           "line": {
            "color": "#2a3f5f"
           }
          },
          "ternary": {
           "aaxis": {
            "gridcolor": "#DFE8F3",
            "linecolor": "#A2B1C6",
            "ticks": ""
           },
           "baxis": {
            "gridcolor": "#DFE8F3",
            "linecolor": "#A2B1C6",
            "ticks": ""
           },
           "bgcolor": "white",
           "caxis": {
            "gridcolor": "#DFE8F3",
            "linecolor": "#A2B1C6",
            "ticks": ""
           }
          },
          "title": {
           "x": 0.05
          },
          "xaxis": {
           "automargin": true,
           "gridcolor": "#EBF0F8",
           "linecolor": "#EBF0F8",
           "ticks": "",
           "title": {
            "standoff": 15
           },
           "zerolinecolor": "#EBF0F8",
           "zerolinewidth": 2
          },
          "yaxis": {
           "automargin": true,
           "gridcolor": "#EBF0F8",
           "linecolor": "#EBF0F8",
           "ticks": "",
           "title": {
            "standoff": 15
           },
           "zerolinecolor": "#EBF0F8",
           "zerolinewidth": 2
          }
         }
        },
        "title": {
         "text": "PCA plot groups"
        },
        "width": 700,
        "xaxis": {
         "title": {
          "text": "PC1 (0.64)"
         }
        },
        "yaxis": {
         "title": {
          "text": "PC2 (0.27)"
         }
        }
       }
      },
      "text/html": [
       "<div>\n",
       "        \n",
       "        \n",
       "            <div id=\"2d408507-4afd-4c20-bcee-ab9ac4240254\" class=\"plotly-graph-div\" style=\"height:600px; width:700px;\"></div>\n",
       "            <script type=\"text/javascript\">\n",
       "                require([\"plotly\"], function(Plotly) {\n",
       "                    window.PLOTLYENV=window.PLOTLYENV || {};\n",
       "                    \n",
       "                if (document.getElementById(\"2d408507-4afd-4c20-bcee-ab9ac4240254\")) {\n",
       "                    Plotly.newPlot(\n",
       "                        '2d408507-4afd-4c20-bcee-ab9ac4240254',\n",
       "                        [{\"hovertemplate\": \"group=FLAG<br>x=%{x}<br>y=%{y}<extra></extra>\", \"legendgroup\": \"FLAG\", \"marker\": {\"color\": \"#636efa\", \"line\": {\"color\": \"DarkSlateGrey\", \"width\": 0.5}, \"opacity\": 0.7, \"size\": 14, \"symbol\": \"circle\"}, \"mode\": \"markers\", \"name\": \"FLAG\", \"orientation\": \"v\", \"showlegend\": true, \"type\": \"scatter\", \"x\": [-0.3330919704984726, -0.35953779822882775, -0.2744498431945557], \"xaxis\": \"x\", \"y\": [-0.19220521449820888, 0.3411436731538641, -0.22940334152580502], \"yaxis\": \"y\"}, {\"hovertemplate\": \"group=FLAG+CT45<br>x=%{x}<br>y=%{y}<extra></extra>\", \"legendgroup\": \"FLAG+CT45\", \"marker\": {\"color\": \"#EF553B\", \"line\": {\"color\": \"DarkSlateGrey\", \"width\": 0.5}, \"opacity\": 0.7, \"size\": 14, \"symbol\": \"circle\"}, \"mode\": \"markers\", \"name\": \"FLAG+CT45\", \"orientation\": \"v\", \"showlegend\": true, \"type\": \"scatter\", \"x\": [0.3709750742641108, 0.22335534179234914, 0.37274919586539595], \"xaxis\": \"x\", \"y\": [-0.11149377637871664, 0.23105839084501462, -0.03909973159614819], \"yaxis\": \"y\"}, {\"marker\": {\"color\": \"darkgrey\", \"opacity\": 0.9, \"showscale\": false, \"size\": 3, \"symbol\": 1}, \"mode\": \"markers+lines\", \"name\": \"mitochondrial translation\", \"showlegend\": false, \"text\": \"mitochondrial translation loading: 0.45\", \"type\": \"scattergl\", \"x\": [0, 0.43998350701872924], \"y\": [0, -0.08442465913116559]}, {\"marker\": {\"color\": \"darkgrey\", \"opacity\": 0.9, \"showscale\": false, \"size\": 3, \"symbol\": 1}, \"mode\": \"markers+lines\", \"name\": \"mitochondrial translational termination\", \"showlegend\": false, \"text\": \"mitochondrial translational termination loading: 0.36\", \"type\": \"scattergl\", \"x\": [0, 0.3510140535571755], \"y\": [0, -0.06036285790145909]}, {\"marker\": {\"color\": \"darkgrey\", \"opacity\": 0.9, \"showscale\": false, \"size\": 3, \"symbol\": 1}, \"mode\": \"markers+lines\", \"name\": \"mitochondrial translational elongation\", \"showlegend\": false, \"text\": \"mitochondrial translational elongation loading: 0.34\", \"type\": \"scattergl\", \"x\": [0, 0.33065419724813666], \"y\": [0, -0.07691562945053841]}, {\"marker\": {\"color\": \"darkgrey\", \"opacity\": 0.9, \"showscale\": false, \"size\": 3, \"symbol\": 1}, \"mode\": \"markers+lines\", \"name\": \"protein dephosphorylation\", \"showlegend\": false, \"text\": \"protein dephosphorylation loading: 0.32\", \"type\": \"scattergl\", \"x\": [0, 0.31381985219826086], \"y\": [0, -0.03018642795828019]}, {\"marker\": {\"color\": \"darkgrey\", \"opacity\": 0.9, \"showscale\": false, \"size\": 3, \"symbol\": 1}, \"mode\": \"markers+lines\", \"name\": \"ribosomal small subunit assembly\", \"showlegend\": false, \"text\": \"ribosomal small subunit assembly loading: 0.26\", \"type\": \"scattergl\", \"x\": [0, 0.2575054156692804], \"y\": [0, 0.010255608640670474]}, {\"marker\": {\"color\": \"darkgrey\", \"opacity\": 0.9, \"showscale\": false, \"size\": 3, \"symbol\": 1}, \"mode\": \"markers+lines\", \"name\": \"cell adhesion\", \"showlegend\": false, \"text\": \"cell adhesion loading: 0.25\", \"type\": \"scattergl\", \"x\": [0, 0.21635744655356445], \"y\": [0, 0.12678788114049233]}, {\"marker\": {\"color\": \"darkgrey\", \"opacity\": 0.9, \"showscale\": false, \"size\": 3, \"symbol\": 1}, \"mode\": \"markers+lines\", \"name\": \"Fc-gamma receptor signaling pathway involved in phagocytosis\", \"showlegend\": false, \"text\": \"Fc-gamma receptor signaling pathway involved in phagocytosis loading: 0.24\", \"type\": \"scattergl\", \"x\": [0, -0.062077172989520236], \"y\": [0, -0.23465872986302264]}, {\"marker\": {\"color\": \"darkgrey\", \"opacity\": 0.9, \"showscale\": false, \"size\": 3, \"symbol\": 1}, \"mode\": \"markers+lines\", \"name\": \"mRNA splice site selection\", \"showlegend\": false, \"text\": \"mRNA splice site selection loading: 0.23\", \"type\": \"scattergl\", \"x\": [0, -0.07056118204137006], \"y\": [0, 0.22083530187292535]}, {\"marker\": {\"color\": \"darkgrey\", \"opacity\": 0.9, \"showscale\": false, \"size\": 3, \"symbol\": 1}, \"mode\": \"markers+lines\", \"name\": \"regulation of RNA metabolic process\", \"showlegend\": false, \"text\": \"regulation of RNA metabolic process loading: 0.22\", \"type\": \"scattergl\", \"x\": [0, -0.0506126058969587], \"y\": [0, 0.2191110016222742]}, {\"marker\": {\"color\": \"darkgrey\", \"opacity\": 0.9, \"showscale\": false, \"size\": 3, \"symbol\": 1}, \"mode\": \"markers+lines\", \"name\": \"mRNA cis splicing, via spliceosome\", \"showlegend\": false, \"text\": \"mRNA cis splicing, via spliceosome loading: 0.22\", \"type\": \"scattergl\", \"x\": [0, -0.08103116179386911], \"y\": [0, 0.20657872010308373]}, {\"marker\": {\"color\": \"darkgrey\", \"opacity\": 0.9, \"showscale\": false, \"size\": 3, \"symbol\": 1}, \"mode\": \"markers+lines\", \"name\": \"RNA export from nucleus\", \"showlegend\": false, \"text\": \"RNA export from nucleus loading: 0.22\", \"type\": \"scattergl\", \"x\": [0, -0.021568829581044863], \"y\": [0, 0.21444305655197404]}, {\"marker\": {\"color\": \"darkgrey\", \"opacity\": 0.9, \"showscale\": false, \"size\": 3, \"symbol\": 1}, \"mode\": \"markers+lines\", \"name\": \"negative regulation of mRNA splicing, via spliceosome\", \"showlegend\": false, \"text\": \"negative regulation of mRNA splicing, via spliceosome loading: 0.18\", \"type\": \"scattergl\", \"x\": [0, -0.03225434682372425], \"y\": [0, 0.18074456261978336]}, {\"marker\": {\"color\": \"darkgrey\", \"opacity\": 0.9, \"showscale\": false, \"size\": 3, \"symbol\": 1}, \"mode\": \"markers+lines\", \"name\": \"mRNA export from nucleus\", \"showlegend\": false, \"text\": \"mRNA export from nucleus loading: 0.18\", \"type\": \"scattergl\", \"x\": [0, -0.032676015895492884], \"y\": [0, 0.179250692515702]}, {\"marker\": {\"color\": \"darkgrey\", \"opacity\": 0.9, \"showscale\": false, \"size\": 3, \"symbol\": 1}, \"mode\": \"markers+lines\", \"name\": \"regulation of alternative mRNA splicing, via spliceosome\", \"showlegend\": false, \"text\": \"regulation of alternative mRNA splicing, via spliceosome loading: 0.18\", \"type\": \"scattergl\", \"x\": [0, -0.0565879699356289], \"y\": [0, 0.1681072509705341]}, {\"marker\": {\"color\": \"darkgrey\", \"opacity\": 0.9, \"showscale\": false, \"size\": 3, \"symbol\": 1}, \"mode\": \"markers+lines\", \"name\": \"mRNA 3'-end processing\", \"showlegend\": false, \"text\": \"mRNA 3'-end processing loading: 0.17\", \"type\": \"scattergl\", \"x\": [0, -0.019157158854657595], \"y\": [0, 0.1724384912285166]}],\n",
       "                        {\"annotations\": [{\"align\": \"center\", \"ax\": 20, \"ay\": -30, \"font\": {\"color\": \"darkgrey\", \"size\": 12}, \"showarrow\": false, \"text\": \"mitochondrial translation\", \"x\": 0.5059810330715386, \"xref\": \"x\", \"y\": -0.09708835800084042, \"yref\": \"y\"}, {\"align\": \"center\", \"ax\": 20, \"ay\": -30, \"font\": {\"color\": \"darkgrey\", \"size\": 12}, \"showarrow\": false, \"text\": \"mitochondrial translational termination\", \"x\": 0.4036661615907518, \"xref\": \"x\", \"y\": -0.06941728658667795, \"yref\": \"y\"}, {\"align\": \"center\", \"ax\": 20, \"ay\": -30, \"font\": {\"color\": \"darkgrey\", \"size\": 12}, \"showarrow\": false, \"text\": \"mitochondrial translational elongation\", \"x\": 0.38025232683535715, \"xref\": \"x\", \"y\": -0.08845297386811916, \"yref\": \"y\"}, {\"align\": \"center\", \"ax\": 20, \"ay\": -30, \"font\": {\"color\": \"darkgrey\", \"size\": 12}, \"showarrow\": false, \"text\": \"protein dephosphorylation\", \"x\": 0.360892830028, \"xref\": \"x\", \"y\": -0.03471439215202222, \"yref\": \"y\"}, {\"align\": \"center\", \"ax\": 20, \"ay\": -30, \"font\": {\"color\": \"darkgrey\", \"size\": 12}, \"showarrow\": false, \"text\": \"ribosomal small subunit assembly\", \"x\": 0.29613122801967245, \"xref\": \"x\", \"y\": 0.011793949936771044, \"yref\": \"y\"}, {\"align\": \"center\", \"ax\": 20, \"ay\": -30, \"font\": {\"color\": \"darkgrey\", \"size\": 12}, \"showarrow\": false, \"text\": \"cell adhesion\", \"x\": 0.2488110635365991, \"xref\": \"x\", \"y\": 0.14580606331156618, \"yref\": \"y\"}, {\"align\": \"center\", \"ax\": 20, \"ay\": -30, \"font\": {\"color\": \"darkgrey\", \"size\": 12}, \"showarrow\": false, \"text\": \"Fc-gamma receptor signaling pathway involved in phagocytosis\", \"x\": -0.07138874893794826, \"xref\": \"x\", \"y\": -0.269857539342476, \"yref\": \"y\"}, {\"align\": \"center\", \"ax\": 20, \"ay\": -30, \"font\": {\"color\": \"darkgrey\", \"size\": 12}, \"showarrow\": false, \"text\": \"mRNA splice site selection\", \"x\": -0.08114535934757557, \"xref\": \"x\", \"y\": 0.25396059715386415, \"yref\": \"y\"}, {\"align\": \"center\", \"ax\": 20, \"ay\": -30, \"font\": {\"color\": \"darkgrey\", \"size\": 12}, \"showarrow\": false, \"text\": \"regulation of RNA metabolic process\", \"x\": -0.0582044967815025, \"xref\": \"x\", \"y\": 0.2519776518656153, \"yref\": \"y\"}, {\"align\": \"center\", \"ax\": 20, \"ay\": -30, \"font\": {\"color\": \"darkgrey\", \"size\": 12}, \"showarrow\": false, \"text\": \"mRNA cis splicing, via spliceosome\", \"x\": -0.09318583606294947, \"xref\": \"x\", \"y\": 0.23756552811854628, \"yref\": \"y\"}, {\"align\": \"center\", \"ax\": 20, \"ay\": -30, \"font\": {\"color\": \"darkgrey\", \"size\": 12}, \"showarrow\": false, \"text\": \"RNA export from nucleus\", \"x\": -0.02480415401820159, \"xref\": \"x\", \"y\": 0.24660951503477013, \"yref\": \"y\"}, {\"align\": \"center\", \"ax\": 20, \"ay\": -30, \"font\": {\"color\": \"darkgrey\", \"size\": 12}, \"showarrow\": false, \"text\": \"negative regulation of mRNA splicing, via spliceosome\", \"x\": -0.037092498847282884, \"xref\": \"x\", \"y\": 0.20785624701275085, \"yref\": \"y\"}, {\"align\": \"center\", \"ax\": 20, \"ay\": -30, \"font\": {\"color\": \"darkgrey\", \"size\": 12}, \"showarrow\": false, \"text\": \"mRNA export from nucleus\", \"x\": -0.03757741827981682, \"xref\": \"x\", \"y\": 0.20613829639305728, \"yref\": \"y\"}, {\"align\": \"center\", \"ax\": 20, \"ay\": -30, \"font\": {\"color\": \"darkgrey\", \"size\": 12}, \"showarrow\": false, \"text\": \"regulation of alternative mRNA splicing, via spliceosome\", \"x\": -0.06507616542597323, \"xref\": \"x\", \"y\": 0.19332333861611423, \"yref\": \"y\"}, {\"align\": \"center\", \"ax\": 20, \"ay\": -30, \"font\": {\"color\": \"darkgrey\", \"size\": 12}, \"showarrow\": false, \"text\": \"mRNA 3'-end processing\", \"x\": -0.022030732682856234, \"xref\": \"x\", \"y\": 0.19830426491279407, \"yref\": \"y\"}], \"height\": 600, \"hovermode\": \"closest\", \"legend\": {\"orientation\": \"h\", \"x\": 1, \"xanchor\": \"right\", \"y\": 1.0, \"yanchor\": \"bottom\"}, \"template\": {\"data\": {\"bar\": [{\"error_x\": {\"color\": \"#2a3f5f\"}, \"error_y\": {\"color\": \"#2a3f5f\"}, \"marker\": {\"line\": {\"color\": \"white\", \"width\": 0.5}}, \"type\": \"bar\"}], \"barpolar\": [{\"marker\": {\"line\": {\"color\": \"white\", \"width\": 0.5}}, \"type\": \"barpolar\"}], \"carpet\": [{\"aaxis\": {\"endlinecolor\": \"#2a3f5f\", \"gridcolor\": \"#C8D4E3\", \"linecolor\": \"#C8D4E3\", \"minorgridcolor\": \"#C8D4E3\", \"startlinecolor\": \"#2a3f5f\"}, \"baxis\": {\"endlinecolor\": \"#2a3f5f\", \"gridcolor\": \"#C8D4E3\", \"linecolor\": \"#C8D4E3\", \"minorgridcolor\": \"#C8D4E3\", \"startlinecolor\": \"#2a3f5f\"}, \"type\": \"carpet\"}], \"choropleth\": [{\"colorbar\": {\"outlinewidth\": 0, \"ticks\": \"\"}, \"type\": \"choropleth\"}], \"contour\": [{\"colorbar\": {\"outlinewidth\": 0, \"ticks\": \"\"}, \"colorscale\": [[0.0, \"#0d0887\"], [0.1111111111111111, \"#46039f\"], [0.2222222222222222, \"#7201a8\"], [0.3333333333333333, \"#9c179e\"], [0.4444444444444444, \"#bd3786\"], [0.5555555555555556, \"#d8576b\"], [0.6666666666666666, \"#ed7953\"], [0.7777777777777778, \"#fb9f3a\"], [0.8888888888888888, \"#fdca26\"], [1.0, \"#f0f921\"]], \"type\": \"contour\"}], \"contourcarpet\": [{\"colorbar\": {\"outlinewidth\": 0, \"ticks\": \"\"}, \"type\": \"contourcarpet\"}], \"heatmap\": [{\"colorbar\": {\"outlinewidth\": 0, \"ticks\": \"\"}, \"colorscale\": [[0.0, \"#0d0887\"], [0.1111111111111111, \"#46039f\"], [0.2222222222222222, \"#7201a8\"], [0.3333333333333333, \"#9c179e\"], [0.4444444444444444, \"#bd3786\"], [0.5555555555555556, \"#d8576b\"], [0.6666666666666666, \"#ed7953\"], [0.7777777777777778, \"#fb9f3a\"], [0.8888888888888888, \"#fdca26\"], [1.0, \"#f0f921\"]], \"type\": \"heatmap\"}], \"heatmapgl\": [{\"colorbar\": {\"outlinewidth\": 0, \"ticks\": \"\"}, \"colorscale\": [[0.0, \"#0d0887\"], [0.1111111111111111, \"#46039f\"], [0.2222222222222222, \"#7201a8\"], [0.3333333333333333, \"#9c179e\"], [0.4444444444444444, \"#bd3786\"], [0.5555555555555556, \"#d8576b\"], [0.6666666666666666, \"#ed7953\"], [0.7777777777777778, \"#fb9f3a\"], [0.8888888888888888, \"#fdca26\"], [1.0, \"#f0f921\"]], \"type\": \"heatmapgl\"}], \"histogram\": [{\"marker\": {\"colorbar\": {\"outlinewidth\": 0, \"ticks\": \"\"}}, \"type\": \"histogram\"}], \"histogram2d\": [{\"colorbar\": {\"outlinewidth\": 0, \"ticks\": \"\"}, \"colorscale\": [[0.0, \"#0d0887\"], [0.1111111111111111, \"#46039f\"], [0.2222222222222222, \"#7201a8\"], [0.3333333333333333, \"#9c179e\"], [0.4444444444444444, \"#bd3786\"], [0.5555555555555556, \"#d8576b\"], [0.6666666666666666, \"#ed7953\"], [0.7777777777777778, \"#fb9f3a\"], [0.8888888888888888, \"#fdca26\"], [1.0, \"#f0f921\"]], \"type\": \"histogram2d\"}], \"histogram2dcontour\": [{\"colorbar\": {\"outlinewidth\": 0, \"ticks\": \"\"}, \"colorscale\": [[0.0, \"#0d0887\"], [0.1111111111111111, \"#46039f\"], [0.2222222222222222, \"#7201a8\"], [0.3333333333333333, \"#9c179e\"], [0.4444444444444444, \"#bd3786\"], [0.5555555555555556, \"#d8576b\"], [0.6666666666666666, \"#ed7953\"], [0.7777777777777778, \"#fb9f3a\"], [0.8888888888888888, \"#fdca26\"], [1.0, \"#f0f921\"]], \"type\": \"histogram2dcontour\"}], \"mesh3d\": [{\"colorbar\": {\"outlinewidth\": 0, \"ticks\": \"\"}, \"type\": \"mesh3d\"}], \"parcoords\": [{\"line\": {\"colorbar\": {\"outlinewidth\": 0, \"ticks\": \"\"}}, \"type\": \"parcoords\"}], \"pie\": [{\"automargin\": true, \"type\": \"pie\"}], \"scatter\": [{\"marker\": {\"colorbar\": {\"outlinewidth\": 0, \"ticks\": \"\"}}, \"type\": \"scatter\"}], \"scatter3d\": [{\"line\": {\"colorbar\": {\"outlinewidth\": 0, \"ticks\": \"\"}}, \"marker\": {\"colorbar\": {\"outlinewidth\": 0, \"ticks\": \"\"}}, \"type\": \"scatter3d\"}], \"scattercarpet\": [{\"marker\": {\"colorbar\": {\"outlinewidth\": 0, \"ticks\": \"\"}}, \"type\": \"scattercarpet\"}], \"scattergeo\": [{\"marker\": {\"colorbar\": {\"outlinewidth\": 0, \"ticks\": \"\"}}, \"type\": \"scattergeo\"}], \"scattergl\": [{\"marker\": {\"colorbar\": {\"outlinewidth\": 0, \"ticks\": \"\"}}, \"type\": \"scattergl\"}], \"scattermapbox\": [{\"marker\": {\"colorbar\": {\"outlinewidth\": 0, \"ticks\": \"\"}}, \"type\": \"scattermapbox\"}], \"scatterpolar\": [{\"marker\": {\"colorbar\": {\"outlinewidth\": 0, \"ticks\": \"\"}}, \"type\": \"scatterpolar\"}], \"scatterpolargl\": [{\"marker\": {\"colorbar\": {\"outlinewidth\": 0, \"ticks\": \"\"}}, \"type\": \"scatterpolargl\"}], \"scatterternary\": [{\"marker\": {\"colorbar\": {\"outlinewidth\": 0, \"ticks\": \"\"}}, \"type\": \"scatterternary\"}], \"surface\": [{\"colorbar\": {\"outlinewidth\": 0, \"ticks\": \"\"}, \"colorscale\": [[0.0, \"#0d0887\"], [0.1111111111111111, \"#46039f\"], [0.2222222222222222, \"#7201a8\"], [0.3333333333333333, \"#9c179e\"], [0.4444444444444444, \"#bd3786\"], [0.5555555555555556, \"#d8576b\"], [0.6666666666666666, \"#ed7953\"], [0.7777777777777778, \"#fb9f3a\"], [0.8888888888888888, \"#fdca26\"], [1.0, \"#f0f921\"]], \"type\": \"surface\"}], \"table\": [{\"cells\": {\"fill\": {\"color\": \"#EBF0F8\"}, \"line\": {\"color\": \"white\"}}, \"header\": {\"fill\": {\"color\": \"#C8D4E3\"}, \"line\": {\"color\": \"white\"}}, \"type\": \"table\"}]}, \"layout\": {\"annotationdefaults\": {\"arrowcolor\": \"#2a3f5f\", \"arrowhead\": 0, \"arrowwidth\": 1}, \"coloraxis\": {\"colorbar\": {\"outlinewidth\": 0, \"ticks\": \"\"}}, \"colorscale\": {\"diverging\": [[0, \"#8e0152\"], [0.1, \"#c51b7d\"], [0.2, \"#de77ae\"], [0.3, \"#f1b6da\"], [0.4, \"#fde0ef\"], [0.5, \"#f7f7f7\"], [0.6, \"#e6f5d0\"], [0.7, \"#b8e186\"], [0.8, \"#7fbc41\"], [0.9, \"#4d9221\"], [1, \"#276419\"]], \"sequential\": [[0.0, \"#0d0887\"], [0.1111111111111111, \"#46039f\"], [0.2222222222222222, \"#7201a8\"], [0.3333333333333333, \"#9c179e\"], [0.4444444444444444, \"#bd3786\"], [0.5555555555555556, \"#d8576b\"], [0.6666666666666666, \"#ed7953\"], [0.7777777777777778, \"#fb9f3a\"], [0.8888888888888888, \"#fdca26\"], [1.0, \"#f0f921\"]], \"sequentialminus\": [[0.0, \"#0d0887\"], [0.1111111111111111, \"#46039f\"], [0.2222222222222222, \"#7201a8\"], [0.3333333333333333, \"#9c179e\"], [0.4444444444444444, \"#bd3786\"], [0.5555555555555556, \"#d8576b\"], [0.6666666666666666, \"#ed7953\"], [0.7777777777777778, \"#fb9f3a\"], [0.8888888888888888, \"#fdca26\"], [1.0, \"#f0f921\"]]}, \"colorway\": [\"#636efa\", \"#EF553B\", \"#00cc96\", \"#ab63fa\", \"#FFA15A\", \"#19d3f3\", \"#FF6692\", \"#B6E880\", \"#FF97FF\", \"#FECB52\"], \"font\": {\"color\": \"#2a3f5f\"}, \"geo\": {\"bgcolor\": \"white\", \"lakecolor\": \"white\", \"landcolor\": \"white\", \"showlakes\": true, \"showland\": true, \"subunitcolor\": \"#C8D4E3\"}, \"hoverlabel\": {\"align\": \"left\"}, \"hovermode\": \"closest\", \"mapbox\": {\"style\": \"light\"}, \"paper_bgcolor\": \"white\", \"plot_bgcolor\": \"white\", \"polar\": {\"angularaxis\": {\"gridcolor\": \"#EBF0F8\", \"linecolor\": \"#EBF0F8\", \"ticks\": \"\"}, \"bgcolor\": \"white\", \"radialaxis\": {\"gridcolor\": \"#EBF0F8\", \"linecolor\": \"#EBF0F8\", \"ticks\": \"\"}}, \"scene\": {\"xaxis\": {\"backgroundcolor\": \"white\", \"gridcolor\": \"#DFE8F3\", \"gridwidth\": 2, \"linecolor\": \"#EBF0F8\", \"showbackground\": true, \"ticks\": \"\", \"zerolinecolor\": \"#EBF0F8\"}, \"yaxis\": {\"backgroundcolor\": \"white\", \"gridcolor\": \"#DFE8F3\", \"gridwidth\": 2, \"linecolor\": \"#EBF0F8\", \"showbackground\": true, \"ticks\": \"\", \"zerolinecolor\": \"#EBF0F8\"}, \"zaxis\": {\"backgroundcolor\": \"white\", \"gridcolor\": \"#DFE8F3\", \"gridwidth\": 2, \"linecolor\": \"#EBF0F8\", \"showbackground\": true, \"ticks\": \"\", \"zerolinecolor\": \"#EBF0F8\"}}, \"shapedefaults\": {\"line\": {\"color\": \"#2a3f5f\"}}, \"ternary\": {\"aaxis\": {\"gridcolor\": \"#DFE8F3\", \"linecolor\": \"#A2B1C6\", \"ticks\": \"\"}, \"baxis\": {\"gridcolor\": \"#DFE8F3\", \"linecolor\": \"#A2B1C6\", \"ticks\": \"\"}, \"bgcolor\": \"white\", \"caxis\": {\"gridcolor\": \"#DFE8F3\", \"linecolor\": \"#A2B1C6\", \"ticks\": \"\"}}, \"title\": {\"x\": 0.05}, \"xaxis\": {\"automargin\": true, \"gridcolor\": \"#EBF0F8\", \"linecolor\": \"#EBF0F8\", \"ticks\": \"\", \"title\": {\"standoff\": 15}, \"zerolinecolor\": \"#EBF0F8\", \"zerolinewidth\": 2}, \"yaxis\": {\"automargin\": true, \"gridcolor\": \"#EBF0F8\", \"linecolor\": \"#EBF0F8\", \"ticks\": \"\", \"title\": {\"standoff\": 15}, \"zerolinecolor\": \"#EBF0F8\", \"zerolinewidth\": 2}}}, \"title\": {\"text\": \"PCA plot groups\"}, \"width\": 700, \"xaxis\": {\"title\": {\"text\": \"PC1 (0.64)\"}}, \"yaxis\": {\"title\": {\"text\": \"PC2 (0.27)\"}}},\n",
       "                        {\"responsive\": true}\n",
       "                    ).then(function(){\n",
       "                            \n",
       "var gd = document.getElementById('2d408507-4afd-4c20-bcee-ab9ac4240254');\n",
       "var x = new MutationObserver(function (mutations, observer) {{\n",
       "        var display = window.getComputedStyle(gd).display;\n",
       "        if (!display || display === 'none') {{\n",
       "            console.log([gd, 'removed!']);\n",
       "            Plotly.purge(gd);\n",
       "            observer.disconnect();\n",
       "        }}\n",
       "}});\n",
       "\n",
       "// Listen for the removal of the full notebook cells\n",
       "var notebookContainer = gd.closest('#notebook-container');\n",
       "if (notebookContainer) {{\n",
       "    x.observe(notebookContainer, {childList: true});\n",
       "}}\n",
       "\n",
       "// Listen for the clearing of the current output cell\n",
       "var outputEl = gd.closest('.output');\n",
       "if (outputEl) {{\n",
       "    x.observe(outputEl, {childList: true});\n",
       "}}\n",
       "\n",
       "                        })\n",
       "                };\n",
       "                });\n",
       "            </script>\n",
       "        </div>"
      ]
     },
     "metadata": {},
     "output_type": "display_data"
    }
   ],
   "source": [
    "args.update({\"loadings\":15, \"title\":'PCA plot groups', 'height':600, 'width':700, 'factor':1})\n",
    "plot = viz.get_pca_plot(pca_result, identifier='pca', args=args)\n",
    "iplot(plot.figure)"
   ]
  },
  {
   "cell_type": "code",
   "execution_count": 14,
   "metadata": {},
   "outputs": [],
   "source": [
    "ssgsea_result2 = analytics.run_ssgsea(processed_dataset2, annotations2, annotation_col='annotation', identifier_col='identifier', set_index=['group', 'sample','subject'], outdir=None, min_size=10, scale=False, permutations=0)"
   ]
  },
  {
   "cell_type": "code",
   "execution_count": 15,
   "metadata": {},
   "outputs": [
    {
     "data": {
      "text/html": [
       "<div>\n",
       "<style scoped>\n",
       "    .dataframe tbody tr th:only-of-type {\n",
       "        vertical-align: middle;\n",
       "    }\n",
       "\n",
       "    .dataframe tbody tr th {\n",
       "        vertical-align: top;\n",
       "    }\n",
       "\n",
       "    .dataframe thead th {\n",
       "        text-align: right;\n",
       "    }\n",
       "</style>\n",
       "<table border=\"1\" class=\"dataframe\">\n",
       "  <thead>\n",
       "    <tr style=\"text-align: right;\">\n",
       "      <th></th>\n",
       "      <th>ATP-dependent chromatin remodeling</th>\n",
       "      <th>COPII vesicle coating</th>\n",
       "      <th>DNA duplex unwinding</th>\n",
       "      <th>DNA repair</th>\n",
       "      <th>Fc-epsilon receptor signaling pathway</th>\n",
       "      <th>Fc-gamma receptor signaling pathway involved in phagocytosis</th>\n",
       "      <th>G2/M transition of mitotic cell cycle</th>\n",
       "      <th>MAPK cascade</th>\n",
       "      <th>NIK/NF-kappaB signaling</th>\n",
       "      <th>RNA export from nucleus</th>\n",
       "      <th>...</th>\n",
       "      <th>translation</th>\n",
       "      <th>translational initiation</th>\n",
       "      <th>transmembrane transport</th>\n",
       "      <th>tumor necrosis factor-mediated signaling pathway</th>\n",
       "      <th>ubiquitin-dependent protein catabolic process</th>\n",
       "      <th>viral process</th>\n",
       "      <th>viral transcription</th>\n",
       "      <th>group</th>\n",
       "      <th>sample</th>\n",
       "      <th>subject</th>\n",
       "    </tr>\n",
       "  </thead>\n",
       "  <tbody>\n",
       "    <tr>\n",
       "      <th>V5_AS921_S116</th>\n",
       "      <td>0.044262</td>\n",
       "      <td>-0.010696</td>\n",
       "      <td>0.204359</td>\n",
       "      <td>0.170231</td>\n",
       "      <td>-0.166454</td>\n",
       "      <td>0.278150</td>\n",
       "      <td>0.180737</td>\n",
       "      <td>-0.070821</td>\n",
       "      <td>-0.434774</td>\n",
       "      <td>0.058232</td>\n",
       "      <td>...</td>\n",
       "      <td>0.387313</td>\n",
       "      <td>0.381839</td>\n",
       "      <td>-0.212196</td>\n",
       "      <td>-0.191530</td>\n",
       "      <td>-0.261737</td>\n",
       "      <td>0.112756</td>\n",
       "      <td>0.417030</td>\n",
       "      <td>V5</td>\n",
       "      <td>AS921</td>\n",
       "      <td>S116</td>\n",
       "    </tr>\n",
       "    <tr>\n",
       "      <th>V5_AS922_S117</th>\n",
       "      <td>0.053901</td>\n",
       "      <td>-0.048848</td>\n",
       "      <td>0.160694</td>\n",
       "      <td>0.154869</td>\n",
       "      <td>-0.225246</td>\n",
       "      <td>0.328772</td>\n",
       "      <td>0.165380</td>\n",
       "      <td>-0.101982</td>\n",
       "      <td>-0.542500</td>\n",
       "      <td>0.041150</td>\n",
       "      <td>...</td>\n",
       "      <td>0.380391</td>\n",
       "      <td>0.377981</td>\n",
       "      <td>-0.269878</td>\n",
       "      <td>-0.224860</td>\n",
       "      <td>-0.292436</td>\n",
       "      <td>0.100454</td>\n",
       "      <td>0.410628</td>\n",
       "      <td>V5</td>\n",
       "      <td>AS922</td>\n",
       "      <td>S117</td>\n",
       "    </tr>\n",
       "    <tr>\n",
       "      <th>V5_AS923_S118</th>\n",
       "      <td>-0.052357</td>\n",
       "      <td>-0.011790</td>\n",
       "      <td>0.169802</td>\n",
       "      <td>0.169539</td>\n",
       "      <td>-0.167112</td>\n",
       "      <td>0.219772</td>\n",
       "      <td>0.192022</td>\n",
       "      <td>-0.040777</td>\n",
       "      <td>-0.411418</td>\n",
       "      <td>0.043397</td>\n",
       "      <td>...</td>\n",
       "      <td>0.395837</td>\n",
       "      <td>0.390451</td>\n",
       "      <td>-0.190605</td>\n",
       "      <td>-0.173792</td>\n",
       "      <td>-0.278322</td>\n",
       "      <td>0.108900</td>\n",
       "      <td>0.428926</td>\n",
       "      <td>V5</td>\n",
       "      <td>AS923</td>\n",
       "      <td>S118</td>\n",
       "    </tr>\n",
       "    <tr>\n",
       "      <th>V5+CT45_AS924_S119</th>\n",
       "      <td>0.062566</td>\n",
       "      <td>-0.088893</td>\n",
       "      <td>0.197607</td>\n",
       "      <td>0.224874</td>\n",
       "      <td>-0.112584</td>\n",
       "      <td>0.238658</td>\n",
       "      <td>0.229253</td>\n",
       "      <td>-0.034617</td>\n",
       "      <td>-0.182225</td>\n",
       "      <td>-0.050214</td>\n",
       "      <td>...</td>\n",
       "      <td>0.387171</td>\n",
       "      <td>0.373498</td>\n",
       "      <td>-0.169060</td>\n",
       "      <td>-0.074586</td>\n",
       "      <td>-0.128237</td>\n",
       "      <td>0.103801</td>\n",
       "      <td>0.417750</td>\n",
       "      <td>V5+CT45</td>\n",
       "      <td>AS924</td>\n",
       "      <td>S119</td>\n",
       "    </tr>\n",
       "    <tr>\n",
       "      <th>V5+CT45_AS925_S120</th>\n",
       "      <td>0.073479</td>\n",
       "      <td>-0.093424</td>\n",
       "      <td>0.194265</td>\n",
       "      <td>0.216908</td>\n",
       "      <td>-0.069579</td>\n",
       "      <td>0.207769</td>\n",
       "      <td>0.211539</td>\n",
       "      <td>-0.013577</td>\n",
       "      <td>-0.146667</td>\n",
       "      <td>-0.012140</td>\n",
       "      <td>...</td>\n",
       "      <td>0.382935</td>\n",
       "      <td>0.375096</td>\n",
       "      <td>-0.141614</td>\n",
       "      <td>-0.058460</td>\n",
       "      <td>-0.130907</td>\n",
       "      <td>0.093867</td>\n",
       "      <td>0.413617</td>\n",
       "      <td>V5+CT45</td>\n",
       "      <td>AS925</td>\n",
       "      <td>S120</td>\n",
       "    </tr>\n",
       "    <tr>\n",
       "      <th>V5+CT45_AS926_S121</th>\n",
       "      <td>0.079657</td>\n",
       "      <td>-0.091373</td>\n",
       "      <td>0.180172</td>\n",
       "      <td>0.183295</td>\n",
       "      <td>-0.134906</td>\n",
       "      <td>0.270098</td>\n",
       "      <td>0.203470</td>\n",
       "      <td>-0.042416</td>\n",
       "      <td>-0.206953</td>\n",
       "      <td>-0.033957</td>\n",
       "      <td>...</td>\n",
       "      <td>0.379303</td>\n",
       "      <td>0.368977</td>\n",
       "      <td>-0.177034</td>\n",
       "      <td>-0.106843</td>\n",
       "      <td>-0.090751</td>\n",
       "      <td>0.082380</td>\n",
       "      <td>0.413381</td>\n",
       "      <td>V5+CT45</td>\n",
       "      <td>AS926</td>\n",
       "      <td>S121</td>\n",
       "    </tr>\n",
       "  </tbody>\n",
       "</table>\n",
       "<p>6 rows × 167 columns</p>\n",
       "</div>"
      ],
      "text/plain": [
       "                    ATP-dependent chromatin remodeling  COPII vesicle coating  \\\n",
       "V5_AS921_S116                                 0.044262              -0.010696   \n",
       "V5_AS922_S117                                 0.053901              -0.048848   \n",
       "V5_AS923_S118                                -0.052357              -0.011790   \n",
       "V5+CT45_AS924_S119                            0.062566              -0.088893   \n",
       "V5+CT45_AS925_S120                            0.073479              -0.093424   \n",
       "V5+CT45_AS926_S121                            0.079657              -0.091373   \n",
       "\n",
       "                    DNA duplex unwinding  DNA repair  \\\n",
       "V5_AS921_S116                   0.204359    0.170231   \n",
       "V5_AS922_S117                   0.160694    0.154869   \n",
       "V5_AS923_S118                   0.169802    0.169539   \n",
       "V5+CT45_AS924_S119              0.197607    0.224874   \n",
       "V5+CT45_AS925_S120              0.194265    0.216908   \n",
       "V5+CT45_AS926_S121              0.180172    0.183295   \n",
       "\n",
       "                    Fc-epsilon receptor signaling pathway  \\\n",
       "V5_AS921_S116                                   -0.166454   \n",
       "V5_AS922_S117                                   -0.225246   \n",
       "V5_AS923_S118                                   -0.167112   \n",
       "V5+CT45_AS924_S119                              -0.112584   \n",
       "V5+CT45_AS925_S120                              -0.069579   \n",
       "V5+CT45_AS926_S121                              -0.134906   \n",
       "\n",
       "                    Fc-gamma receptor signaling pathway involved in phagocytosis  \\\n",
       "V5_AS921_S116                                                0.278150              \n",
       "V5_AS922_S117                                                0.328772              \n",
       "V5_AS923_S118                                                0.219772              \n",
       "V5+CT45_AS924_S119                                           0.238658              \n",
       "V5+CT45_AS925_S120                                           0.207769              \n",
       "V5+CT45_AS926_S121                                           0.270098              \n",
       "\n",
       "                    G2/M transition of mitotic cell cycle  MAPK cascade  \\\n",
       "V5_AS921_S116                                    0.180737     -0.070821   \n",
       "V5_AS922_S117                                    0.165380     -0.101982   \n",
       "V5_AS923_S118                                    0.192022     -0.040777   \n",
       "V5+CT45_AS924_S119                               0.229253     -0.034617   \n",
       "V5+CT45_AS925_S120                               0.211539     -0.013577   \n",
       "V5+CT45_AS926_S121                               0.203470     -0.042416   \n",
       "\n",
       "                    NIK/NF-kappaB signaling  RNA export from nucleus  ...  \\\n",
       "V5_AS921_S116                     -0.434774                 0.058232  ...   \n",
       "V5_AS922_S117                     -0.542500                 0.041150  ...   \n",
       "V5_AS923_S118                     -0.411418                 0.043397  ...   \n",
       "V5+CT45_AS924_S119                -0.182225                -0.050214  ...   \n",
       "V5+CT45_AS925_S120                -0.146667                -0.012140  ...   \n",
       "V5+CT45_AS926_S121                -0.206953                -0.033957  ...   \n",
       "\n",
       "                    translation  translational initiation  \\\n",
       "V5_AS921_S116          0.387313                  0.381839   \n",
       "V5_AS922_S117          0.380391                  0.377981   \n",
       "V5_AS923_S118          0.395837                  0.390451   \n",
       "V5+CT45_AS924_S119     0.387171                  0.373498   \n",
       "V5+CT45_AS925_S120     0.382935                  0.375096   \n",
       "V5+CT45_AS926_S121     0.379303                  0.368977   \n",
       "\n",
       "                    transmembrane transport  \\\n",
       "V5_AS921_S116                     -0.212196   \n",
       "V5_AS922_S117                     -0.269878   \n",
       "V5_AS923_S118                     -0.190605   \n",
       "V5+CT45_AS924_S119                -0.169060   \n",
       "V5+CT45_AS925_S120                -0.141614   \n",
       "V5+CT45_AS926_S121                -0.177034   \n",
       "\n",
       "                    tumor necrosis factor-mediated signaling pathway  \\\n",
       "V5_AS921_S116                                              -0.191530   \n",
       "V5_AS922_S117                                              -0.224860   \n",
       "V5_AS923_S118                                              -0.173792   \n",
       "V5+CT45_AS924_S119                                         -0.074586   \n",
       "V5+CT45_AS925_S120                                         -0.058460   \n",
       "V5+CT45_AS926_S121                                         -0.106843   \n",
       "\n",
       "                    ubiquitin-dependent protein catabolic process  \\\n",
       "V5_AS921_S116                                           -0.261737   \n",
       "V5_AS922_S117                                           -0.292436   \n",
       "V5_AS923_S118                                           -0.278322   \n",
       "V5+CT45_AS924_S119                                      -0.128237   \n",
       "V5+CT45_AS925_S120                                      -0.130907   \n",
       "V5+CT45_AS926_S121                                      -0.090751   \n",
       "\n",
       "                    viral process  viral transcription    group  sample  \\\n",
       "V5_AS921_S116            0.112756             0.417030       V5   AS921   \n",
       "V5_AS922_S117            0.100454             0.410628       V5   AS922   \n",
       "V5_AS923_S118            0.108900             0.428926       V5   AS923   \n",
       "V5+CT45_AS924_S119       0.103801             0.417750  V5+CT45   AS924   \n",
       "V5+CT45_AS925_S120       0.093867             0.413617  V5+CT45   AS925   \n",
       "V5+CT45_AS926_S121       0.082380             0.413381  V5+CT45   AS926   \n",
       "\n",
       "                    subject  \n",
       "V5_AS921_S116          S116  \n",
       "V5_AS922_S117          S117  \n",
       "V5_AS923_S118          S118  \n",
       "V5+CT45_AS924_S119     S119  \n",
       "V5+CT45_AS925_S120     S120  \n",
       "V5+CT45_AS926_S121     S121  \n",
       "\n",
       "[6 rows x 167 columns]"
      ]
     },
     "execution_count": 15,
     "metadata": {},
     "output_type": "execute_result"
    }
   ],
   "source": [
    "ssgsea_result2['nes']"
   ]
  },
  {
   "cell_type": "code",
   "execution_count": 16,
   "metadata": {},
   "outputs": [],
   "source": [
    "pca_result, args = analytics.run_pca(ssgsea_result2['nes'], drop_cols=['sample', 'subject'], group='group')"
   ]
  },
  {
   "cell_type": "code",
   "execution_count": 17,
   "metadata": {
    "scrolled": false
   },
   "outputs": [
    {
     "data": {
      "application/vnd.plotly.v1+json": {
       "config": {
        "linkText": "Export to plot.ly",
        "plotlyServerURL": "https://plot.ly",
        "showLink": false
       },
       "data": [
        {
         "hovertemplate": "group=V5<br>x=%{x}<br>y=%{y}<extra></extra>",
         "legendgroup": "V5",
         "marker": {
          "color": "#636efa",
          "line": {
           "color": "DarkSlateGrey",
           "width": 0.5
          },
          "opacity": 0.7,
          "size": 14,
          "symbol": "circle"
         },
         "mode": "markers",
         "name": "V5",
         "orientation": "v",
         "showlegend": true,
         "type": "scatter",
         "x": [
          0.5879038868119723,
          0.7520778330565375,
          0.46717094822704197
         ],
         "xaxis": "x",
         "y": [
          -0.08711152500424563,
          0.2738343525433136,
          -0.2678159255906489
         ],
         "yaxis": "y"
        },
        {
         "hovertemplate": "group=V5+CT45<br>x=%{x}<br>y=%{y}<extra></extra>",
         "legendgroup": "V5+CT45",
         "marker": {
          "color": "#EF553B",
          "line": {
           "color": "DarkSlateGrey",
           "width": 0.5
          },
          "opacity": 0.7,
          "size": 14,
          "symbol": "circle"
         },
         "mode": "markers",
         "name": "V5+CT45",
         "orientation": "v",
         "showlegend": true,
         "type": "scatter",
         "x": [
          -0.6508094505393485,
          -0.6406250584878231,
          -0.51571815906838
         ],
         "xaxis": "x",
         "y": [
          0.11163169700939288,
          -0.21845015009271462,
          0.18791155113490246
         ],
         "yaxis": "y"
        },
        {
         "marker": {
          "color": "darkgrey",
          "opacity": 0.9,
          "showscale": false,
          "size": 3,
          "symbol": 1
         },
         "mode": "markers+lines",
         "name": "ephrin receptor signaling pathway",
         "showlegend": false,
         "text": "ephrin receptor signaling pathway loading: 0.36",
         "type": "scattergl",
         "x": [
          0,
          0.0026778733741695433
         ],
         "y": [
          0,
          0.3558682384099407
         ]
        },
        {
         "marker": {
          "color": "darkgrey",
          "opacity": 0.9,
          "showscale": false,
          "size": 3,
          "symbol": 1
         },
         "mode": "markers+lines",
         "name": "protein dephosphorylation",
         "showlegend": false,
         "text": "protein dephosphorylation loading: 0.35",
         "type": "scattergl",
         "x": [
          0,
          -0.29483891143959406
         ],
         "y": [
          0,
          0.19490809911367799
         ]
        },
        {
         "marker": {
          "color": "darkgrey",
          "opacity": 0.9,
          "showscale": false,
          "size": 3,
          "symbol": 1
         },
         "mode": "markers+lines",
         "name": "regulation of cell cycle",
         "showlegend": false,
         "text": "regulation of cell cycle loading: 0.27",
         "type": "scattergl",
         "x": [
          0,
          -0.2542082921286409
         ],
         "y": [
          0,
          -0.10321612406497079
         ]
        },
        {
         "marker": {
          "color": "darkgrey",
          "opacity": 0.9,
          "showscale": false,
          "size": 3,
          "symbol": 1
         },
         "mode": "markers+lines",
         "name": "NIK/NF-kappaB signaling",
         "showlegend": false,
         "text": "NIK/NF-kappaB signaling loading: 0.26",
         "type": "scattergl",
         "x": [
          0,
          -0.24065811243410418
         ],
         "y": [
          0,
          -0.11084521098576264
         ]
        },
        {
         "marker": {
          "color": "darkgrey",
          "opacity": 0.9,
          "showscale": false,
          "size": 3,
          "symbol": 1
         },
         "mode": "markers+lines",
         "name": "regulation of cellular amino acid metabolic process",
         "showlegend": false,
         "text": "regulation of cellular amino acid metabolic process loading: 0.23",
         "type": "scattergl",
         "x": [
          0,
          -0.15359841801717086
         ],
         "y": [
          0,
          -0.16964613155516578
         ]
        },
        {
         "marker": {
          "color": "darkgrey",
          "opacity": 0.9,
          "showscale": false,
          "size": 3,
          "symbol": 1
         },
         "mode": "markers+lines",
         "name": "stimulatory C-type lectin receptor signaling pathway",
         "showlegend": false,
         "text": "stimulatory C-type lectin receptor signaling pathway loading: 0.23",
         "type": "scattergl",
         "x": [
          0,
          -0.18798025587150136
         ],
         "y": [
          0,
          -0.12752330750640867
         ]
        },
        {
         "marker": {
          "color": "darkgrey",
          "opacity": 0.9,
          "showscale": false,
          "size": 3,
          "symbol": 1
         },
         "mode": "markers+lines",
         "name": "regulation of mitotic cell cycle phase transition",
         "showlegend": false,
         "text": "regulation of mitotic cell cycle phase transition loading: 0.22",
         "type": "scattergl",
         "x": [
          0,
          -0.18448402114549045
         ],
         "y": [
          0,
          -0.12524835956636687
         ]
        },
        {
         "marker": {
          "color": "darkgrey",
          "opacity": 0.9,
          "showscale": false,
          "size": 3,
          "symbol": 1
         },
         "mode": "markers+lines",
         "name": "regulation of hematopoietic stem cell differentiation",
         "showlegend": false,
         "text": "regulation of hematopoietic stem cell differentiation loading: 0.20",
         "type": "scattergl",
         "x": [
          0,
          -0.16356513725938726
         ],
         "y": [
          0,
          -0.11545098385916826
         ]
        },
        {
         "marker": {
          "color": "darkgrey",
          "opacity": 0.9,
          "showscale": false,
          "size": 3,
          "symbol": 1
         },
         "mode": "markers+lines",
         "name": "aging",
         "showlegend": false,
         "text": "aging loading: 0.20",
         "type": "scattergl",
         "x": [
          0,
          0.024003877303387527
         ],
         "y": [
          0,
          0.19442722160522008
         ]
        },
        {
         "marker": {
          "color": "darkgrey",
          "opacity": 0.9,
          "showscale": false,
          "size": 3,
          "symbol": 1
         },
         "mode": "markers+lines",
         "name": "SCF-dependent proteasomal ubiquitin-dependent protein catabolic process",
         "showlegend": false,
         "text": "SCF-dependent proteasomal ubiquitin-dependent protein catabolic process loading: 0.19",
         "type": "scattergl",
         "x": [
          0,
          -0.12575370267599634
         ],
         "y": [
          0,
          -0.148849873733235
         ]
        },
        {
         "marker": {
          "color": "darkgrey",
          "opacity": 0.9,
          "showscale": false,
          "size": 3,
          "symbol": 1
         },
         "mode": "markers+lines",
         "name": "transcription-coupled nucleotide-excision repair",
         "showlegend": false,
         "text": "transcription-coupled nucleotide-excision repair loading: 0.18",
         "type": "scattergl",
         "x": [
          0,
          -0.1822410196491446
         ],
         "y": [
          0,
          0.03134551225211384
         ]
        },
        {
         "marker": {
          "color": "darkgrey",
          "opacity": 0.9,
          "showscale": false,
          "size": 3,
          "symbol": 1
         },
         "mode": "markers+lines",
         "name": "cell redox homeostasis",
         "showlegend": false,
         "text": "cell redox homeostasis loading: 0.18",
         "type": "scattergl",
         "x": [
          0,
          0.1390309597078701
         ],
         "y": [
          0,
          -0.12012331312308712
         ]
        },
        {
         "marker": {
          "color": "darkgrey",
          "opacity": 0.9,
          "showscale": false,
          "size": 3,
          "symbol": 1
         },
         "mode": "markers+lines",
         "name": "cellular response to DNA damage stimulus",
         "showlegend": false,
         "text": "cellular response to DNA damage stimulus loading: 0.18",
         "type": "scattergl",
         "x": [
          0,
          -0.16448258375654312
         ],
         "y": [
          0,
          0.061318150289353154
         ]
        },
        {
         "marker": {
          "color": "darkgrey",
          "opacity": 0.9,
          "showscale": false,
          "size": 3,
          "symbol": 1
         },
         "mode": "markers+lines",
         "name": "T cell receptor signaling pathway",
         "showlegend": false,
         "text": "T cell receptor signaling pathway loading: 0.17",
         "type": "scattergl",
         "x": [
          0,
          -0.11950198737054767
         ],
         "y": [
          0,
          -0.1258573967909546
         ]
        },
        {
         "marker": {
          "color": "darkgrey",
          "opacity": 0.9,
          "showscale": false,
          "size": 3,
          "symbol": 1
         },
         "mode": "markers+lines",
         "name": "regulation of signal transduction by p53 class mediator",
         "showlegend": false,
         "text": "regulation of signal transduction by p53 class mediator loading: 0.17",
         "type": "scattergl",
         "x": [
          0,
          -0.1696149004154525
         ],
         "y": [
          0,
          0.026448522066758077
         ]
        }
       ],
       "layout": {
        "annotations": [
         {
          "align": "center",
          "ax": 20,
          "ay": -30,
          "font": {
           "color": "darkgrey",
           "size": 12
          },
          "showarrow": false,
          "text": "ephrin receptor signaling pathway",
          "x": 0.0030795543802949747,
          "xref": "x",
          "y": 0.4092484741714318,
          "yref": "y"
         },
         {
          "align": "center",
          "ax": 20,
          "ay": -30,
          "font": {
           "color": "darkgrey",
           "size": 12
          },
          "showarrow": false,
          "text": "protein dephosphorylation",
          "x": -0.33906474815553317,
          "xref": "x",
          "y": 0.22414431398072968,
          "yref": "y"
         },
         {
          "align": "center",
          "ax": 20,
          "ay": -30,
          "font": {
           "color": "darkgrey",
           "size": 12
          },
          "showarrow": false,
          "text": "regulation of cell cycle",
          "x": -0.292339535947937,
          "xref": "x",
          "y": -0.1186985426747164,
          "yref": "y"
         },
         {
          "align": "center",
          "ax": 20,
          "ay": -30,
          "font": {
           "color": "darkgrey",
           "size": 12
          },
          "showarrow": false,
          "text": "NIK/NF-kappaB signaling",
          "x": -0.2767568292992198,
          "xref": "x",
          "y": -0.12747199263362702,
          "yref": "y"
         },
         {
          "align": "center",
          "ax": 20,
          "ay": -30,
          "font": {
           "color": "darkgrey",
           "size": 12
          },
          "showarrow": false,
          "text": "regulation of cellular amino acid metabolic process",
          "x": -0.1766381807197465,
          "xref": "x",
          "y": -0.19509305128844062,
          "yref": "y"
         },
         {
          "align": "center",
          "ax": 20,
          "ay": -30,
          "font": {
           "color": "darkgrey",
           "size": 12
          },
          "showarrow": false,
          "text": "stimulatory C-type lectin receptor signaling pathway",
          "x": -0.21617729425222654,
          "xref": "x",
          "y": -0.14665180363236996,
          "yref": "y"
         },
         {
          "align": "center",
          "ax": 20,
          "ay": -30,
          "font": {
           "color": "darkgrey",
           "size": 12
          },
          "showarrow": false,
          "text": "regulation of mitotic cell cycle phase transition",
          "x": -0.212156624317314,
          "xref": "x",
          "y": -0.14403561350132188,
          "yref": "y"
         },
         {
          "align": "center",
          "ax": 20,
          "ay": -30,
          "font": {
           "color": "darkgrey",
           "size": 12
          },
          "showarrow": false,
          "text": "regulation of hematopoietic stem cell differentiation",
          "x": -0.18809990784829533,
          "xref": "x",
          "y": -0.1327686314380435,
          "yref": "y"
         },
         {
          "align": "center",
          "ax": 20,
          "ay": -30,
          "font": {
           "color": "darkgrey",
           "size": 12
          },
          "showarrow": false,
          "text": "aging",
          "x": 0.027604458898895654,
          "xref": "x",
          "y": 0.22359130484600306,
          "yref": "y"
         },
         {
          "align": "center",
          "ax": 20,
          "ay": -30,
          "font": {
           "color": "darkgrey",
           "size": 12
          },
          "showarrow": false,
          "text": "SCF-dependent proteasomal ubiquitin-dependent protein catabolic process",
          "x": -0.14461675807739577,
          "xref": "x",
          "y": -0.17117735479322024,
          "yref": "y"
         },
         {
          "align": "center",
          "ax": 20,
          "ay": -30,
          "font": {
           "color": "darkgrey",
           "size": 12
          },
          "showarrow": false,
          "text": "transcription-coupled nucleotide-excision repair",
          "x": -0.2095771725965163,
          "xref": "x",
          "y": 0.036047339089930915,
          "yref": "y"
         },
         {
          "align": "center",
          "ax": 20,
          "ay": -30,
          "font": {
           "color": "darkgrey",
           "size": 12
          },
          "showarrow": false,
          "text": "cell redox homeostasis",
          "x": 0.1598856036640506,
          "xref": "x",
          "y": -0.1381418100915502,
          "yref": "y"
         },
         {
          "align": "center",
          "ax": 20,
          "ay": -30,
          "font": {
           "color": "darkgrey",
           "size": 12
          },
          "showarrow": false,
          "text": "cellular response to DNA damage stimulus",
          "x": -0.18915497132002457,
          "xref": "x",
          "y": 0.07051587283275612,
          "yref": "y"
         },
         {
          "align": "center",
          "ax": 20,
          "ay": -30,
          "font": {
           "color": "darkgrey",
           "size": 12
          },
          "showarrow": false,
          "text": "T cell receptor signaling pathway",
          "x": -0.1374272854761298,
          "xref": "x",
          "y": -0.14473600630959776,
          "yref": "y"
         },
         {
          "align": "center",
          "ax": 20,
          "ay": -30,
          "font": {
           "color": "darkgrey",
           "size": 12
          },
          "showarrow": false,
          "text": "regulation of signal transduction by p53 class mediator",
          "x": -0.19505713547777034,
          "xref": "x",
          "y": 0.030415800376771787,
          "yref": "y"
         }
        ],
        "height": 600,
        "hovermode": "closest",
        "legend": {
         "orientation": "h",
         "x": 1,
         "xanchor": "right",
         "y": 1,
         "yanchor": "bottom"
        },
        "template": {
         "data": {
          "bar": [
           {
            "error_x": {
             "color": "#2a3f5f"
            },
            "error_y": {
             "color": "#2a3f5f"
            },
            "marker": {
             "line": {
              "color": "white",
              "width": 0.5
             }
            },
            "type": "bar"
           }
          ],
          "barpolar": [
           {
            "marker": {
             "line": {
              "color": "white",
              "width": 0.5
             }
            },
            "type": "barpolar"
           }
          ],
          "carpet": [
           {
            "aaxis": {
             "endlinecolor": "#2a3f5f",
             "gridcolor": "#C8D4E3",
             "linecolor": "#C8D4E3",
             "minorgridcolor": "#C8D4E3",
             "startlinecolor": "#2a3f5f"
            },
            "baxis": {
             "endlinecolor": "#2a3f5f",
             "gridcolor": "#C8D4E3",
             "linecolor": "#C8D4E3",
             "minorgridcolor": "#C8D4E3",
             "startlinecolor": "#2a3f5f"
            },
            "type": "carpet"
           }
          ],
          "choropleth": [
           {
            "colorbar": {
             "outlinewidth": 0,
             "ticks": ""
            },
            "type": "choropleth"
           }
          ],
          "contour": [
           {
            "colorbar": {
             "outlinewidth": 0,
             "ticks": ""
            },
            "colorscale": [
             [
              0,
              "#0d0887"
             ],
             [
              0.1111111111111111,
              "#46039f"
             ],
             [
              0.2222222222222222,
              "#7201a8"
             ],
             [
              0.3333333333333333,
              "#9c179e"
             ],
             [
              0.4444444444444444,
              "#bd3786"
             ],
             [
              0.5555555555555556,
              "#d8576b"
             ],
             [
              0.6666666666666666,
              "#ed7953"
             ],
             [
              0.7777777777777778,
              "#fb9f3a"
             ],
             [
              0.8888888888888888,
              "#fdca26"
             ],
             [
              1,
              "#f0f921"
             ]
            ],
            "type": "contour"
           }
          ],
          "contourcarpet": [
           {
            "colorbar": {
             "outlinewidth": 0,
             "ticks": ""
            },
            "type": "contourcarpet"
           }
          ],
          "heatmap": [
           {
            "colorbar": {
             "outlinewidth": 0,
             "ticks": ""
            },
            "colorscale": [
             [
              0,
              "#0d0887"
             ],
             [
              0.1111111111111111,
              "#46039f"
             ],
             [
              0.2222222222222222,
              "#7201a8"
             ],
             [
              0.3333333333333333,
              "#9c179e"
             ],
             [
              0.4444444444444444,
              "#bd3786"
             ],
             [
              0.5555555555555556,
              "#d8576b"
             ],
             [
              0.6666666666666666,
              "#ed7953"
             ],
             [
              0.7777777777777778,
              "#fb9f3a"
             ],
             [
              0.8888888888888888,
              "#fdca26"
             ],
             [
              1,
              "#f0f921"
             ]
            ],
            "type": "heatmap"
           }
          ],
          "heatmapgl": [
           {
            "colorbar": {
             "outlinewidth": 0,
             "ticks": ""
            },
            "colorscale": [
             [
              0,
              "#0d0887"
             ],
             [
              0.1111111111111111,
              "#46039f"
             ],
             [
              0.2222222222222222,
              "#7201a8"
             ],
             [
              0.3333333333333333,
              "#9c179e"
             ],
             [
              0.4444444444444444,
              "#bd3786"
             ],
             [
              0.5555555555555556,
              "#d8576b"
             ],
             [
              0.6666666666666666,
              "#ed7953"
             ],
             [
              0.7777777777777778,
              "#fb9f3a"
             ],
             [
              0.8888888888888888,
              "#fdca26"
             ],
             [
              1,
              "#f0f921"
             ]
            ],
            "type": "heatmapgl"
           }
          ],
          "histogram": [
           {
            "marker": {
             "colorbar": {
              "outlinewidth": 0,
              "ticks": ""
             }
            },
            "type": "histogram"
           }
          ],
          "histogram2d": [
           {
            "colorbar": {
             "outlinewidth": 0,
             "ticks": ""
            },
            "colorscale": [
             [
              0,
              "#0d0887"
             ],
             [
              0.1111111111111111,
              "#46039f"
             ],
             [
              0.2222222222222222,
              "#7201a8"
             ],
             [
              0.3333333333333333,
              "#9c179e"
             ],
             [
              0.4444444444444444,
              "#bd3786"
             ],
             [
              0.5555555555555556,
              "#d8576b"
             ],
             [
              0.6666666666666666,
              "#ed7953"
             ],
             [
              0.7777777777777778,
              "#fb9f3a"
             ],
             [
              0.8888888888888888,
              "#fdca26"
             ],
             [
              1,
              "#f0f921"
             ]
            ],
            "type": "histogram2d"
           }
          ],
          "histogram2dcontour": [
           {
            "colorbar": {
             "outlinewidth": 0,
             "ticks": ""
            },
            "colorscale": [
             [
              0,
              "#0d0887"
             ],
             [
              0.1111111111111111,
              "#46039f"
             ],
             [
              0.2222222222222222,
              "#7201a8"
             ],
             [
              0.3333333333333333,
              "#9c179e"
             ],
             [
              0.4444444444444444,
              "#bd3786"
             ],
             [
              0.5555555555555556,
              "#d8576b"
             ],
             [
              0.6666666666666666,
              "#ed7953"
             ],
             [
              0.7777777777777778,
              "#fb9f3a"
             ],
             [
              0.8888888888888888,
              "#fdca26"
             ],
             [
              1,
              "#f0f921"
             ]
            ],
            "type": "histogram2dcontour"
           }
          ],
          "mesh3d": [
           {
            "colorbar": {
             "outlinewidth": 0,
             "ticks": ""
            },
            "type": "mesh3d"
           }
          ],
          "parcoords": [
           {
            "line": {
             "colorbar": {
              "outlinewidth": 0,
              "ticks": ""
             }
            },
            "type": "parcoords"
           }
          ],
          "pie": [
           {
            "automargin": true,
            "type": "pie"
           }
          ],
          "scatter": [
           {
            "marker": {
             "colorbar": {
              "outlinewidth": 0,
              "ticks": ""
             }
            },
            "type": "scatter"
           }
          ],
          "scatter3d": [
           {
            "line": {
             "colorbar": {
              "outlinewidth": 0,
              "ticks": ""
             }
            },
            "marker": {
             "colorbar": {
              "outlinewidth": 0,
              "ticks": ""
             }
            },
            "type": "scatter3d"
           }
          ],
          "scattercarpet": [
           {
            "marker": {
             "colorbar": {
              "outlinewidth": 0,
              "ticks": ""
             }
            },
            "type": "scattercarpet"
           }
          ],
          "scattergeo": [
           {
            "marker": {
             "colorbar": {
              "outlinewidth": 0,
              "ticks": ""
             }
            },
            "type": "scattergeo"
           }
          ],
          "scattergl": [
           {
            "marker": {
             "colorbar": {
              "outlinewidth": 0,
              "ticks": ""
             }
            },
            "type": "scattergl"
           }
          ],
          "scattermapbox": [
           {
            "marker": {
             "colorbar": {
              "outlinewidth": 0,
              "ticks": ""
             }
            },
            "type": "scattermapbox"
           }
          ],
          "scatterpolar": [
           {
            "marker": {
             "colorbar": {
              "outlinewidth": 0,
              "ticks": ""
             }
            },
            "type": "scatterpolar"
           }
          ],
          "scatterpolargl": [
           {
            "marker": {
             "colorbar": {
              "outlinewidth": 0,
              "ticks": ""
             }
            },
            "type": "scatterpolargl"
           }
          ],
          "scatterternary": [
           {
            "marker": {
             "colorbar": {
              "outlinewidth": 0,
              "ticks": ""
             }
            },
            "type": "scatterternary"
           }
          ],
          "surface": [
           {
            "colorbar": {
             "outlinewidth": 0,
             "ticks": ""
            },
            "colorscale": [
             [
              0,
              "#0d0887"
             ],
             [
              0.1111111111111111,
              "#46039f"
             ],
             [
              0.2222222222222222,
              "#7201a8"
             ],
             [
              0.3333333333333333,
              "#9c179e"
             ],
             [
              0.4444444444444444,
              "#bd3786"
             ],
             [
              0.5555555555555556,
              "#d8576b"
             ],
             [
              0.6666666666666666,
              "#ed7953"
             ],
             [
              0.7777777777777778,
              "#fb9f3a"
             ],
             [
              0.8888888888888888,
              "#fdca26"
             ],
             [
              1,
              "#f0f921"
             ]
            ],
            "type": "surface"
           }
          ],
          "table": [
           {
            "cells": {
             "fill": {
              "color": "#EBF0F8"
             },
             "line": {
              "color": "white"
             }
            },
            "header": {
             "fill": {
              "color": "#C8D4E3"
             },
             "line": {
              "color": "white"
             }
            },
            "type": "table"
           }
          ]
         },
         "layout": {
          "annotationdefaults": {
           "arrowcolor": "#2a3f5f",
           "arrowhead": 0,
           "arrowwidth": 1
          },
          "coloraxis": {
           "colorbar": {
            "outlinewidth": 0,
            "ticks": ""
           }
          },
          "colorscale": {
           "diverging": [
            [
             0,
             "#8e0152"
            ],
            [
             0.1,
             "#c51b7d"
            ],
            [
             0.2,
             "#de77ae"
            ],
            [
             0.3,
             "#f1b6da"
            ],
            [
             0.4,
             "#fde0ef"
            ],
            [
             0.5,
             "#f7f7f7"
            ],
            [
             0.6,
             "#e6f5d0"
            ],
            [
             0.7,
             "#b8e186"
            ],
            [
             0.8,
             "#7fbc41"
            ],
            [
             0.9,
             "#4d9221"
            ],
            [
             1,
             "#276419"
            ]
           ],
           "sequential": [
            [
             0,
             "#0d0887"
            ],
            [
             0.1111111111111111,
             "#46039f"
            ],
            [
             0.2222222222222222,
             "#7201a8"
            ],
            [
             0.3333333333333333,
             "#9c179e"
            ],
            [
             0.4444444444444444,
             "#bd3786"
            ],
            [
             0.5555555555555556,
             "#d8576b"
            ],
            [
             0.6666666666666666,
             "#ed7953"
            ],
            [
             0.7777777777777778,
             "#fb9f3a"
            ],
            [
             0.8888888888888888,
             "#fdca26"
            ],
            [
             1,
             "#f0f921"
            ]
           ],
           "sequentialminus": [
            [
             0,
             "#0d0887"
            ],
            [
             0.1111111111111111,
             "#46039f"
            ],
            [
             0.2222222222222222,
             "#7201a8"
            ],
            [
             0.3333333333333333,
             "#9c179e"
            ],
            [
             0.4444444444444444,
             "#bd3786"
            ],
            [
             0.5555555555555556,
             "#d8576b"
            ],
            [
             0.6666666666666666,
             "#ed7953"
            ],
            [
             0.7777777777777778,
             "#fb9f3a"
            ],
            [
             0.8888888888888888,
             "#fdca26"
            ],
            [
             1,
             "#f0f921"
            ]
           ]
          },
          "colorway": [
           "#636efa",
           "#EF553B",
           "#00cc96",
           "#ab63fa",
           "#FFA15A",
           "#19d3f3",
           "#FF6692",
           "#B6E880",
           "#FF97FF",
           "#FECB52"
          ],
          "font": {
           "color": "#2a3f5f"
          },
          "geo": {
           "bgcolor": "white",
           "lakecolor": "white",
           "landcolor": "white",
           "showlakes": true,
           "showland": true,
           "subunitcolor": "#C8D4E3"
          },
          "hoverlabel": {
           "align": "left"
          },
          "hovermode": "closest",
          "mapbox": {
           "style": "light"
          },
          "paper_bgcolor": "white",
          "plot_bgcolor": "white",
          "polar": {
           "angularaxis": {
            "gridcolor": "#EBF0F8",
            "linecolor": "#EBF0F8",
            "ticks": ""
           },
           "bgcolor": "white",
           "radialaxis": {
            "gridcolor": "#EBF0F8",
            "linecolor": "#EBF0F8",
            "ticks": ""
           }
          },
          "scene": {
           "xaxis": {
            "backgroundcolor": "white",
            "gridcolor": "#DFE8F3",
            "gridwidth": 2,
            "linecolor": "#EBF0F8",
            "showbackground": true,
            "ticks": "",
            "zerolinecolor": "#EBF0F8"
           },
           "yaxis": {
            "backgroundcolor": "white",
            "gridcolor": "#DFE8F3",
            "gridwidth": 2,
            "linecolor": "#EBF0F8",
            "showbackground": true,
            "ticks": "",
            "zerolinecolor": "#EBF0F8"
           },
           "zaxis": {
            "backgroundcolor": "white",
            "gridcolor": "#DFE8F3",
            "gridwidth": 2,
            "linecolor": "#EBF0F8",
            "showbackground": true,
            "ticks": "",
            "zerolinecolor": "#EBF0F8"
           }
          },
          "shapedefaults": {
           "line": {
            "color": "#2a3f5f"
           }
          },
          "ternary": {
           "aaxis": {
            "gridcolor": "#DFE8F3",
            "linecolor": "#A2B1C6",
            "ticks": ""
           },
           "baxis": {
            "gridcolor": "#DFE8F3",
            "linecolor": "#A2B1C6",
            "ticks": ""
           },
           "bgcolor": "white",
           "caxis": {
            "gridcolor": "#DFE8F3",
            "linecolor": "#A2B1C6",
            "ticks": ""
           }
          },
          "title": {
           "x": 0.05
          },
          "xaxis": {
           "automargin": true,
           "gridcolor": "#EBF0F8",
           "linecolor": "#EBF0F8",
           "ticks": "",
           "title": {
            "standoff": 15
           },
           "zerolinecolor": "#EBF0F8",
           "zerolinewidth": 2
          },
          "yaxis": {
           "automargin": true,
           "gridcolor": "#EBF0F8",
           "linecolor": "#EBF0F8",
           "ticks": "",
           "title": {
            "standoff": 15
           },
           "zerolinecolor": "#EBF0F8",
           "zerolinewidth": 2
          }
         }
        },
        "title": {
         "text": "PCA plot groups"
        },
        "width": 700,
        "xaxis": {
         "title": {
          "text": "PC1 (0.86)"
         }
        },
        "yaxis": {
         "title": {
          "text": "PC2 (0.10)"
         }
        }
       }
      },
      "text/html": [
       "<div>\n",
       "        \n",
       "        \n",
       "            <div id=\"500a24e3-d9bb-4065-8cfe-9d70ca32709b\" class=\"plotly-graph-div\" style=\"height:600px; width:700px;\"></div>\n",
       "            <script type=\"text/javascript\">\n",
       "                require([\"plotly\"], function(Plotly) {\n",
       "                    window.PLOTLYENV=window.PLOTLYENV || {};\n",
       "                    \n",
       "                if (document.getElementById(\"500a24e3-d9bb-4065-8cfe-9d70ca32709b\")) {\n",
       "                    Plotly.newPlot(\n",
       "                        '500a24e3-d9bb-4065-8cfe-9d70ca32709b',\n",
       "                        [{\"hovertemplate\": \"group=V5<br>x=%{x}<br>y=%{y}<extra></extra>\", \"legendgroup\": \"V5\", \"marker\": {\"color\": \"#636efa\", \"line\": {\"color\": \"DarkSlateGrey\", \"width\": 0.5}, \"opacity\": 0.7, \"size\": 14, \"symbol\": \"circle\"}, \"mode\": \"markers\", \"name\": \"V5\", \"orientation\": \"v\", \"showlegend\": true, \"type\": \"scatter\", \"x\": [0.5879038868119723, 0.7520778330565375, 0.46717094822704197], \"xaxis\": \"x\", \"y\": [-0.08711152500424563, 0.2738343525433136, -0.2678159255906489], \"yaxis\": \"y\"}, {\"hovertemplate\": \"group=V5+CT45<br>x=%{x}<br>y=%{y}<extra></extra>\", \"legendgroup\": \"V5+CT45\", \"marker\": {\"color\": \"#EF553B\", \"line\": {\"color\": \"DarkSlateGrey\", \"width\": 0.5}, \"opacity\": 0.7, \"size\": 14, \"symbol\": \"circle\"}, \"mode\": \"markers\", \"name\": \"V5+CT45\", \"orientation\": \"v\", \"showlegend\": true, \"type\": \"scatter\", \"x\": [-0.6508094505393485, -0.6406250584878231, -0.51571815906838], \"xaxis\": \"x\", \"y\": [0.11163169700939288, -0.21845015009271462, 0.18791155113490246], \"yaxis\": \"y\"}, {\"marker\": {\"color\": \"darkgrey\", \"opacity\": 0.9, \"showscale\": false, \"size\": 3, \"symbol\": 1}, \"mode\": \"markers+lines\", \"name\": \"ephrin receptor signaling pathway\", \"showlegend\": false, \"text\": \"ephrin receptor signaling pathway loading: 0.36\", \"type\": \"scattergl\", \"x\": [0, 0.0026778733741695433], \"y\": [0, 0.3558682384099407]}, {\"marker\": {\"color\": \"darkgrey\", \"opacity\": 0.9, \"showscale\": false, \"size\": 3, \"symbol\": 1}, \"mode\": \"markers+lines\", \"name\": \"protein dephosphorylation\", \"showlegend\": false, \"text\": \"protein dephosphorylation loading: 0.35\", \"type\": \"scattergl\", \"x\": [0, -0.29483891143959406], \"y\": [0, 0.19490809911367799]}, {\"marker\": {\"color\": \"darkgrey\", \"opacity\": 0.9, \"showscale\": false, \"size\": 3, \"symbol\": 1}, \"mode\": \"markers+lines\", \"name\": \"regulation of cell cycle\", \"showlegend\": false, \"text\": \"regulation of cell cycle loading: 0.27\", \"type\": \"scattergl\", \"x\": [0, -0.2542082921286409], \"y\": [0, -0.10321612406497079]}, {\"marker\": {\"color\": \"darkgrey\", \"opacity\": 0.9, \"showscale\": false, \"size\": 3, \"symbol\": 1}, \"mode\": \"markers+lines\", \"name\": \"NIK/NF-kappaB signaling\", \"showlegend\": false, \"text\": \"NIK/NF-kappaB signaling loading: 0.26\", \"type\": \"scattergl\", \"x\": [0, -0.24065811243410418], \"y\": [0, -0.11084521098576264]}, {\"marker\": {\"color\": \"darkgrey\", \"opacity\": 0.9, \"showscale\": false, \"size\": 3, \"symbol\": 1}, \"mode\": \"markers+lines\", \"name\": \"regulation of cellular amino acid metabolic process\", \"showlegend\": false, \"text\": \"regulation of cellular amino acid metabolic process loading: 0.23\", \"type\": \"scattergl\", \"x\": [0, -0.15359841801717086], \"y\": [0, -0.16964613155516578]}, {\"marker\": {\"color\": \"darkgrey\", \"opacity\": 0.9, \"showscale\": false, \"size\": 3, \"symbol\": 1}, \"mode\": \"markers+lines\", \"name\": \"stimulatory C-type lectin receptor signaling pathway\", \"showlegend\": false, \"text\": \"stimulatory C-type lectin receptor signaling pathway loading: 0.23\", \"type\": \"scattergl\", \"x\": [0, -0.18798025587150136], \"y\": [0, -0.12752330750640867]}, {\"marker\": {\"color\": \"darkgrey\", \"opacity\": 0.9, \"showscale\": false, \"size\": 3, \"symbol\": 1}, \"mode\": \"markers+lines\", \"name\": \"regulation of mitotic cell cycle phase transition\", \"showlegend\": false, \"text\": \"regulation of mitotic cell cycle phase transition loading: 0.22\", \"type\": \"scattergl\", \"x\": [0, -0.18448402114549045], \"y\": [0, -0.12524835956636687]}, {\"marker\": {\"color\": \"darkgrey\", \"opacity\": 0.9, \"showscale\": false, \"size\": 3, \"symbol\": 1}, \"mode\": \"markers+lines\", \"name\": \"regulation of hematopoietic stem cell differentiation\", \"showlegend\": false, \"text\": \"regulation of hematopoietic stem cell differentiation loading: 0.20\", \"type\": \"scattergl\", \"x\": [0, -0.16356513725938726], \"y\": [0, -0.11545098385916826]}, {\"marker\": {\"color\": \"darkgrey\", \"opacity\": 0.9, \"showscale\": false, \"size\": 3, \"symbol\": 1}, \"mode\": \"markers+lines\", \"name\": \"aging\", \"showlegend\": false, \"text\": \"aging loading: 0.20\", \"type\": \"scattergl\", \"x\": [0, 0.024003877303387527], \"y\": [0, 0.19442722160522008]}, {\"marker\": {\"color\": \"darkgrey\", \"opacity\": 0.9, \"showscale\": false, \"size\": 3, \"symbol\": 1}, \"mode\": \"markers+lines\", \"name\": \"SCF-dependent proteasomal ubiquitin-dependent protein catabolic process\", \"showlegend\": false, \"text\": \"SCF-dependent proteasomal ubiquitin-dependent protein catabolic process loading: 0.19\", \"type\": \"scattergl\", \"x\": [0, -0.12575370267599634], \"y\": [0, -0.148849873733235]}, {\"marker\": {\"color\": \"darkgrey\", \"opacity\": 0.9, \"showscale\": false, \"size\": 3, \"symbol\": 1}, \"mode\": \"markers+lines\", \"name\": \"transcription-coupled nucleotide-excision repair\", \"showlegend\": false, \"text\": \"transcription-coupled nucleotide-excision repair loading: 0.18\", \"type\": \"scattergl\", \"x\": [0, -0.1822410196491446], \"y\": [0, 0.03134551225211384]}, {\"marker\": {\"color\": \"darkgrey\", \"opacity\": 0.9, \"showscale\": false, \"size\": 3, \"symbol\": 1}, \"mode\": \"markers+lines\", \"name\": \"cell redox homeostasis\", \"showlegend\": false, \"text\": \"cell redox homeostasis loading: 0.18\", \"type\": \"scattergl\", \"x\": [0, 0.1390309597078701], \"y\": [0, -0.12012331312308712]}, {\"marker\": {\"color\": \"darkgrey\", \"opacity\": 0.9, \"showscale\": false, \"size\": 3, \"symbol\": 1}, \"mode\": \"markers+lines\", \"name\": \"cellular response to DNA damage stimulus\", \"showlegend\": false, \"text\": \"cellular response to DNA damage stimulus loading: 0.18\", \"type\": \"scattergl\", \"x\": [0, -0.16448258375654312], \"y\": [0, 0.061318150289353154]}, {\"marker\": {\"color\": \"darkgrey\", \"opacity\": 0.9, \"showscale\": false, \"size\": 3, \"symbol\": 1}, \"mode\": \"markers+lines\", \"name\": \"T cell receptor signaling pathway\", \"showlegend\": false, \"text\": \"T cell receptor signaling pathway loading: 0.17\", \"type\": \"scattergl\", \"x\": [0, -0.11950198737054767], \"y\": [0, -0.1258573967909546]}, {\"marker\": {\"color\": \"darkgrey\", \"opacity\": 0.9, \"showscale\": false, \"size\": 3, \"symbol\": 1}, \"mode\": \"markers+lines\", \"name\": \"regulation of signal transduction by p53 class mediator\", \"showlegend\": false, \"text\": \"regulation of signal transduction by p53 class mediator loading: 0.17\", \"type\": \"scattergl\", \"x\": [0, -0.1696149004154525], \"y\": [0, 0.026448522066758077]}],\n",
       "                        {\"annotations\": [{\"align\": \"center\", \"ax\": 20, \"ay\": -30, \"font\": {\"color\": \"darkgrey\", \"size\": 12}, \"showarrow\": false, \"text\": \"ephrin receptor signaling pathway\", \"x\": 0.0030795543802949747, \"xref\": \"x\", \"y\": 0.4092484741714318, \"yref\": \"y\"}, {\"align\": \"center\", \"ax\": 20, \"ay\": -30, \"font\": {\"color\": \"darkgrey\", \"size\": 12}, \"showarrow\": false, \"text\": \"protein dephosphorylation\", \"x\": -0.33906474815553317, \"xref\": \"x\", \"y\": 0.22414431398072968, \"yref\": \"y\"}, {\"align\": \"center\", \"ax\": 20, \"ay\": -30, \"font\": {\"color\": \"darkgrey\", \"size\": 12}, \"showarrow\": false, \"text\": \"regulation of cell cycle\", \"x\": -0.292339535947937, \"xref\": \"x\", \"y\": -0.1186985426747164, \"yref\": \"y\"}, {\"align\": \"center\", \"ax\": 20, \"ay\": -30, \"font\": {\"color\": \"darkgrey\", \"size\": 12}, \"showarrow\": false, \"text\": \"NIK/NF-kappaB signaling\", \"x\": -0.2767568292992198, \"xref\": \"x\", \"y\": -0.12747199263362702, \"yref\": \"y\"}, {\"align\": \"center\", \"ax\": 20, \"ay\": -30, \"font\": {\"color\": \"darkgrey\", \"size\": 12}, \"showarrow\": false, \"text\": \"regulation of cellular amino acid metabolic process\", \"x\": -0.1766381807197465, \"xref\": \"x\", \"y\": -0.19509305128844062, \"yref\": \"y\"}, {\"align\": \"center\", \"ax\": 20, \"ay\": -30, \"font\": {\"color\": \"darkgrey\", \"size\": 12}, \"showarrow\": false, \"text\": \"stimulatory C-type lectin receptor signaling pathway\", \"x\": -0.21617729425222654, \"xref\": \"x\", \"y\": -0.14665180363236996, \"yref\": \"y\"}, {\"align\": \"center\", \"ax\": 20, \"ay\": -30, \"font\": {\"color\": \"darkgrey\", \"size\": 12}, \"showarrow\": false, \"text\": \"regulation of mitotic cell cycle phase transition\", \"x\": -0.212156624317314, \"xref\": \"x\", \"y\": -0.14403561350132188, \"yref\": \"y\"}, {\"align\": \"center\", \"ax\": 20, \"ay\": -30, \"font\": {\"color\": \"darkgrey\", \"size\": 12}, \"showarrow\": false, \"text\": \"regulation of hematopoietic stem cell differentiation\", \"x\": -0.18809990784829533, \"xref\": \"x\", \"y\": -0.1327686314380435, \"yref\": \"y\"}, {\"align\": \"center\", \"ax\": 20, \"ay\": -30, \"font\": {\"color\": \"darkgrey\", \"size\": 12}, \"showarrow\": false, \"text\": \"aging\", \"x\": 0.027604458898895654, \"xref\": \"x\", \"y\": 0.22359130484600306, \"yref\": \"y\"}, {\"align\": \"center\", \"ax\": 20, \"ay\": -30, \"font\": {\"color\": \"darkgrey\", \"size\": 12}, \"showarrow\": false, \"text\": \"SCF-dependent proteasomal ubiquitin-dependent protein catabolic process\", \"x\": -0.14461675807739577, \"xref\": \"x\", \"y\": -0.17117735479322024, \"yref\": \"y\"}, {\"align\": \"center\", \"ax\": 20, \"ay\": -30, \"font\": {\"color\": \"darkgrey\", \"size\": 12}, \"showarrow\": false, \"text\": \"transcription-coupled nucleotide-excision repair\", \"x\": -0.2095771725965163, \"xref\": \"x\", \"y\": 0.036047339089930915, \"yref\": \"y\"}, {\"align\": \"center\", \"ax\": 20, \"ay\": -30, \"font\": {\"color\": \"darkgrey\", \"size\": 12}, \"showarrow\": false, \"text\": \"cell redox homeostasis\", \"x\": 0.1598856036640506, \"xref\": \"x\", \"y\": -0.1381418100915502, \"yref\": \"y\"}, {\"align\": \"center\", \"ax\": 20, \"ay\": -30, \"font\": {\"color\": \"darkgrey\", \"size\": 12}, \"showarrow\": false, \"text\": \"cellular response to DNA damage stimulus\", \"x\": -0.18915497132002457, \"xref\": \"x\", \"y\": 0.07051587283275612, \"yref\": \"y\"}, {\"align\": \"center\", \"ax\": 20, \"ay\": -30, \"font\": {\"color\": \"darkgrey\", \"size\": 12}, \"showarrow\": false, \"text\": \"T cell receptor signaling pathway\", \"x\": -0.1374272854761298, \"xref\": \"x\", \"y\": -0.14473600630959776, \"yref\": \"y\"}, {\"align\": \"center\", \"ax\": 20, \"ay\": -30, \"font\": {\"color\": \"darkgrey\", \"size\": 12}, \"showarrow\": false, \"text\": \"regulation of signal transduction by p53 class mediator\", \"x\": -0.19505713547777034, \"xref\": \"x\", \"y\": 0.030415800376771787, \"yref\": \"y\"}], \"height\": 600, \"hovermode\": \"closest\", \"legend\": {\"orientation\": \"h\", \"x\": 1, \"xanchor\": \"right\", \"y\": 1.0, \"yanchor\": \"bottom\"}, \"template\": {\"data\": {\"bar\": [{\"error_x\": {\"color\": \"#2a3f5f\"}, \"error_y\": {\"color\": \"#2a3f5f\"}, \"marker\": {\"line\": {\"color\": \"white\", \"width\": 0.5}}, \"type\": \"bar\"}], \"barpolar\": [{\"marker\": {\"line\": {\"color\": \"white\", \"width\": 0.5}}, \"type\": \"barpolar\"}], \"carpet\": [{\"aaxis\": {\"endlinecolor\": \"#2a3f5f\", \"gridcolor\": \"#C8D4E3\", \"linecolor\": \"#C8D4E3\", \"minorgridcolor\": \"#C8D4E3\", \"startlinecolor\": \"#2a3f5f\"}, \"baxis\": {\"endlinecolor\": \"#2a3f5f\", \"gridcolor\": \"#C8D4E3\", \"linecolor\": \"#C8D4E3\", \"minorgridcolor\": \"#C8D4E3\", \"startlinecolor\": \"#2a3f5f\"}, \"type\": \"carpet\"}], \"choropleth\": [{\"colorbar\": {\"outlinewidth\": 0, \"ticks\": \"\"}, \"type\": \"choropleth\"}], \"contour\": [{\"colorbar\": {\"outlinewidth\": 0, \"ticks\": \"\"}, \"colorscale\": [[0.0, \"#0d0887\"], [0.1111111111111111, \"#46039f\"], [0.2222222222222222, \"#7201a8\"], [0.3333333333333333, \"#9c179e\"], [0.4444444444444444, \"#bd3786\"], [0.5555555555555556, \"#d8576b\"], [0.6666666666666666, \"#ed7953\"], [0.7777777777777778, \"#fb9f3a\"], [0.8888888888888888, \"#fdca26\"], [1.0, \"#f0f921\"]], \"type\": \"contour\"}], \"contourcarpet\": [{\"colorbar\": {\"outlinewidth\": 0, \"ticks\": \"\"}, \"type\": \"contourcarpet\"}], \"heatmap\": [{\"colorbar\": {\"outlinewidth\": 0, \"ticks\": \"\"}, \"colorscale\": [[0.0, \"#0d0887\"], [0.1111111111111111, \"#46039f\"], [0.2222222222222222, \"#7201a8\"], [0.3333333333333333, \"#9c179e\"], [0.4444444444444444, \"#bd3786\"], [0.5555555555555556, \"#d8576b\"], [0.6666666666666666, \"#ed7953\"], [0.7777777777777778, \"#fb9f3a\"], [0.8888888888888888, \"#fdca26\"], [1.0, \"#f0f921\"]], \"type\": \"heatmap\"}], \"heatmapgl\": [{\"colorbar\": {\"outlinewidth\": 0, \"ticks\": \"\"}, \"colorscale\": [[0.0, \"#0d0887\"], [0.1111111111111111, \"#46039f\"], [0.2222222222222222, \"#7201a8\"], [0.3333333333333333, \"#9c179e\"], [0.4444444444444444, \"#bd3786\"], [0.5555555555555556, \"#d8576b\"], [0.6666666666666666, \"#ed7953\"], [0.7777777777777778, \"#fb9f3a\"], [0.8888888888888888, \"#fdca26\"], [1.0, \"#f0f921\"]], \"type\": \"heatmapgl\"}], \"histogram\": [{\"marker\": {\"colorbar\": {\"outlinewidth\": 0, \"ticks\": \"\"}}, \"type\": \"histogram\"}], \"histogram2d\": [{\"colorbar\": {\"outlinewidth\": 0, \"ticks\": \"\"}, \"colorscale\": [[0.0, \"#0d0887\"], [0.1111111111111111, \"#46039f\"], [0.2222222222222222, \"#7201a8\"], [0.3333333333333333, \"#9c179e\"], [0.4444444444444444, \"#bd3786\"], [0.5555555555555556, \"#d8576b\"], [0.6666666666666666, \"#ed7953\"], [0.7777777777777778, \"#fb9f3a\"], [0.8888888888888888, \"#fdca26\"], [1.0, \"#f0f921\"]], \"type\": \"histogram2d\"}], \"histogram2dcontour\": [{\"colorbar\": {\"outlinewidth\": 0, \"ticks\": \"\"}, \"colorscale\": [[0.0, \"#0d0887\"], [0.1111111111111111, \"#46039f\"], [0.2222222222222222, \"#7201a8\"], [0.3333333333333333, \"#9c179e\"], [0.4444444444444444, \"#bd3786\"], [0.5555555555555556, \"#d8576b\"], [0.6666666666666666, \"#ed7953\"], [0.7777777777777778, \"#fb9f3a\"], [0.8888888888888888, \"#fdca26\"], [1.0, \"#f0f921\"]], \"type\": \"histogram2dcontour\"}], \"mesh3d\": [{\"colorbar\": {\"outlinewidth\": 0, \"ticks\": \"\"}, \"type\": \"mesh3d\"}], \"parcoords\": [{\"line\": {\"colorbar\": {\"outlinewidth\": 0, \"ticks\": \"\"}}, \"type\": \"parcoords\"}], \"pie\": [{\"automargin\": true, \"type\": \"pie\"}], \"scatter\": [{\"marker\": {\"colorbar\": {\"outlinewidth\": 0, \"ticks\": \"\"}}, \"type\": \"scatter\"}], \"scatter3d\": [{\"line\": {\"colorbar\": {\"outlinewidth\": 0, \"ticks\": \"\"}}, \"marker\": {\"colorbar\": {\"outlinewidth\": 0, \"ticks\": \"\"}}, \"type\": \"scatter3d\"}], \"scattercarpet\": [{\"marker\": {\"colorbar\": {\"outlinewidth\": 0, \"ticks\": \"\"}}, \"type\": \"scattercarpet\"}], \"scattergeo\": [{\"marker\": {\"colorbar\": {\"outlinewidth\": 0, \"ticks\": \"\"}}, \"type\": \"scattergeo\"}], \"scattergl\": [{\"marker\": {\"colorbar\": {\"outlinewidth\": 0, \"ticks\": \"\"}}, \"type\": \"scattergl\"}], \"scattermapbox\": [{\"marker\": {\"colorbar\": {\"outlinewidth\": 0, \"ticks\": \"\"}}, \"type\": \"scattermapbox\"}], \"scatterpolar\": [{\"marker\": {\"colorbar\": {\"outlinewidth\": 0, \"ticks\": \"\"}}, \"type\": \"scatterpolar\"}], \"scatterpolargl\": [{\"marker\": {\"colorbar\": {\"outlinewidth\": 0, \"ticks\": \"\"}}, \"type\": \"scatterpolargl\"}], \"scatterternary\": [{\"marker\": {\"colorbar\": {\"outlinewidth\": 0, \"ticks\": \"\"}}, \"type\": \"scatterternary\"}], \"surface\": [{\"colorbar\": {\"outlinewidth\": 0, \"ticks\": \"\"}, \"colorscale\": [[0.0, \"#0d0887\"], [0.1111111111111111, \"#46039f\"], [0.2222222222222222, \"#7201a8\"], [0.3333333333333333, \"#9c179e\"], [0.4444444444444444, \"#bd3786\"], [0.5555555555555556, \"#d8576b\"], [0.6666666666666666, \"#ed7953\"], [0.7777777777777778, \"#fb9f3a\"], [0.8888888888888888, \"#fdca26\"], [1.0, \"#f0f921\"]], \"type\": \"surface\"}], \"table\": [{\"cells\": {\"fill\": {\"color\": \"#EBF0F8\"}, \"line\": {\"color\": \"white\"}}, \"header\": {\"fill\": {\"color\": \"#C8D4E3\"}, \"line\": {\"color\": \"white\"}}, \"type\": \"table\"}]}, \"layout\": {\"annotationdefaults\": {\"arrowcolor\": \"#2a3f5f\", \"arrowhead\": 0, \"arrowwidth\": 1}, \"coloraxis\": {\"colorbar\": {\"outlinewidth\": 0, \"ticks\": \"\"}}, \"colorscale\": {\"diverging\": [[0, \"#8e0152\"], [0.1, \"#c51b7d\"], [0.2, \"#de77ae\"], [0.3, \"#f1b6da\"], [0.4, \"#fde0ef\"], [0.5, \"#f7f7f7\"], [0.6, \"#e6f5d0\"], [0.7, \"#b8e186\"], [0.8, \"#7fbc41\"], [0.9, \"#4d9221\"], [1, \"#276419\"]], \"sequential\": [[0.0, \"#0d0887\"], [0.1111111111111111, \"#46039f\"], [0.2222222222222222, \"#7201a8\"], [0.3333333333333333, \"#9c179e\"], [0.4444444444444444, \"#bd3786\"], [0.5555555555555556, \"#d8576b\"], [0.6666666666666666, \"#ed7953\"], [0.7777777777777778, \"#fb9f3a\"], [0.8888888888888888, \"#fdca26\"], [1.0, \"#f0f921\"]], \"sequentialminus\": [[0.0, \"#0d0887\"], [0.1111111111111111, \"#46039f\"], [0.2222222222222222, \"#7201a8\"], [0.3333333333333333, \"#9c179e\"], [0.4444444444444444, \"#bd3786\"], [0.5555555555555556, \"#d8576b\"], [0.6666666666666666, \"#ed7953\"], [0.7777777777777778, \"#fb9f3a\"], [0.8888888888888888, \"#fdca26\"], [1.0, \"#f0f921\"]]}, \"colorway\": [\"#636efa\", \"#EF553B\", \"#00cc96\", \"#ab63fa\", \"#FFA15A\", \"#19d3f3\", \"#FF6692\", \"#B6E880\", \"#FF97FF\", \"#FECB52\"], \"font\": {\"color\": \"#2a3f5f\"}, \"geo\": {\"bgcolor\": \"white\", \"lakecolor\": \"white\", \"landcolor\": \"white\", \"showlakes\": true, \"showland\": true, \"subunitcolor\": \"#C8D4E3\"}, \"hoverlabel\": {\"align\": \"left\"}, \"hovermode\": \"closest\", \"mapbox\": {\"style\": \"light\"}, \"paper_bgcolor\": \"white\", \"plot_bgcolor\": \"white\", \"polar\": {\"angularaxis\": {\"gridcolor\": \"#EBF0F8\", \"linecolor\": \"#EBF0F8\", \"ticks\": \"\"}, \"bgcolor\": \"white\", \"radialaxis\": {\"gridcolor\": \"#EBF0F8\", \"linecolor\": \"#EBF0F8\", \"ticks\": \"\"}}, \"scene\": {\"xaxis\": {\"backgroundcolor\": \"white\", \"gridcolor\": \"#DFE8F3\", \"gridwidth\": 2, \"linecolor\": \"#EBF0F8\", \"showbackground\": true, \"ticks\": \"\", \"zerolinecolor\": \"#EBF0F8\"}, \"yaxis\": {\"backgroundcolor\": \"white\", \"gridcolor\": \"#DFE8F3\", \"gridwidth\": 2, \"linecolor\": \"#EBF0F8\", \"showbackground\": true, \"ticks\": \"\", \"zerolinecolor\": \"#EBF0F8\"}, \"zaxis\": {\"backgroundcolor\": \"white\", \"gridcolor\": \"#DFE8F3\", \"gridwidth\": 2, \"linecolor\": \"#EBF0F8\", \"showbackground\": true, \"ticks\": \"\", \"zerolinecolor\": \"#EBF0F8\"}}, \"shapedefaults\": {\"line\": {\"color\": \"#2a3f5f\"}}, \"ternary\": {\"aaxis\": {\"gridcolor\": \"#DFE8F3\", \"linecolor\": \"#A2B1C6\", \"ticks\": \"\"}, \"baxis\": {\"gridcolor\": \"#DFE8F3\", \"linecolor\": \"#A2B1C6\", \"ticks\": \"\"}, \"bgcolor\": \"white\", \"caxis\": {\"gridcolor\": \"#DFE8F3\", \"linecolor\": \"#A2B1C6\", \"ticks\": \"\"}}, \"title\": {\"x\": 0.05}, \"xaxis\": {\"automargin\": true, \"gridcolor\": \"#EBF0F8\", \"linecolor\": \"#EBF0F8\", \"ticks\": \"\", \"title\": {\"standoff\": 15}, \"zerolinecolor\": \"#EBF0F8\", \"zerolinewidth\": 2}, \"yaxis\": {\"automargin\": true, \"gridcolor\": \"#EBF0F8\", \"linecolor\": \"#EBF0F8\", \"ticks\": \"\", \"title\": {\"standoff\": 15}, \"zerolinecolor\": \"#EBF0F8\", \"zerolinewidth\": 2}}}, \"title\": {\"text\": \"PCA plot groups\"}, \"width\": 700, \"xaxis\": {\"title\": {\"text\": \"PC1 (0.86)\"}}, \"yaxis\": {\"title\": {\"text\": \"PC2 (0.10)\"}}},\n",
       "                        {\"responsive\": true}\n",
       "                    ).then(function(){\n",
       "                            \n",
       "var gd = document.getElementById('500a24e3-d9bb-4065-8cfe-9d70ca32709b');\n",
       "var x = new MutationObserver(function (mutations, observer) {{\n",
       "        var display = window.getComputedStyle(gd).display;\n",
       "        if (!display || display === 'none') {{\n",
       "            console.log([gd, 'removed!']);\n",
       "            Plotly.purge(gd);\n",
       "            observer.disconnect();\n",
       "        }}\n",
       "}});\n",
       "\n",
       "// Listen for the removal of the full notebook cells\n",
       "var notebookContainer = gd.closest('#notebook-container');\n",
       "if (notebookContainer) {{\n",
       "    x.observe(notebookContainer, {childList: true});\n",
       "}}\n",
       "\n",
       "// Listen for the clearing of the current output cell\n",
       "var outputEl = gd.closest('.output');\n",
       "if (outputEl) {{\n",
       "    x.observe(outputEl, {childList: true});\n",
       "}}\n",
       "\n",
       "                        })\n",
       "                };\n",
       "                });\n",
       "            </script>\n",
       "        </div>"
      ]
     },
     "metadata": {},
     "output_type": "display_data"
    }
   ],
   "source": [
    "args.update({\"loadings\":15, \"title\":'PCA plot groups', 'height':600, 'width':700, 'factor':1})\n",
    "plot = viz.get_pca_plot(pca_result, identifier='pca', args=args)\n",
    "iplot(plot.figure)"
   ]
  },
  {
   "cell_type": "code",
   "execution_count": null,
   "metadata": {},
   "outputs": [],
   "source": []
  }
 ],
 "metadata": {
  "kernelspec": {
   "display_name": "Python 3",
   "language": "python",
   "name": "python3"
  },
  "language_info": {
   "codemirror_mode": {
    "name": "ipython",
    "version": 3
   },
   "file_extension": ".py",
   "mimetype": "text/x-python",
   "name": "python",
   "nbconvert_exporter": "python",
   "pygments_lexer": "ipython3",
   "version": "3.7.9"
  }
 },
 "nbformat": 4,
 "nbformat_minor": 4
}
