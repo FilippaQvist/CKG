{
 "cells": [
  {
   "cell_type": "code",
   "execution_count": 1,
   "metadata": {},
   "outputs": [],
   "source": [
    "import os\n",
    "import pandas as pd\n",
    "from datetime import datetime\n",
    "\n",
    "from graphdb_connector import connector"
   ]
  },
  {
   "cell_type": "code",
   "execution_count": null,
   "metadata": {},
   "outputs": [],
   "source": []
  },
  {
   "cell_type": "code",
   "execution_count": 2,
   "metadata": {},
   "outputs": [],
   "source": [
    "def create_sequence_alignment(query_fasta, taxid = \"9606\"):\n",
    "    '''\n",
    "    sstart means Start of alignment in subject\n",
    "    send means End of alignment in subject\n",
    "    qseq means Aligned part of query sequence\n",
    "    sseq means Aligned part of subject sequence'''\n",
    "    \n",
    "    import subprocess\n",
    "    outputFile = \"/\".join(query_fasta.split('/')[0:-1])+\"/alignment.fa\"\n",
    "    blast_request = \"blastp -query \"+query_fasta+\" -db ../../../../../../Databases/UniProt/\"+taxid+\" -evalue 1 -max_target_seqs 1 -num_threads 6 -outfmt \\\"6 qseqid sseqid sstart send qseq sseq\\\" -parse_deflines -out \"+outputFile\n",
    "    execution = subprocess.Popen(blast_request, stdout=subprocess.PIPE, stderr=subprocess.PIPE, shell=True)\n",
    "    stdout, stderr = execution.communicate()\n",
    "    if stderr != \"\":\n",
    "        print(stderr)\n",
    "        \n",
    "    return outputFile\n",
    "\n",
    "\n",
    "def build_mapping_from_alignment(alignment_file):\n",
    "    with open(alignment_file, 'r') as af:\n",
    "        df = pd.read_csv(af, sep='\\t', header=None)\n",
    "        df.columns = ['previous_id', 'new_id', 'start', 'end', 'previous_sequence', 'new_sequence']\n",
    "        df['new_id'] = [ident.split('|')[1] for ident in df['new_id']]\n",
    "        df = df[df['previous_id'] != df['new_id']]\n",
    "        idmapping = dict(zip(df['previous_id'], df['new_id']))\n",
    "        seqmapping = dict(zip(df['previous_id'], df['new_sequence']))\n",
    "        \n",
    "    return df, idmapping, seqmapping\n",
    "\n",
    "\n",
    "def graph_to_fasta(output_dir='tmp'):\n",
    "    now = datetime.now()\n",
    "    timestamp = str(datetime.timestamp(now))\n",
    "\n",
    "    output_file = os.path.join(output_dir, timestamp+\".fasta\")\n",
    "    query = \"MATCH (p:Protein)-[:HAS_SEQUENCE]-(s:Amino_acid_sequence) RETURN p.id AS protein, s.sequence AS sequence\"\n",
    "    \n",
    "    driver = connector.getGraphDatabaseConnectionConfiguration()\n",
    "    \n",
    "    table = connector.getCursorData(driver, query)\n",
    "    table_to_fasta(table, output_file)\n",
    "    \n",
    "    return output_file\n",
    "\n",
    "def table_to_fasta(table, output_file):\n",
    "    with open(output_file,'w') as out:\n",
    "        for i,r in table.iterrows():\n",
    "            out.write(\">\"+str(r['protein'])+\"\\n\"+str(r['sequence'])+\"\\n\")\n",
    "    "
   ]
  },
  {
   "cell_type": "code",
   "execution_count": 3,
   "metadata": {},
   "outputs": [
    {
     "name": "stdout",
     "output_type": "stream",
     "text": [
      "b'Warning: [blastp] Examining 5 or more matches is recommended\\nWarning: [blastp] Number of threads was reduced to 4 to match the number of available CPUs\\n'\n"
     ]
    }
   ],
   "source": [
    "query_fasta_file = graph_to_fasta()\n",
    "alignment_file = create_sequence_alignment(query_fasta_file, taxid = \"9606\")\n",
    "df, mapping_id, mapping_seq = build_mapping_from_alignment(alignment_file)"
   ]
  },
  {
   "cell_type": "code",
   "execution_count": 4,
   "metadata": {},
   "outputs": [
    {
     "data": {
      "text/plain": [
       "array(['MRLPAQLLGLLMLWVSGSSGDIVMTQSPLSLPVTPGEPASISCRSSQSLLHSNGYNYLDWYLQKPGQSPQLLIYLGSNRASGVPDRFSGSGSGTDFTLKISRVEAEDVGVYYCMQALQTP',\n",
       "       'MRLPAQLLGLLMLWVSGSSGDIVMTQSPLSLPVTPGEPASISCRSSQSLLHSNGYNYLDWYLQKPGQSPQLLIYLGSNRASGVPDRFSGSGSGTDFTLKISRVEAEDVGVYYCMQALQTP'],\n",
       "      dtype=object)"
      ]
     },
     "execution_count": 4,
     "metadata": {},
     "output_type": "execute_result"
    }
   ],
   "source": [
    "df.iloc[0][['previous_sequence', 'new_sequence']].values"
   ]
  },
  {
   "cell_type": "code",
   "execution_count": 10,
   "metadata": {
    "scrolled": false
   },
   "outputs": [
    {
     "ename": "KeyError",
     "evalue": "'A0A0U1RR20'",
     "output_type": "error",
     "traceback": [
      "\u001b[0;31m---------------------------------------------------------------------------\u001b[0m",
      "\u001b[0;31mKeyError\u001b[0m                                  Traceback (most recent call last)",
      "\u001b[0;32m<ipython-input-10-679ff4d7c99a>\u001b[0m in \u001b[0;36m<module>\u001b[0;34m\u001b[0m\n\u001b[0;32m----> 1\u001b[0;31m \u001b[0mmapping_id\u001b[0m\u001b[0;34m[\u001b[0m\u001b[0;34m'A0A0U1RR20'\u001b[0m\u001b[0;34m]\u001b[0m\u001b[0;34m\u001b[0m\u001b[0;34m\u001b[0m\u001b[0m\n\u001b[0m",
      "\u001b[0;31mKeyError\u001b[0m: 'A0A0U1RR20'"
     ]
    }
   ],
   "source": [
    "mapping_id['A0A0U1RR20']"
   ]
  }
 ],
 "metadata": {
  "kernelspec": {
   "display_name": "Python 3",
   "language": "python",
   "name": "python3"
  },
  "language_info": {
   "codemirror_mode": {
    "name": "ipython",
    "version": 3
   },
   "file_extension": ".py",
   "mimetype": "text/x-python",
   "name": "python",
   "nbconvert_exporter": "python",
   "pygments_lexer": "ipython3",
   "version": "3.7.3"
  }
 },
 "nbformat": 4,
 "nbformat_minor": 4
}
